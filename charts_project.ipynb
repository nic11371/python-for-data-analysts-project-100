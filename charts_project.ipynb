{
 "cells": [
  {
   "cell_type": "code",
   "execution_count": 1,
   "id": "87018ea9-2f9b-47bf-832b-eaa2ad61f720",
   "metadata": {},
   "outputs": [],
   "source": [
    "# Проект Дашборд конверсий"
   ]
  },
  {
   "cell_type": "code",
   "execution_count": 2,
   "id": "8bb583d8-85f0-4422-bbf7-06a785fb5797",
   "metadata": {},
   "outputs": [],
   "source": [
    "## Загрузка библиотек"
   ]
  },
  {
   "cell_type": "code",
   "execution_count": 157,
   "id": "5b6fefc3-8df1-413b-ae16-2091ee25a821",
   "metadata": {},
   "outputs": [],
   "source": [
    "import os\n",
    "import pandas as pd\n",
    "import requests as req\n",
    "import matplotlib.pyplot as plt\n",
    "import seaborn as sns\n",
    "import plotly.express as px\n",
    "from dotenv import load_dotenv\n",
    "\n",
    "load_dotenv()\n",
    "\n",
    "DATE_BEGIN = os.getenv('DATE_BEGIN')\n",
    "DATE_END = os.getenv('DATE_END')\n",
    "API_URL = os.getenv('API_URL')\n",
    "\n",
    "resp = req.get(f'{API_URL}/registrations', params={'begin': DATE_BEGIN, 'end': DATE_END})\n",
    "resp_visits = req.get(f'{API_URL}/visits', params={'begin': DATE_BEGIN, 'end': DATE_END})"
   ]
  },
  {
   "cell_type": "code",
   "execution_count": 158,
   "id": "8544ad62-37bd-49cb-90b4-2fbb0c0b68a3",
   "metadata": {},
   "outputs": [],
   "source": [
    "## Чтение и выборка зарегистрированных и посещаемых пользователей"
   ]
  },
  {
   "cell_type": "code",
   "execution_count": 159,
   "id": "4e2409c5-305c-4216-a792-96a8a8ac7d9e",
   "metadata": {},
   "outputs": [],
   "source": [
    "visitors = pd.DataFrame(resp_visits.json())\n",
    "regs = pd.DataFrame(resp.json())\n",
    "visitors['datetime'] = pd.to_datetime(visitors['datetime']).dt.date\n",
    "regs['datetime'] = pd.to_datetime(regs['datetime']).dt.date"
   ]
  },
  {
   "cell_type": "code",
   "execution_count": 160,
   "id": "b7a16062-52c3-43e1-8766-ab9ceeb0cfa6",
   "metadata": {},
   "outputs": [
    {
     "data": {
      "text/html": [
       "<div>\n",
       "<style scoped>\n",
       "    .dataframe tbody tr th:only-of-type {\n",
       "        vertical-align: middle;\n",
       "    }\n",
       "\n",
       "    .dataframe tbody tr th {\n",
       "        vertical-align: top;\n",
       "    }\n",
       "\n",
       "    .dataframe thead th {\n",
       "        text-align: right;\n",
       "    }\n",
       "</style>\n",
       "<table border=\"1\" class=\"dataframe\">\n",
       "  <thead>\n",
       "    <tr style=\"text-align: right;\">\n",
       "      <th></th>\n",
       "      <th>datetime</th>\n",
       "      <th>user_id</th>\n",
       "      <th>email</th>\n",
       "      <th>platform</th>\n",
       "      <th>registration_type</th>\n",
       "    </tr>\n",
       "  </thead>\n",
       "  <tbody>\n",
       "    <tr>\n",
       "      <th>0</th>\n",
       "      <td>2023-03-01</td>\n",
       "      <td>2e0f6bb8-b029-4f45-a786-2b53990d37f1</td>\n",
       "      <td>ebyrd@example.org</td>\n",
       "      <td>web</td>\n",
       "      <td>google</td>\n",
       "    </tr>\n",
       "    <tr>\n",
       "      <th>1</th>\n",
       "      <td>2023-03-01</td>\n",
       "      <td>f007f97c-9d8b-48b5-af08-119bb8f6d9b6</td>\n",
       "      <td>knightgerald@example.org</td>\n",
       "      <td>web</td>\n",
       "      <td>email</td>\n",
       "    </tr>\n",
       "    <tr>\n",
       "      <th>2</th>\n",
       "      <td>2023-03-01</td>\n",
       "      <td>24ff46ae-32b3-4a74-8f27-7cf0b8f32f15</td>\n",
       "      <td>cherylthompson@example.com</td>\n",
       "      <td>web</td>\n",
       "      <td>apple</td>\n",
       "    </tr>\n",
       "    <tr>\n",
       "      <th>3</th>\n",
       "      <td>2023-03-01</td>\n",
       "      <td>3e9914e1-5d73-4c23-b25d-b59a3aeb2b60</td>\n",
       "      <td>halldavid@example.org</td>\n",
       "      <td>web</td>\n",
       "      <td>email</td>\n",
       "    </tr>\n",
       "    <tr>\n",
       "      <th>4</th>\n",
       "      <td>2023-03-01</td>\n",
       "      <td>27f875fc-f8ce-4aeb-8722-0ecb283d0760</td>\n",
       "      <td>denise86@example.net</td>\n",
       "      <td>web</td>\n",
       "      <td>google</td>\n",
       "    </tr>\n",
       "  </tbody>\n",
       "</table>\n",
       "</div>"
      ],
      "text/plain": [
       "     datetime                               user_id  \\\n",
       "0  2023-03-01  2e0f6bb8-b029-4f45-a786-2b53990d37f1   \n",
       "1  2023-03-01  f007f97c-9d8b-48b5-af08-119bb8f6d9b6   \n",
       "2  2023-03-01  24ff46ae-32b3-4a74-8f27-7cf0b8f32f15   \n",
       "3  2023-03-01  3e9914e1-5d73-4c23-b25d-b59a3aeb2b60   \n",
       "4  2023-03-01  27f875fc-f8ce-4aeb-8722-0ecb283d0760   \n",
       "\n",
       "                        email platform registration_type  \n",
       "0           ebyrd@example.org      web            google  \n",
       "1    knightgerald@example.org      web             email  \n",
       "2  cherylthompson@example.com      web             apple  \n",
       "3       halldavid@example.org      web             email  \n",
       "4        denise86@example.net      web            google  "
      ]
     },
     "execution_count": 160,
     "metadata": {},
     "output_type": "execute_result"
    }
   ],
   "source": [
    "regs.head()"
   ]
  },
  {
   "cell_type": "code",
   "execution_count": 161,
   "id": "d341f6e8-a518-4c01-8571-c2469ee83d18",
   "metadata": {},
   "outputs": [
    {
     "data": {
      "text/html": [
       "<div>\n",
       "<style scoped>\n",
       "    .dataframe tbody tr th:only-of-type {\n",
       "        vertical-align: middle;\n",
       "    }\n",
       "\n",
       "    .dataframe tbody tr th {\n",
       "        vertical-align: top;\n",
       "    }\n",
       "\n",
       "    .dataframe thead th {\n",
       "        text-align: right;\n",
       "    }\n",
       "</style>\n",
       "<table border=\"1\" class=\"dataframe\">\n",
       "  <thead>\n",
       "    <tr style=\"text-align: right;\">\n",
       "      <th></th>\n",
       "      <th>visit_id</th>\n",
       "      <th>platform</th>\n",
       "      <th>user_agent</th>\n",
       "      <th>datetime</th>\n",
       "    </tr>\n",
       "  </thead>\n",
       "  <tbody>\n",
       "    <tr>\n",
       "      <th>0</th>\n",
       "      <td>1de9ea66-70d3-4a1f-8735-df5ef7697fb9</td>\n",
       "      <td>web</td>\n",
       "      <td>Mozilla/5.0 (Windows NT 10.0; Win64; x64) Appl...</td>\n",
       "      <td>2023-03-01</td>\n",
       "    </tr>\n",
       "    <tr>\n",
       "      <th>1</th>\n",
       "      <td>f149f542-e935-4870-9734-6b4501eaf614</td>\n",
       "      <td>web</td>\n",
       "      <td>Mozilla/5.0 (Windows NT 10.0; WOW64; Trident/7...</td>\n",
       "      <td>2023-03-01</td>\n",
       "    </tr>\n",
       "    <tr>\n",
       "      <th>2</th>\n",
       "      <td>08f0ebd4-950c-4dd9-8e97-b5bdf073eed1</td>\n",
       "      <td>web</td>\n",
       "      <td>Mozilla/5.0 (Macintosh; Intel Mac OS X 10_11_2...</td>\n",
       "      <td>2023-03-01</td>\n",
       "    </tr>\n",
       "    <tr>\n",
       "      <th>3</th>\n",
       "      <td>19322fed-157c-49c6-b16e-2d5cabeb9592</td>\n",
       "      <td>web</td>\n",
       "      <td>Mozilla/5.0 (Macintosh; Intel Mac OS X 10_15_7...</td>\n",
       "      <td>2023-03-01</td>\n",
       "    </tr>\n",
       "    <tr>\n",
       "      <th>4</th>\n",
       "      <td>04762a22-3c9f-40c9-9ac9-6628c4381836</td>\n",
       "      <td>web</td>\n",
       "      <td>Mozilla/5.0 (Windows NT 10.0; Win64; x64) Appl...</td>\n",
       "      <td>2023-03-01</td>\n",
       "    </tr>\n",
       "    <tr>\n",
       "      <th>5</th>\n",
       "      <td>040e1e30-c9ed-4248-bc97-99a707e36d60</td>\n",
       "      <td>web</td>\n",
       "      <td>Mozilla/5.0 (Windows NT 10.0; Win64; x64) Appl...</td>\n",
       "      <td>2023-03-01</td>\n",
       "    </tr>\n",
       "    <tr>\n",
       "      <th>6</th>\n",
       "      <td>7bf78a4d-9f8f-4ffb-a5f8-0a0a58994953</td>\n",
       "      <td>web</td>\n",
       "      <td>Mozilla/5.0 (Windows NT 10.0; Win64; x64) Appl...</td>\n",
       "      <td>2023-03-01</td>\n",
       "    </tr>\n",
       "    <tr>\n",
       "      <th>7</th>\n",
       "      <td>175e9941-2607-4d5f-b6ab-14759da618fd</td>\n",
       "      <td>web</td>\n",
       "      <td>Mozilla/5.0 (Windows NT 10.0; Win64; x64) Appl...</td>\n",
       "      <td>2023-03-01</td>\n",
       "    </tr>\n",
       "    <tr>\n",
       "      <th>8</th>\n",
       "      <td>d868c2cf-1d4a-4b12-b6a2-0bb02edf0743</td>\n",
       "      <td>web</td>\n",
       "      <td>Mozilla/5.0 (Windows NT 6.1; WOW64) AppleWebKi...</td>\n",
       "      <td>2023-03-01</td>\n",
       "    </tr>\n",
       "    <tr>\n",
       "      <th>9</th>\n",
       "      <td>e1668271-7c9b-4fae-80ca-17b703be0e66</td>\n",
       "      <td>web</td>\n",
       "      <td>Mozilla/5.0 (Windows NT 10.0; Win64; x64; rv:1...</td>\n",
       "      <td>2023-03-01</td>\n",
       "    </tr>\n",
       "  </tbody>\n",
       "</table>\n",
       "</div>"
      ],
      "text/plain": [
       "                               visit_id platform  \\\n",
       "0  1de9ea66-70d3-4a1f-8735-df5ef7697fb9      web   \n",
       "1  f149f542-e935-4870-9734-6b4501eaf614      web   \n",
       "2  08f0ebd4-950c-4dd9-8e97-b5bdf073eed1      web   \n",
       "3  19322fed-157c-49c6-b16e-2d5cabeb9592      web   \n",
       "4  04762a22-3c9f-40c9-9ac9-6628c4381836      web   \n",
       "5  040e1e30-c9ed-4248-bc97-99a707e36d60      web   \n",
       "6  7bf78a4d-9f8f-4ffb-a5f8-0a0a58994953      web   \n",
       "7  175e9941-2607-4d5f-b6ab-14759da618fd      web   \n",
       "8  d868c2cf-1d4a-4b12-b6a2-0bb02edf0743      web   \n",
       "9  e1668271-7c9b-4fae-80ca-17b703be0e66      web   \n",
       "\n",
       "                                          user_agent    datetime  \n",
       "0  Mozilla/5.0 (Windows NT 10.0; Win64; x64) Appl...  2023-03-01  \n",
       "1  Mozilla/5.0 (Windows NT 10.0; WOW64; Trident/7...  2023-03-01  \n",
       "2  Mozilla/5.0 (Macintosh; Intel Mac OS X 10_11_2...  2023-03-01  \n",
       "3  Mozilla/5.0 (Macintosh; Intel Mac OS X 10_15_7...  2023-03-01  \n",
       "4  Mozilla/5.0 (Windows NT 10.0; Win64; x64) Appl...  2023-03-01  \n",
       "5  Mozilla/5.0 (Windows NT 10.0; Win64; x64) Appl...  2023-03-01  \n",
       "6  Mozilla/5.0 (Windows NT 10.0; Win64; x64) Appl...  2023-03-01  \n",
       "7  Mozilla/5.0 (Windows NT 10.0; Win64; x64) Appl...  2023-03-01  \n",
       "8  Mozilla/5.0 (Windows NT 6.1; WOW64) AppleWebKi...  2023-03-01  \n",
       "9  Mozilla/5.0 (Windows NT 10.0; Win64; x64; rv:1...  2023-03-01  "
      ]
     },
     "execution_count": 161,
     "metadata": {},
     "output_type": "execute_result"
    }
   ],
   "source": [
    "visitors.head(10)"
   ]
  },
  {
   "cell_type": "code",
   "execution_count": 162,
   "id": "dfa19d14-630a-406a-a08f-af2306d7bba9",
   "metadata": {},
   "outputs": [],
   "source": [
    "## Анализ зарегистрированных пользователей"
   ]
  },
  {
   "cell_type": "code",
   "execution_count": 163,
   "id": "06ec9097-1ca2-4d22-9c6c-624874554d32",
   "metadata": {},
   "outputs": [
    {
     "data": {
      "text/html": [
       "<div>\n",
       "<style scoped>\n",
       "    .dataframe tbody tr th:only-of-type {\n",
       "        vertical-align: middle;\n",
       "    }\n",
       "\n",
       "    .dataframe tbody tr th {\n",
       "        vertical-align: top;\n",
       "    }\n",
       "\n",
       "    .dataframe thead th {\n",
       "        text-align: right;\n",
       "    }\n",
       "</style>\n",
       "<table border=\"1\" class=\"dataframe\">\n",
       "  <thead>\n",
       "    <tr style=\"text-align: right;\">\n",
       "      <th></th>\n",
       "      <th>visit_id</th>\n",
       "      <th>platform</th>\n",
       "      <th>user_agent</th>\n",
       "      <th>datetime</th>\n",
       "    </tr>\n",
       "  </thead>\n",
       "  <tbody>\n",
       "    <tr>\n",
       "      <th>count</th>\n",
       "      <td>91997</td>\n",
       "      <td>91997</td>\n",
       "      <td>91997</td>\n",
       "      <td>91997</td>\n",
       "    </tr>\n",
       "    <tr>\n",
       "      <th>unique</th>\n",
       "      <td>51795</td>\n",
       "      <td>4</td>\n",
       "      <td>32</td>\n",
       "      <td>61</td>\n",
       "    </tr>\n",
       "    <tr>\n",
       "      <th>top</th>\n",
       "      <td>f88401d7-1409-4415-baf2-3cbff664f4d0</td>\n",
       "      <td>web</td>\n",
       "      <td>Mozilla/5.0 (X11; Ubuntu; Linux x86_64; rv:109...</td>\n",
       "      <td>2023-03-08</td>\n",
       "    </tr>\n",
       "    <tr>\n",
       "      <th>freq</th>\n",
       "      <td>4</td>\n",
       "      <td>82492</td>\n",
       "      <td>4833</td>\n",
       "      <td>2624</td>\n",
       "    </tr>\n",
       "  </tbody>\n",
       "</table>\n",
       "</div>"
      ],
      "text/plain": [
       "                                    visit_id platform  \\\n",
       "count                                  91997    91997   \n",
       "unique                                 51795        4   \n",
       "top     f88401d7-1409-4415-baf2-3cbff664f4d0      web   \n",
       "freq                                       4    82492   \n",
       "\n",
       "                                               user_agent    datetime  \n",
       "count                                               91997       91997  \n",
       "unique                                                 32          61  \n",
       "top     Mozilla/5.0 (X11; Ubuntu; Linux x86_64; rv:109...  2023-03-08  \n",
       "freq                                                 4833        2624  "
      ]
     },
     "execution_count": 163,
     "metadata": {},
     "output_type": "execute_result"
    }
   ],
   "source": [
    "visitors.describe()"
   ]
  },
  {
   "cell_type": "code",
   "execution_count": 164,
   "id": "1f4504ab-d1a9-47f9-9eca-9ba13e7ed2e1",
   "metadata": {},
   "outputs": [],
   "source": [
    "## Анализ посещаемых пользователей"
   ]
  },
  {
   "cell_type": "code",
   "execution_count": 165,
   "id": "764c25e7-aa52-48b9-9707-03f8d8eee664",
   "metadata": {},
   "outputs": [
    {
     "data": {
      "text/html": [
       "<div>\n",
       "<style scoped>\n",
       "    .dataframe tbody tr th:only-of-type {\n",
       "        vertical-align: middle;\n",
       "    }\n",
       "\n",
       "    .dataframe tbody tr th {\n",
       "        vertical-align: top;\n",
       "    }\n",
       "\n",
       "    .dataframe thead th {\n",
       "        text-align: right;\n",
       "    }\n",
       "</style>\n",
       "<table border=\"1\" class=\"dataframe\">\n",
       "  <thead>\n",
       "    <tr style=\"text-align: right;\">\n",
       "      <th></th>\n",
       "      <th>datetime</th>\n",
       "      <th>user_id</th>\n",
       "      <th>email</th>\n",
       "      <th>platform</th>\n",
       "      <th>registration_type</th>\n",
       "    </tr>\n",
       "  </thead>\n",
       "  <tbody>\n",
       "    <tr>\n",
       "      <th>count</th>\n",
       "      <td>8179</td>\n",
       "      <td>8179</td>\n",
       "      <td>8179</td>\n",
       "      <td>8179</td>\n",
       "      <td>8179</td>\n",
       "    </tr>\n",
       "    <tr>\n",
       "      <th>unique</th>\n",
       "      <td>61</td>\n",
       "      <td>8179</td>\n",
       "      <td>8023</td>\n",
       "      <td>3</td>\n",
       "      <td>4</td>\n",
       "    </tr>\n",
       "    <tr>\n",
       "      <th>top</th>\n",
       "      <td>2023-03-06</td>\n",
       "      <td>2e0f6bb8-b029-4f45-a786-2b53990d37f1</td>\n",
       "      <td>csmith@example.org</td>\n",
       "      <td>android</td>\n",
       "      <td>email</td>\n",
       "    </tr>\n",
       "    <tr>\n",
       "      <th>freq</th>\n",
       "      <td>230</td>\n",
       "      <td>1</td>\n",
       "      <td>4</td>\n",
       "      <td>3895</td>\n",
       "      <td>3362</td>\n",
       "    </tr>\n",
       "  </tbody>\n",
       "</table>\n",
       "</div>"
      ],
      "text/plain": [
       "          datetime                               user_id               email  \\\n",
       "count         8179                                  8179                8179   \n",
       "unique          61                                  8179                8023   \n",
       "top     2023-03-06  2e0f6bb8-b029-4f45-a786-2b53990d37f1  csmith@example.org   \n",
       "freq           230                                     1                   4   \n",
       "\n",
       "       platform registration_type  \n",
       "count      8179              8179  \n",
       "unique        3                 4  \n",
       "top     android             email  \n",
       "freq       3895              3362  "
      ]
     },
     "execution_count": 165,
     "metadata": {},
     "output_type": "execute_result"
    }
   ],
   "source": [
    "regs.describe()"
   ]
  },
  {
   "cell_type": "code",
   "execution_count": 166,
   "id": "85c5f67f-b08b-4231-a8d9-49db3f3b79b4",
   "metadata": {},
   "outputs": [],
   "source": [
    "## Регистрация уникальных пользователей"
   ]
  },
  {
   "cell_type": "code",
   "execution_count": 167,
   "id": "e469110f-c482-41cb-ad0a-138e1f4901e2",
   "metadata": {},
   "outputs": [],
   "source": [
    "visitors = visitors.drop_duplicates(subset=\"visit_id\", keep=\"last\")\n",
    "# visitors = visitors[~visitors['platform'].isin(['bot'])]\n",
    "visitors = visitors[visitors['user_agent'].apply(lambda x: 'bot' not in x)]"
   ]
  },
  {
   "cell_type": "code",
   "execution_count": 168,
   "id": "b9b2ca31-ca70-49fe-b72f-40b6806786d1",
   "metadata": {},
   "outputs": [],
   "source": [
    "## Группировка пользователей"
   ]
  },
  {
   "cell_type": "code",
   "execution_count": 169,
   "id": "0890f39a-406f-4dc8-9af7-d7f3682b3c3b",
   "metadata": {},
   "outputs": [],
   "source": [
    "grouped_regs = regs.groupby(['platform', 'datetime'])['datetime'].count().reset_index(name='registrations')"
   ]
  },
  {
   "cell_type": "code",
   "execution_count": 180,
   "id": "5d81345f-6730-4a55-bd75-f3192d70b77d",
   "metadata": {},
   "outputs": [],
   "source": [
    "grouped_visitors = visitors.groupby(['platform', 'datetime'])['datetime'].count().reset_index(name='visits')"
   ]
  },
  {
   "cell_type": "code",
   "execution_count": 181,
   "id": "4289243a-988e-4f7b-abcb-0bff067920ea",
   "metadata": {},
   "outputs": [
    {
     "data": {
      "text/html": [
       "<div>\n",
       "<style scoped>\n",
       "    .dataframe tbody tr th:only-of-type {\n",
       "        vertical-align: middle;\n",
       "    }\n",
       "\n",
       "    .dataframe tbody tr th {\n",
       "        vertical-align: top;\n",
       "    }\n",
       "\n",
       "    .dataframe thead th {\n",
       "        text-align: right;\n",
       "    }\n",
       "</style>\n",
       "<table border=\"1\" class=\"dataframe\">\n",
       "  <thead>\n",
       "    <tr style=\"text-align: right;\">\n",
       "      <th></th>\n",
       "      <th>platform</th>\n",
       "      <th>datetime</th>\n",
       "      <th>registrations</th>\n",
       "    </tr>\n",
       "  </thead>\n",
       "  <tbody>\n",
       "    <tr>\n",
       "      <th>0</th>\n",
       "      <td>android</td>\n",
       "      <td>2023-03-01</td>\n",
       "      <td>61</td>\n",
       "    </tr>\n",
       "    <tr>\n",
       "      <th>1</th>\n",
       "      <td>android</td>\n",
       "      <td>2023-03-02</td>\n",
       "      <td>59</td>\n",
       "    </tr>\n",
       "    <tr>\n",
       "      <th>2</th>\n",
       "      <td>android</td>\n",
       "      <td>2023-03-03</td>\n",
       "      <td>22</td>\n",
       "    </tr>\n",
       "    <tr>\n",
       "      <th>3</th>\n",
       "      <td>android</td>\n",
       "      <td>2023-03-04</td>\n",
       "      <td>77</td>\n",
       "    </tr>\n",
       "    <tr>\n",
       "      <th>4</th>\n",
       "      <td>android</td>\n",
       "      <td>2023-03-05</td>\n",
       "      <td>54</td>\n",
       "    </tr>\n",
       "  </tbody>\n",
       "</table>\n",
       "</div>"
      ],
      "text/plain": [
       "  platform    datetime  registrations\n",
       "0  android  2023-03-01             61\n",
       "1  android  2023-03-02             59\n",
       "2  android  2023-03-03             22\n",
       "3  android  2023-03-04             77\n",
       "4  android  2023-03-05             54"
      ]
     },
     "execution_count": 181,
     "metadata": {},
     "output_type": "execute_result"
    }
   ],
   "source": [
    "grouped_regs.head()"
   ]
  },
  {
   "cell_type": "code",
   "execution_count": 182,
   "id": "d3b39383-80d8-46d1-98d1-5385cbf9756e",
   "metadata": {},
   "outputs": [
    {
     "data": {
      "text/html": [
       "<div>\n",
       "<style scoped>\n",
       "    .dataframe tbody tr th:only-of-type {\n",
       "        vertical-align: middle;\n",
       "    }\n",
       "\n",
       "    .dataframe tbody tr th {\n",
       "        vertical-align: top;\n",
       "    }\n",
       "\n",
       "    .dataframe thead th {\n",
       "        text-align: right;\n",
       "    }\n",
       "</style>\n",
       "<table border=\"1\" class=\"dataframe\">\n",
       "  <thead>\n",
       "    <tr style=\"text-align: right;\">\n",
       "      <th></th>\n",
       "      <th>platform</th>\n",
       "      <th>datetime</th>\n",
       "      <th>visits</th>\n",
       "    </tr>\n",
       "  </thead>\n",
       "  <tbody>\n",
       "    <tr>\n",
       "      <th>0</th>\n",
       "      <td>android</td>\n",
       "      <td>2023-03-01</td>\n",
       "      <td>75</td>\n",
       "    </tr>\n",
       "    <tr>\n",
       "      <th>1</th>\n",
       "      <td>android</td>\n",
       "      <td>2023-03-02</td>\n",
       "      <td>67</td>\n",
       "    </tr>\n",
       "    <tr>\n",
       "      <th>2</th>\n",
       "      <td>android</td>\n",
       "      <td>2023-03-03</td>\n",
       "      <td>26</td>\n",
       "    </tr>\n",
       "    <tr>\n",
       "      <th>3</th>\n",
       "      <td>android</td>\n",
       "      <td>2023-03-04</td>\n",
       "      <td>94</td>\n",
       "    </tr>\n",
       "    <tr>\n",
       "      <th>4</th>\n",
       "      <td>android</td>\n",
       "      <td>2023-03-05</td>\n",
       "      <td>66</td>\n",
       "    </tr>\n",
       "    <tr>\n",
       "      <th>...</th>\n",
       "      <td>...</td>\n",
       "      <td>...</td>\n",
       "      <td>...</td>\n",
       "    </tr>\n",
       "    <tr>\n",
       "      <th>95</th>\n",
       "      <td>ios</td>\n",
       "      <td>2023-04-04</td>\n",
       "      <td>33</td>\n",
       "    </tr>\n",
       "    <tr>\n",
       "      <th>96</th>\n",
       "      <td>ios</td>\n",
       "      <td>2023-04-05</td>\n",
       "      <td>28</td>\n",
       "    </tr>\n",
       "    <tr>\n",
       "      <th>97</th>\n",
       "      <td>ios</td>\n",
       "      <td>2023-04-06</td>\n",
       "      <td>24</td>\n",
       "    </tr>\n",
       "    <tr>\n",
       "      <th>98</th>\n",
       "      <td>ios</td>\n",
       "      <td>2023-04-07</td>\n",
       "      <td>56</td>\n",
       "    </tr>\n",
       "    <tr>\n",
       "      <th>99</th>\n",
       "      <td>ios</td>\n",
       "      <td>2023-04-08</td>\n",
       "      <td>26</td>\n",
       "    </tr>\n",
       "  </tbody>\n",
       "</table>\n",
       "<p>100 rows × 3 columns</p>\n",
       "</div>"
      ],
      "text/plain": [
       "   platform    datetime  visits\n",
       "0   android  2023-03-01      75\n",
       "1   android  2023-03-02      67\n",
       "2   android  2023-03-03      26\n",
       "3   android  2023-03-04      94\n",
       "4   android  2023-03-05      66\n",
       "..      ...         ...     ...\n",
       "95      ios  2023-04-04      33\n",
       "96      ios  2023-04-05      28\n",
       "97      ios  2023-04-06      24\n",
       "98      ios  2023-04-07      56\n",
       "99      ios  2023-04-08      26\n",
       "\n",
       "[100 rows x 3 columns]"
      ]
     },
     "execution_count": 182,
     "metadata": {},
     "output_type": "execute_result"
    }
   ],
   "source": [
    "grouped_visitors.head(100)"
   ]
  },
  {
   "cell_type": "code",
   "execution_count": 183,
   "id": "77b0fa91-82bf-45b5-9b5b-3c951baf37f8",
   "metadata": {},
   "outputs": [],
   "source": [
    "## Соединение таблиц и расчет конверсии"
   ]
  },
  {
   "cell_type": "code",
   "execution_count": 184,
   "id": "2517cd59-e38f-4b61-aef3-4844a4bf66c0",
   "metadata": {},
   "outputs": [],
   "source": [
    "conversion = pd.merge(\n",
    "    grouped_visitors, grouped_regs\n",
    ")\n",
    "conversion = conversion.rename(columns={'datetime': 'date_group'})\n",
    "conversion['conversion'] = (conversion['registrations'] / conversion['visits']) * 100\n",
    "conversion.sort_values(by='date_group', inplace=True)\n",
    "conversion.to_json('./conversion.json')"
   ]
  },
  {
   "cell_type": "code",
   "execution_count": 185,
   "id": "b47a9b0c-3a69-42f7-9445-0332f1c8f4bc",
   "metadata": {},
   "outputs": [
    {
     "data": {
      "text/html": [
       "<div>\n",
       "<style scoped>\n",
       "    .dataframe tbody tr th:only-of-type {\n",
       "        vertical-align: middle;\n",
       "    }\n",
       "\n",
       "    .dataframe tbody tr th {\n",
       "        vertical-align: top;\n",
       "    }\n",
       "\n",
       "    .dataframe thead th {\n",
       "        text-align: right;\n",
       "    }\n",
       "</style>\n",
       "<table border=\"1\" class=\"dataframe\">\n",
       "  <thead>\n",
       "    <tr style=\"text-align: right;\">\n",
       "      <th></th>\n",
       "      <th>platform</th>\n",
       "      <th>date_group</th>\n",
       "      <th>visits</th>\n",
       "      <th>registrations</th>\n",
       "      <th>conversion</th>\n",
       "    </tr>\n",
       "  </thead>\n",
       "  <tbody>\n",
       "    <tr>\n",
       "      <th>0</th>\n",
       "      <td>android</td>\n",
       "      <td>2023-03-01</td>\n",
       "      <td>75</td>\n",
       "      <td>61</td>\n",
       "      <td>81.333333</td>\n",
       "    </tr>\n",
       "    <tr>\n",
       "      <th>61</th>\n",
       "      <td>ios</td>\n",
       "      <td>2023-03-01</td>\n",
       "      <td>22</td>\n",
       "      <td>18</td>\n",
       "      <td>81.818182</td>\n",
       "    </tr>\n",
       "    <tr>\n",
       "      <th>122</th>\n",
       "      <td>web</td>\n",
       "      <td>2023-03-01</td>\n",
       "      <td>787</td>\n",
       "      <td>8</td>\n",
       "      <td>1.016518</td>\n",
       "    </tr>\n",
       "    <tr>\n",
       "      <th>1</th>\n",
       "      <td>android</td>\n",
       "      <td>2023-03-02</td>\n",
       "      <td>67</td>\n",
       "      <td>59</td>\n",
       "      <td>88.059701</td>\n",
       "    </tr>\n",
       "    <tr>\n",
       "      <th>62</th>\n",
       "      <td>ios</td>\n",
       "      <td>2023-03-02</td>\n",
       "      <td>31</td>\n",
       "      <td>24</td>\n",
       "      <td>77.419355</td>\n",
       "    </tr>\n",
       "  </tbody>\n",
       "</table>\n",
       "</div>"
      ],
      "text/plain": [
       "    platform  date_group  visits  registrations  conversion\n",
       "0    android  2023-03-01      75             61   81.333333\n",
       "61       ios  2023-03-01      22             18   81.818182\n",
       "122      web  2023-03-01     787              8    1.016518\n",
       "1    android  2023-03-02      67             59   88.059701\n",
       "62       ios  2023-03-02      31             24   77.419355"
      ]
     },
     "execution_count": 185,
     "metadata": {},
     "output_type": "execute_result"
    }
   ],
   "source": [
    "conversion.head()"
   ]
  },
  {
   "cell_type": "code",
   "execution_count": 186,
   "id": "7c85bc0e-4e49-4b31-b083-34694717250c",
   "metadata": {},
   "outputs": [],
   "source": [
    "## Группируем и аггрегируем столбцы по дате"
   ]
  },
  {
   "cell_type": "code",
   "execution_count": 187,
   "id": "07602682-07a5-49bb-b148-091f36c650d4",
   "metadata": {},
   "outputs": [
    {
     "data": {
      "text/html": [
       "<div>\n",
       "<style scoped>\n",
       "    .dataframe tbody tr th:only-of-type {\n",
       "        vertical-align: middle;\n",
       "    }\n",
       "\n",
       "    .dataframe tbody tr th {\n",
       "        vertical-align: top;\n",
       "    }\n",
       "\n",
       "    .dataframe thead th {\n",
       "        text-align: right;\n",
       "    }\n",
       "</style>\n",
       "<table border=\"1\" class=\"dataframe\">\n",
       "  <thead>\n",
       "    <tr style=\"text-align: right;\">\n",
       "      <th></th>\n",
       "      <th>date_group</th>\n",
       "      <th>platform</th>\n",
       "      <th>visits</th>\n",
       "      <th>registrations</th>\n",
       "      <th>conversion</th>\n",
       "    </tr>\n",
       "  </thead>\n",
       "  <tbody>\n",
       "    <tr>\n",
       "      <th>0</th>\n",
       "      <td>2023-03-01</td>\n",
       "      <td>androidiosweb</td>\n",
       "      <td>884</td>\n",
       "      <td>87</td>\n",
       "      <td>164.168034</td>\n",
       "    </tr>\n",
       "    <tr>\n",
       "      <th>1</th>\n",
       "      <td>2023-03-02</td>\n",
       "      <td>androidiosweb</td>\n",
       "      <td>1050</td>\n",
       "      <td>106</td>\n",
       "      <td>167.895023</td>\n",
       "    </tr>\n",
       "    <tr>\n",
       "      <th>2</th>\n",
       "      <td>2023-03-03</td>\n",
       "      <td>androidiosweb</td>\n",
       "      <td>1147</td>\n",
       "      <td>107</td>\n",
       "      <td>174.333238</td>\n",
       "    </tr>\n",
       "    <tr>\n",
       "      <th>3</th>\n",
       "      <td>2023-03-04</td>\n",
       "      <td>androidiosweb</td>\n",
       "      <td>1232</td>\n",
       "      <td>159</td>\n",
       "      <td>148.795048</td>\n",
       "    </tr>\n",
       "    <tr>\n",
       "      <th>4</th>\n",
       "      <td>2023-03-05</td>\n",
       "      <td>ioswebandroid</td>\n",
       "      <td>1145</td>\n",
       "      <td>115</td>\n",
       "      <td>167.583704</td>\n",
       "    </tr>\n",
       "  </tbody>\n",
       "</table>\n",
       "</div>"
      ],
      "text/plain": [
       "   date_group       platform  visits  registrations  conversion\n",
       "0  2023-03-01  androidiosweb     884             87  164.168034\n",
       "1  2023-03-02  androidiosweb    1050            106  167.895023\n",
       "2  2023-03-03  androidiosweb    1147            107  174.333238\n",
       "3  2023-03-04  androidiosweb    1232            159  148.795048\n",
       "4  2023-03-05  ioswebandroid    1145            115  167.583704"
      ]
     },
     "execution_count": 187,
     "metadata": {},
     "output_type": "execute_result"
    }
   ],
   "source": [
    "grouped_conversion = conversion.groupby('date_group', as_index=False).sum()\n",
    "grouped_conversion.head()"
   ]
  },
  {
   "cell_type": "code",
   "execution_count": 188,
   "id": "a532350f-d4cf-4e2e-8303-921f6802fa47",
   "metadata": {},
   "outputs": [],
   "source": [
    "## Загружаем данные по рекламным компаниями"
   ]
  },
  {
   "cell_type": "code",
   "execution_count": 189,
   "id": "9bfed8c9-258f-42fa-a98d-8f1987295ab7",
   "metadata": {},
   "outputs": [],
   "source": [
    "ads = pd.read_csv('./ads.csv')\n",
    "ads['date'] = pd.to_datetime(ads['date']).dt.date"
   ]
  },
  {
   "cell_type": "code",
   "execution_count": 190,
   "id": "5d75f9e5-f383-4330-ab2b-40f6b3e8360c",
   "metadata": {},
   "outputs": [],
   "source": [
    "## Группируем рекламу по дате и объединяем с конверсией"
   ]
  },
  {
   "cell_type": "code",
   "execution_count": 191,
   "id": "b10bbe7d-2582-4775-ba7b-fd81fbf78879",
   "metadata": {},
   "outputs": [
    {
     "data": {
      "text/html": [
       "<div>\n",
       "<style scoped>\n",
       "    .dataframe tbody tr th:only-of-type {\n",
       "        vertical-align: middle;\n",
       "    }\n",
       "\n",
       "    .dataframe tbody tr th {\n",
       "        vertical-align: top;\n",
       "    }\n",
       "\n",
       "    .dataframe thead th {\n",
       "        text-align: right;\n",
       "    }\n",
       "</style>\n",
       "<table border=\"1\" class=\"dataframe\">\n",
       "  <thead>\n",
       "    <tr style=\"text-align: right;\">\n",
       "      <th></th>\n",
       "      <th>date_group</th>\n",
       "      <th>visits</th>\n",
       "      <th>registrations</th>\n",
       "      <th>cost</th>\n",
       "      <th>utm_campaign</th>\n",
       "    </tr>\n",
       "  </thead>\n",
       "  <tbody>\n",
       "    <tr>\n",
       "      <th>0</th>\n",
       "      <td>2023-03-01</td>\n",
       "      <td>884</td>\n",
       "      <td>87</td>\n",
       "      <td>212</td>\n",
       "      <td>advanced_algorithms_series</td>\n",
       "    </tr>\n",
       "    <tr>\n",
       "      <th>1</th>\n",
       "      <td>2023-03-02</td>\n",
       "      <td>1050</td>\n",
       "      <td>106</td>\n",
       "      <td>252</td>\n",
       "      <td>advanced_algorithms_series</td>\n",
       "    </tr>\n",
       "    <tr>\n",
       "      <th>2</th>\n",
       "      <td>2023-03-03</td>\n",
       "      <td>1147</td>\n",
       "      <td>107</td>\n",
       "      <td>202</td>\n",
       "      <td>advanced_algorithms_series</td>\n",
       "    </tr>\n",
       "    <tr>\n",
       "      <th>3</th>\n",
       "      <td>2023-03-04</td>\n",
       "      <td>1232</td>\n",
       "      <td>159</td>\n",
       "      <td>223</td>\n",
       "      <td>advanced_algorithms_series</td>\n",
       "    </tr>\n",
       "    <tr>\n",
       "      <th>4</th>\n",
       "      <td>2023-03-05</td>\n",
       "      <td>1145</td>\n",
       "      <td>115</td>\n",
       "      <td>265</td>\n",
       "      <td>advanced_algorithms_series</td>\n",
       "    </tr>\n",
       "  </tbody>\n",
       "</table>\n",
       "</div>"
      ],
      "text/plain": [
       "   date_group  visits  registrations  cost                utm_campaign\n",
       "0  2023-03-01     884             87   212  advanced_algorithms_series\n",
       "1  2023-03-02    1050            106   252  advanced_algorithms_series\n",
       "2  2023-03-03    1147            107   202  advanced_algorithms_series\n",
       "3  2023-03-04    1232            159   223  advanced_algorithms_series\n",
       "4  2023-03-05    1145            115   265  advanced_algorithms_series"
      ]
     },
     "execution_count": 191,
     "metadata": {},
     "output_type": "execute_result"
    }
   ],
   "source": [
    "ads = ads.fillna({'utm_campaign': 'none', 'cost': 0})\n",
    "conversion_ads = pd.merge(\n",
    "    grouped_conversion, ads, left_on='date_group', right_on='date'\n",
    ")\n",
    "conversion_ads.sort_values(by='date_group', inplace=True)\n",
    "conversion_ads.head()\n",
    "grouped_ads_conversion = conversion_ads.groupby('date_group')\n",
    "grouped_ads_conversion.head()\n",
    "conversion_ads = conversion_ads[['date_group', 'visits', 'registrations', 'cost', 'utm_campaign']]\n",
    "conversion_ads.to_json('./ads.json')\n",
    "conversion_ads.head()"
   ]
  },
  {
   "cell_type": "code",
   "execution_count": 192,
   "id": "b4cc02f6-4b0f-410d-a9e0-574d5b709b94",
   "metadata": {},
   "outputs": [],
   "source": [
    "## Визуализируем данные на графиках с помощью matplotlib.pyplot, seaborn, plotly"
   ]
  },
  {
   "cell_type": "code",
   "execution_count": 193,
   "id": "98745b9c-bf25-4a29-9f29-c07c2a94a6c2",
   "metadata": {
    "scrolled": true
   },
   "outputs": [
    {
     "data": {
      "image/png": "[encoded data removed]",
      "text/plain": [
       "<Figure size 640x480 with 1 Axes>"
      ]
     },
     "metadata": {},
     "output_type": "display_data"
    },
    {
     "data": {
      "text/plain": [
       "<Figure size 640x480 with 0 Axes>"
      ]
     },
     "metadata": {},
     "output_type": "display_data"
    }
   ],
   "source": [
    "# sns.barplot(x=\"date_group\", y=\"visits\", data=conversion_ads, color='skyblue')\n",
    "\n",
    "fig, ax = plt.subplots()\n",
    "fig.suptitle(\"Total Visits\")\n",
    "# fig.set_size_inches((10, 10))\n",
    "bars = ax.bar(conversion_ads['date_group'],\n",
    "       conversion_ads['visits'],\n",
    "       width=1,\n",
    "       color='skyblue',\n",
    "       edgecolor=\"white\"\n",
    "      )\n",
    "plt.xlabel(\"date_group\")\n",
    "plt.ylabel('visits')\n",
    "plt.xticks(rotation = 25)\n",
    "ax.grid()\n",
    "ax.bar_label(bars)\n",
    "plt.show()\n",
    "plt.savefig('./charts/visitors_by_platform.png')"
   ]
  },
  {
   "cell_type": "code",
   "execution_count": 194,
   "id": "2406b736-75e8-4b21-ae63-6e8df9736b6c",
   "metadata": {},
   "outputs": [
    {
     "data": {
      "text/plain": [
       "<Axes: xlabel='date_group', ylabel='visits'>"
      ]
     },
     "execution_count": 194,
     "metadata": {},
     "output_type": "execute_result"
    },
    {
     "data": {
      "image/png": "[encoded data removed]",
      "text/plain": [
       "<Figure size 640x480 with 1 Axes>"
      ]
     },
     "metadata": {},
     "output_type": "display_data"
    }
   ],
   "source": [
    "sns.barplot(x=\"date_group\", y=\"visits\", hue='platform', data=conversion, palette='dark:skyblue')"
   ]
  },
  {
   "cell_type": "code",
   "execution_count": null,
   "id": "610f72eb-eeed-4090-ae6b-b0e32f7caffa",
   "metadata": {},
   "outputs": [],
   "source": []
  }
 ],
 "metadata": {
  "kernelspec": {
   "display_name": "Python 3 (ipykernel)",
   "language": "python",
   "name": "python3"
  },
  "language_info": {
   "codemirror_mode": {
    "name": "ipython",
    "version": 3
   },
   "file_extension": ".py",
   "mimetype": "text/x-python",
   "name": "python",
   "nbconvert_exporter": "python",
   "pygments_lexer": "ipython3",
   "version": "3.12.7"
  }
 },
 "nbformat": 4,
 "nbformat_minor": 5
}
