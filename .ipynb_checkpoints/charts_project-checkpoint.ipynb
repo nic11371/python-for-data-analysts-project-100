{
 "cells": [
  {
   "cell_type": "markdown",
   "id": "0010e586-043e-4bf4-8e5a-c69b30fd2b53",
   "metadata": {},
   "source": [
    "# Проект Дашборд конверсий"
   ]
  },
  {
   "cell_type": "markdown",
   "id": "b5657292-f421-461f-921f-ef6eb1026e0e",
   "metadata": {},
   "source": [
    "## Загрузка библиотек, получение данных, определение переменных окружения"
   ]
  },
  {
   "cell_type": "code",
   "execution_count": 421,
   "id": "5b6fefc3-8df1-413b-ae16-2091ee25a821",
   "metadata": {
    "jupyter": {
     "source_hidden": true
    }
   },
   "outputs": [],
   "source": [
    "import os\n",
    "import numpy as np\n",
    "import math\n",
    "import pandas as pd\n",
    "import requests as req\n",
    "import matplotlib.pyplot as plt\n",
    "import seaborn as sns\n",
    "import plotly.express as px\n",
    "from dotenv import load_dotenv\n",
    "\n",
    "load_dotenv()\n",
    "\n",
    "DATE_BEGIN = os.getenv('DATE_BEGIN')\n",
    "DATE_END = os.getenv('DATE_END')\n",
    "API_URL = os.getenv('API_URL')\n",
    "\n",
    "resp = req.get(f'{API_URL}/registrations', params={'begin': DATE_BEGIN, 'end': DATE_END})\n",
    "resp_visits = req.get(f'{API_URL}/visits', params={'begin': DATE_BEGIN, 'end': DATE_END})"
   ]
  },
  {
   "cell_type": "code",
   "execution_count": 422,
   "id": "dc1532c4-1c9f-4ba4-ad3f-086634cf8eab",
   "metadata": {
    "collapsed": true,
    "jupyter": {
     "outputs_hidden": true
    }
   },
   "outputs": [
    {
     "ename": "FileExistsError",
     "evalue": "[Errno 17] File exists: 'charts'",
     "output_type": "error",
     "traceback": [
      "\u001b[0;31m---------------------------------------------------------------------------\u001b[0m",
      "\u001b[0;31mFileExistsError\u001b[0m                           Traceback (most recent call last)",
      "Cell \u001b[0;32mIn[422], line 1\u001b[0m\n\u001b[0;32m----> 1\u001b[0m \u001b[43mos\u001b[49m\u001b[38;5;241;43m.\u001b[39;49m\u001b[43mmkdir\u001b[49m\u001b[43m(\u001b[49m\u001b[38;5;124;43m\"\u001b[39;49m\u001b[38;5;124;43mcharts\u001b[39;49m\u001b[38;5;124;43m\"\u001b[39;49m\u001b[43m)\u001b[49m\n",
      "\u001b[0;31mFileExistsError\u001b[0m: [Errno 17] File exists: 'charts'"
     ]
    }
   ],
   "source": [
    "os.mkdir(\"charts\")"
   ]
  },
  {
   "cell_type": "markdown",
   "id": "3bff49dc-16c1-44d2-b12b-dee738b020f9",
   "metadata": {},
   "source": [
    "## Чтение зарегистрированных и посещаемых пользователей"
   ]
  },
  {
   "cell_type": "code",
   "execution_count": null,
   "id": "4e2409c5-305c-4216-a792-96a8a8ac7d9e",
   "metadata": {},
   "outputs": [],
   "source": [
    "visitors = pd.DataFrame(resp_visits.json())\n",
    "regs = pd.DataFrame(resp.json())\n",
    "visitors['datetime'] = pd.to_datetime(visitors['datetime']).dt.date\n",
    "regs['datetime'] = pd.to_datetime(regs['datetime']).dt.date"
   ]
  },
  {
   "cell_type": "code",
   "execution_count": null,
   "id": "b7a16062-52c3-43e1-8766-ab9ceeb0cfa6",
   "metadata": {
    "jupyter": {
     "source_hidden": true
    }
   },
   "outputs": [],
   "source": [
    "regs.head()"
   ]
  },
  {
   "cell_type": "code",
   "execution_count": null,
   "id": "ff96bfdb-a87a-4fc7-8cbc-f32c8d6d5e07",
   "metadata": {
    "jupyter": {
     "source_hidden": true
    }
   },
   "outputs": [],
   "source": [
    "visitors.head(10)"
   ]
  },
  {
   "cell_type": "markdown",
   "id": "fa3ad2c0-3a09-4f1b-928f-95a4c849e9bc",
   "metadata": {},
   "source": [
    "## Фильтрация и группировка посещаемых пользователей по признакам"
   ]
  },
  {
   "cell_type": "code",
   "execution_count": null,
   "id": "e469110f-c482-41cb-ad0a-138e1f4901e2",
   "metadata": {},
   "outputs": [],
   "source": [
    "visitors = visitors.sort_values(by=['visit_id', 'datetime']).drop_duplicates(subset='visit_id', keep='last')\n",
    "visitors = visitors[visitors['user_agent'].apply(lambda x: 'bot' not in x)]"
   ]
  },
  {
   "cell_type": "code",
   "execution_count": null,
   "id": "5d81345f-6730-4a55-bd75-f3192d70b77d",
   "metadata": {},
   "outputs": [],
   "source": [
    "grouped_visitors = visitors.groupby(['platform', 'datetime'])['datetime'].count().reset_index(name='visits')"
   ]
  },
  {
   "cell_type": "code",
   "execution_count": null,
   "id": "8256d238-ce0a-4fbf-b43a-fb6b36f09f7b",
   "metadata": {},
   "outputs": [],
   "source": [
    "grouped_visitors.head()"
   ]
  },
  {
   "cell_type": "markdown",
   "id": "a64befd9-2b15-4c01-a4d5-ee2aca986f16",
   "metadata": {},
   "source": [
    "### График итоговых визитов"
   ]
  },
  {
   "cell_type": "code",
   "execution_count": null,
   "id": "98745b9c-bf25-4a29-9f29-c07c2a94a6c2",
   "metadata": {
    "jupyter": {
     "source_hidden": true
    }
   },
   "outputs": [],
   "source": [
    "fig, ax = plt.subplots()\n",
    "fig.set_size_inches((10, 5))\n",
    "fig.suptitle(\"Total Visits\")\n",
    "ax.grid(axis='y')\n",
    "sns.set_style(\"white\")\n",
    "ax = sns.histplot(x=\"datetime\", data=visitors, color='skyblue')\n",
    "ax.set_xticks(grouped_visitors['datetime'])\n",
    "plt.xticks(rotation = 75)\n",
    "plt.xlabel('date_group')\n",
    "plt.ylabel('visits')\n",
    "ax.bar_label(ax.containers[0])\n",
    "plt.show()\n",
    "plt.savefig('./charts/total_visits.png')"
   ]
  },
  {
   "cell_type": "markdown",
   "id": "8681aca5-fbff-4063-bb9e-28680d56cc58",
   "metadata": {},
   "source": [
    "### График итоговых визитов с разбивкой по платформе"
   ]
  },
  {
   "cell_type": "code",
   "execution_count": null,
   "id": "2406b736-75e8-4b21-ae63-6e8df9736b6c",
   "metadata": {
    "jupyter": {
     "source_hidden": true
    }
   },
   "outputs": [],
   "source": [
    "fig, ax = plt.subplots()\n",
    "fig.set_size_inches((10, 5))\n",
    "fig.suptitle(\"Visits by platform (Stacked)\")\n",
    "ax.grid()\n",
    "ax = sns.histplot(data=visitors, x=\"datetime\", hue='platform', multiple='stack')\n",
    "ax.set_xticks(grouped_visitors['datetime'])\n",
    "plt.xlabel('date_group')\n",
    "plt.ylabel('visits')\n",
    "plt.xticks(rotation = 75)\n",
    "plt.show()\n",
    "plt.savefig('./charts/visitors_by_platform.png')"
   ]
  },
  {
   "cell_type": "markdown",
   "id": "7b282472-da99-4a3d-86c2-eedccdd1bca6",
   "metadata": {},
   "source": [
    "Как видно из графиков визитов за данный период, наибольшее количество визитов происходило в праздничные и предпраздничные дни марта\n",
    "и предпразничные дни в конце апреля. Наибольшее количество всех посещений было с web платформ, самое наименьшее значение -- с лпатформы ios.\n",
    "Исходя из этого можно сделать вывод, что наибольший интерес к ресурсу происхожит в выходные дни, когда людям удобно обращаться на ресурс с десктопных приложений.\n",
    "Сам же по себе ресурс привлекает, поэтому необходимо провести работы, по улучшению и привлекательности интерфейса с мобильных платформ, \n",
    "для поднятия интереса публики в рабочее и любое другое время и привлечения потенциальных клиентов."
   ]
  },
  {
   "cell_type": "markdown",
   "id": "d1baa088-a587-48b4-9223-b9436f826c4e",
   "metadata": {},
   "source": [
    "## Группировка зарегистрированных пользователей"
   ]
  },
  {
   "cell_type": "code",
   "execution_count": null,
   "id": "0890f39a-406f-4dc8-9af7-d7f3682b3c3b",
   "metadata": {
    "jupyter": {
     "source_hidden": true
    }
   },
   "outputs": [],
   "source": [
    "grouped_regs = regs.groupby(['platform', 'datetime'])['datetime'].count().reset_index(name='registrations')"
   ]
  },
  {
   "cell_type": "code",
   "execution_count": null,
   "id": "4289243a-988e-4f7b-abcb-0bff067920ea",
   "metadata": {
    "jupyter": {
     "source_hidden": true
    }
   },
   "outputs": [],
   "source": [
    "grouped_regs.head()"
   ]
  },
  {
   "cell_type": "markdown",
   "id": "d25c7d81-2e91-402d-ba2f-dfe819fe2a5d",
   "metadata": {},
   "source": [
    "### График итоговых регистраций"
   ]
  },
  {
   "cell_type": "code",
   "execution_count": null,
   "id": "2c8dc4b9-f314-4768-9ad7-901327fc7eac",
   "metadata": {
    "jupyter": {
     "source_hidden": true
    }
   },
   "outputs": [],
   "source": [
    "fig, ax = plt.subplots()\n",
    "fig.set_size_inches((10, 5))\n",
    "fig.suptitle(\"Total Weekly Registrations\")\n",
    "ax.grid(axis='y')\n",
    "sns.set_style(\"white\")\n",
    "ax = sns.histplot(x=\"datetime\", data=regs, color='skyblue')\n",
    "ax.set_xticks(grouped_regs['datetime'])\n",
    "plt.xticks(rotation = 75)\n",
    "plt.xlabel('date_group')\n",
    "plt.ylabel('registrations')\n",
    "ax.bar_label(ax.containers[0])\n",
    "plt.show()\n",
    "plt.savefig('./charts/total_regs.png')"
   ]
  },
  {
   "cell_type": "markdown",
   "id": "2c0944c8-7f77-4c7f-9967-1baa0eef94cf",
   "metadata": {},
   "source": [
    "### Итоговые регистрации с разбивкой по платформе"
   ]
  },
  {
   "cell_type": "code",
   "execution_count": null,
   "id": "42931a07-d184-4b60-8590-924f6357c987",
   "metadata": {
    "jupyter": {
     "source_hidden": true
    }
   },
   "outputs": [],
   "source": [
    "fig, ax = plt.subplots()\n",
    "fig.set_size_inches((10, 5))\n",
    "fig.suptitle(\"Weekly registrations by platform (Stacked)\")\n",
    "ax.grid()\n",
    "ax = sns.histplot(data=regs, x=\"datetime\", hue='platform', multiple='stack')\n",
    "ax.set_xticks(grouped_regs['datetime'])\n",
    "plt.xlabel('date_group')\n",
    "plt.ylabel('registrations')\n",
    "plt.xticks(rotation = 75)\n",
    "plt.show()\n",
    "plt.savefig('./charts/registrations_by_platform.png')"
   ]
  },
  {
   "cell_type": "markdown",
   "id": "87c1fec5-18e2-48d0-aedd-605654683c63",
   "metadata": {},
   "source": [
    "Исходя из графиков выше можно сделать вывод, что регистрация напрямую зависит от почещаемости платформы с небольшим отклонгениями.\n",
    "Большинство регистраций происходит с мобильной платформы, которая имеете дружелюбный интерфейс и удобство для использования. Здесь ничего поравлять не нужно."
   ]
  },
  {
   "cell_type": "markdown",
   "id": "4d9a392b-b6d1-41f0-ba42-1cf46372eb05",
   "metadata": {},
   "source": [
    "## Слияние таблиц и расчет полной конверсии"
   ]
  },
  {
   "cell_type": "code",
   "execution_count": null,
   "id": "9f7c6ea2-c54a-4e64-9e21-1c9ba02b4fa9",
   "metadata": {
    "jupyter": {
     "source_hidden": true
    }
   },
   "outputs": [],
   "source": [
    "conversion = pd.merge(\n",
    "    grouped_visitors, grouped_regs\n",
    ")\n",
    "total_conversion = conversion.rename(columns={'datetime': 'date_group'})\n",
    "total_conversion.sort_values(by=['date_group', 'platform'], inplace=True)\n",
    "total_conversion = total_conversion.reset_index(drop=True)\n",
    "total_conversion = total_conversion.groupby('date_group', as_index=False).sum()\n",
    "total_conversion['conversion'] = (total_conversion['registrations'] / total_conversion['visits']) * 100\n",
    "total_conversion.head()"
   ]
  },
  {
   "cell_type": "markdown",
   "id": "080881a0-0b55-4abc-83ac-f5b769cc5ced",
   "metadata": {},
   "source": [
    "### График полной конверсии"
   ]
  },
  {
   "cell_type": "code",
   "execution_count": null,
   "id": "d6473059-fee0-4966-9297-c4c3e937923b",
   "metadata": {
    "jupyter": {
     "source_hidden": true
    }
   },
   "outputs": [],
   "source": [
    "fig, ax = plt.subplots()\n",
    "fig.set_size_inches((10, 5))\n",
    "fig.suptitle(\"Overall Conversion\")\n",
    "ax.grid()\n",
    "x = total_conversion['date_group']\n",
    "y = total_conversion['conversion']\n",
    "ax.plot('date_group', 'conversion', data=total_conversion, marker='o', label='Общая конверсия')\n",
    "plt.xlabel('Date')\n",
    "plt.ylabel('Conversion (%)')\n",
    "plt.xticks(rotation = 75)\n",
    "plt.legend()\n",
    "for (xi, yi) in zip(x, y):\n",
    "    plt.text(xi, round(yi), round(yi))\n",
    "plt.show()\n",
    "plt.savefig('./charts/total_conversion.png')"
   ]
  },
  {
   "cell_type": "markdown",
   "id": "bd79fbf1-7c13-4043-9761-234bd7ca6e0b",
   "metadata": {},
   "source": [
    "Согласно графику, можно понять, что падение конверсии происходит в праздничные дни. В среднем в остальные дни конверсия стабильна с небольшими пиками 15 и 22 марта.\n",
    "Это говорит о том, что после больших посещений в праздничные дни пользователи не спешат регистрироватся сразу.\n",
    "В основном регистрация происходит в будние дни, но и количество посещений в будние дни меньше, из-за чего конверсия выглядит стабильнее.\n",
    "Вывод: ресурс привлекает множество людей, но пользоваться им спешат не все. "
   ]
  },
  {
   "cell_type": "markdown",
   "id": "79c1b090-2b11-48ca-9d68-e8ff872e2694",
   "metadata": {},
   "source": [
    "## Слияние таблиц и расчет конверсии по платформам"
   ]
  },
  {
   "cell_type": "code",
   "execution_count": null,
   "id": "2517cd59-e38f-4b61-aef3-4844a4bf66c0",
   "metadata": {
    "jupyter": {
     "source_hidden": true
    }
   },
   "outputs": [],
   "source": [
    "conversion = pd.merge(\n",
    "    grouped_visitors, grouped_regs\n",
    ")\n",
    "conversion = conversion.rename(columns={'datetime': 'date_group'})\n",
    "conversion.sort_values(by=['date_group', 'platform'], inplace=True)\n",
    "conversion = conversion.reset_index(drop=True)\n",
    "conversion['conversion'] = (conversion['registrations'] / conversion['visits']) * 100\n",
    "conversion.sort_values(by='date_group', inplace=True)\n",
    "conversion.to_json('./conversion.json')"
   ]
  },
  {
   "cell_type": "code",
   "execution_count": null,
   "id": "b47a9b0c-3a69-42f7-9445-0332f1c8f4bc",
   "metadata": {
    "jupyter": {
     "source_hidden": true
    }
   },
   "outputs": [],
   "source": [
    "conversion.head()"
   ]
  },
  {
   "cell_type": "markdown",
   "id": "2d5bbb08-4c80-4df0-97b3-54644fff9531",
   "metadata": {},
   "source": [
    "### Графики конверсий по каждой платформе"
   ]
  },
  {
   "cell_type": "code",
   "execution_count": null,
   "id": "59c21dd1-c9a6-4a62-8ab4-4421e402dfa7",
   "metadata": {
    "jupyter": {
     "source_hidden": true
    }
   },
   "outputs": [],
   "source": [
    "fig, ax = plt.subplots(3, 1)\n",
    "fig.set_size_inches((17, 15))\n",
    "\n",
    "dictionary_platforms = {\n",
    "    0: (conversion[conversion['platform'] == 'android'], \"Conversion android\", \"android\"),\n",
    "    1: (conversion[conversion['platform'] == 'ios'], \"Conversion ios\", \"ios\"),\n",
    "    2: (conversion[conversion['platform'] == 'web'], \"Conversion web\", \"web\")\n",
    "}\n",
    "for n in range(3):\n",
    "    x = 'date_group'\n",
    "    y = 'conversion'\n",
    "    platform, platform_title, platform_label = dictionary_platforms[n]\n",
    "    ax[n].plot(x, y, data=platform, label=platform_label, marker='o')\n",
    "    ax[n].set_xlabel('Date')\n",
    "    ax[n].set_ylabel('Conversion (%)')\n",
    "    ax[n].set_title(platform_title)\n",
    "    ax[n].set_xticks(ax[n].get_xticks())\n",
    "    ax[n].set_xticklabels(ax[n].get_xticklabels(), rotation=75)\n",
    "    ax[n].legend()\n",
    "    ax[n].grid()\n",
    "    # for (xi, yi) in zip(x, y):\n",
    "    #     ax[n].text(xi, (yi), (yi))\n",
    "plt.subplots_adjust(hspace = 0.5)\n",
    "plt.show()\n",
    "plt.savefig('./charts/conversion_by_platform.png')"
   ]
  },
  {
   "cell_type": "markdown",
   "id": "d921146e-4ef5-468a-a486-0a2879ebc762",
   "metadata": {},
   "source": [
    "Данные графики подтверждают вышесказанное, что конверсия лучше с мобильных устройств, что подтверждает интерфейс более дружелюбен при регистрации, чем при просмотрах.\n",
    "Людям удобнее регистрироваться с мобильных устройств, чем с веба, а просмотры удобнее делать с веба."
   ]
  },
  {
   "cell_type": "markdown",
   "id": "2be5f4bd-8d75-46b2-ae26-660516f3ea0e",
   "metadata": {},
   "source": [
    "## Загружаем данные по рекламным компаниями"
   ]
  },
  {
   "cell_type": "code",
   "execution_count": null,
   "id": "d11bbd25-b8d3-4034-88bd-39216f5df4a9",
   "metadata": {
    "jupyter": {
     "source_hidden": true
    }
   },
   "outputs": [],
   "source": [
    "ads = pd.read_csv('./ads.csv')"
   ]
  },
  {
   "cell_type": "code",
   "execution_count": null,
   "id": "af6cbe74-7a45-4e32-bbd2-741315a182de",
   "metadata": {
    "jupyter": {
     "source_hidden": true
    }
   },
   "outputs": [],
   "source": [
    "ads.head()"
   ]
  },
  {
   "cell_type": "code",
   "execution_count": null,
   "id": "9bfed8c9-258f-42fa-a98d-8f1987295ab7",
   "metadata": {
    "jupyter": {
     "source_hidden": true
    }
   },
   "outputs": [],
   "source": [
    "ads = ads[(ads['date'] >= DATE_BEGIN) & (ads['date'] <= DATE_END)]\n",
    "ads['date'] = pd.to_datetime(ads['date']).dt.date\n",
    "ads = ads.fillna({'utm_campaign': 'none', 'cost': 0})"
   ]
  },
  {
   "cell_type": "markdown",
   "id": "05e13b85-6d66-4897-b859-d2faef4e6398",
   "metadata": {},
   "source": [
    "### График стоимости рекламных компаний"
   ]
  },
  {
   "cell_type": "code",
   "execution_count": null,
   "id": "9e4dead0-a0f9-4c48-8581-f591360097a5",
   "metadata": {
    "jupyter": {
     "source_hidden": true
    }
   },
   "outputs": [],
   "source": [
    "fig, ax = plt.subplots()\n",
    "fig.set_size_inches((15, 5))\n",
    "fig.suptitle(\"Aggregated Ad Compaign Costs (by day)\")\n",
    "ax.grid()\n",
    "x = ads['date']\n",
    "y = ads['cost']\n",
    "ax.plot(x, y, data=ads, marker='o')\n",
    "ax.set_xticks(ads['date'])\n",
    "plt.xlabel('Date')\n",
    "plt.ylabel('Cost RUB')\n",
    "plt.xticks(rotation = 55)\n",
    "plt.legend()\n",
    "for (xi, yi) in zip(x, y):\n",
    "    plt.text(xi, round(yi), round(yi))\n",
    "plt.show()\n",
    "plt.savefig('./charts/ads_cost.png')"
   ]
  },
  {
   "cell_type": "markdown",
   "id": "1c3740be-e36e-44d7-bc93-3aded3cba748",
   "metadata": {},
   "source": [
    "Если посмотреть на график, то мы увидим, что пик стоимости рекламы происходит 26 марта, самые низкая стоимость -- 5 марта и вплоть до 8 числа.\n",
    "В остальное время стоимость циклична. Высокая и низкия стоимость чередуются циклом 3-5 дней."
   ]
  },
  {
   "cell_type": "markdown",
   "id": "883c5a5d-17ed-4a43-87fd-3d818cb21134",
   "metadata": {},
   "source": [
    "## Группируем рекламу по рекламным компаниям, объединяем с конверсией"
   ]
  },
  {
   "cell_type": "code",
   "execution_count": null,
   "id": "0444485f-2f8f-4891-884e-c673d63760a3",
   "metadata": {},
   "outputs": [],
   "source": [
    "conversion_ads = pd.merge(\n",
    "    total_conversion, ads, left_on='date_group', right_on='date'\n",
    ")\n",
    "conversion_ads.sort_values(by='date_group', inplace=True)"
   ]
  },
  {
   "cell_type": "code",
   "execution_count": null,
   "id": "b10bbe7d-2582-4775-ba7b-fd81fbf78879",
   "metadata": {},
   "outputs": [],
   "source": [
    "conversion_ads = conversion_ads[['date_group', 'visits', 'registrations', 'cost', 'utm_campaign']]\n",
    "conversion_ads.to_json('./ads.json')\n",
    "conversion_ads.head()"
   ]
  },
  {
   "cell_type": "markdown",
   "id": "3dd56695-1510-4209-867d-72b7383e4275",
   "metadata": {},
   "source": [
    "### Находим диапазон дат начала и конца компаний"
   ]
  },
  {
   "cell_type": "code",
   "execution_count": null,
   "id": "246724ec-6bfd-4f42-aa2b-90edbce780e6",
   "metadata": {},
   "outputs": [],
   "source": [
    "min_dates = conversion_ads.groupby('utm_campaign')['date_group'].min().reset_index(name='min_date_group')\n",
    "max_dates = conversion_ads.groupby('utm_campaign')['date_group'].max().reset_index(name='max_date_group')\n",
    "\n",
    "conversion_ads = conversion_ads.merge(min_dates, on='utm_campaign', how='left')\n",
    "conversion_ads = conversion_ads.merge(max_dates, on='utm_campaign', how='left')\n",
    "\n",
    "conversion_ads.head()"
   ]
  },
  {
   "cell_type": "markdown",
   "id": "0e6abef9-7df2-469b-9ad9-cf39c36c8bea",
   "metadata": {},
   "source": [
    "### Графики визитов и регистраций с выделением рекламных компаний"
   ]
  },
  {
   "cell_type": "code",
   "execution_count": null,
   "id": "db3928e9-2308-479f-a756-fc2119cc7a37",
   "metadata": {},
   "outputs": [],
   "source": [
    "fig, ax = plt.subplots(2, 1)\n",
    "fig.set_size_inches((12, 10))\n",
    "plt.tight_layout()\n",
    "\n",
    "dictionary_conversion_ads = {\n",
    "    0: (conversion_ads['visits'], \"Visits during marketing active days\", \"Visits\", \"Unique visits\", 'Average Number of Visits', 'black'),\n",
    "    1: (conversion_ads['registrations'], \"Registrations during marketing active days\", \"Registrations\", \"Unique users\", 'Average Number of Registration', 'green'),\n",
    "}\n",
    "for n in range(2):\n",
    "    ads, ads_title, ads_label, ads_y_label, ads_mean, ads_color = dictionary_conversion_ads[n]\n",
    "    x = 'date_group'\n",
    "    y = ads\n",
    "    ax[n].plot(x, y, data=conversion_ads, label=ads_label, marker='o', color=ads_color)\n",
    "    ax[n].set_ylabel(ads_y_label)\n",
    "    ax[n].set_title(ads_title)\n",
    "    ax[n].set_xticks(ax[n].get_xticks())\n",
    "    ax[n].set_xticklabels(ax[n].get_xticklabels(), rotation=75)\n",
    "    ax[n].axhline(ads.mean(), color='black', linestyle='--', linewidth=0.5, label=ads_mean)\n",
    "    \n",
    "    for _, row in conversion_ads.iterrows():\n",
    "        ax[n].axvspan(row['min_date_group'], row['max_date_group'], color=np.random.rand(3,), alpha=0.5)\n",
    "    ax[n].legend()\n",
    "    ax[n].grid()\n",
    "plt.subplots_adjust(hspace = 0.5)\n",
    "plt.show()\n",
    "plt.savefig('./charts/ads_visits_registrations.png')"
   ]
  },
  {
   "cell_type": "markdown",
   "id": "72b36460-febe-446c-a669-dfc274bb6aa9",
   "metadata": {},
   "source": [
    "Проанализировав последние данные можно сделать вывод о том, что визиты и регистрации не сильно зависят от активности маркетинговых дней и прожажи рекламы.\n",
    "Так потратив минимальное количество денег на рекламы мы видим роста посещений и регистраций в праздничные дни.\n",
    "Тогда, как затратив больше средств на рекламу после праздников мы видим активность посещений и регистраций примерно на 10-15 % меньше.\n",
    "Регистрации имеют похожий циклический характер, какм и стоимость рекламы."
   ]
  }
 ],
 "metadata": {
  "kernelspec": {
   "display_name": "Python [conda env:dashboard]",
   "language": "python",
   "name": "conda-env-dashboard-py"
  },
  "language_info": {
   "codemirror_mode": {
    "name": "ipython",
    "version": 3
   },
   "file_extension": ".py",
   "mimetype": "text/x-python",
   "name": "python",
   "nbconvert_exporter": "python",
   "pygments_lexer": "ipython3",
   "version": "3.12.9"
  }
 },
 "nbformat": 4,
 "nbformat_minor": 5
}
