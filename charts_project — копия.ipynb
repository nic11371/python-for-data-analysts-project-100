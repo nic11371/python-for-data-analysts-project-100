{
 "cells": [
  {
   "cell_type": "code",
   "execution_count": 2,
   "id": "87018ea9-2f9b-47bf-832b-eaa2ad61f720",
   "metadata": {},
   "outputs": [],
   "source": [
    "# Проект Дашборд конверсий"
   ]
  },
  {
   "cell_type": "code",
   "execution_count": 3,
   "id": "8bb583d8-85f0-4422-bbf7-06a785fb5797",
   "metadata": {},
   "outputs": [],
   "source": [
    "## Загрузка библиотек"
   ]
  },
  {
   "cell_type": "code",
<<<<<<< HEAD
   "execution_count": 157,
=======
   "execution_count": 177,
>>>>>>> 9008d37c176dc55525b9ffdf345c9eafb5b17ac1
   "id": "5b6fefc3-8df1-413b-ae16-2091ee25a821",
   "metadata": {},
   "outputs": [
    {
     "ename": "FileExistsError",
     "evalue": "[Errno 17] File exists: 'charts'",
     "output_type": "error",
     "traceback": [
      "\u001b[0;31m---------------------------------------------------------------------------\u001b[0m",
      "\u001b[0;31mFileExistsError\u001b[0m                           Traceback (most recent call last)",
      "Cell \u001b[0;32mIn[177], line 20\u001b[0m\n\u001b[1;32m     17\u001b[0m DATE_END \u001b[38;5;241m=\u001b[39m os\u001b[38;5;241m.\u001b[39mgetenv(\u001b[38;5;124m'\u001b[39m\u001b[38;5;124mDATE_END\u001b[39m\u001b[38;5;124m'\u001b[39m)\n\u001b[1;32m     18\u001b[0m API_URL \u001b[38;5;241m=\u001b[39m os\u001b[38;5;241m.\u001b[39mgetenv(\u001b[38;5;124m'\u001b[39m\u001b[38;5;124mAPI_URL\u001b[39m\u001b[38;5;124m'\u001b[39m)\n\u001b[0;32m---> 20\u001b[0m \u001b[43mos\u001b[49m\u001b[38;5;241;43m.\u001b[39;49m\u001b[43mmkdir\u001b[49m\u001b[43m(\u001b[49m\u001b[38;5;124;43m\"\u001b[39;49m\u001b[38;5;124;43mcharts\u001b[39;49m\u001b[38;5;124;43m\"\u001b[39;49m\u001b[43m)\u001b[49m\n\u001b[1;32m     21\u001b[0m resp \u001b[38;5;241m=\u001b[39m req\u001b[38;5;241m.\u001b[39mget(\u001b[38;5;124mf\u001b[39m\u001b[38;5;124m'\u001b[39m\u001b[38;5;132;01m{\u001b[39;00mAPI_URL\u001b[38;5;132;01m}\u001b[39;00m\u001b[38;5;124m/registrations\u001b[39m\u001b[38;5;124m'\u001b[39m, params\u001b[38;5;241m=\u001b[39m{\u001b[38;5;124m'\u001b[39m\u001b[38;5;124mbegin\u001b[39m\u001b[38;5;124m'\u001b[39m: DATE_BEGIN, \u001b[38;5;124m'\u001b[39m\u001b[38;5;124mend\u001b[39m\u001b[38;5;124m'\u001b[39m: DATE_END})\n\u001b[1;32m     22\u001b[0m resp_visits \u001b[38;5;241m=\u001b[39m req\u001b[38;5;241m.\u001b[39mget(\u001b[38;5;124mf\u001b[39m\u001b[38;5;124m'\u001b[39m\u001b[38;5;132;01m{\u001b[39;00mAPI_URL\u001b[38;5;132;01m}\u001b[39;00m\u001b[38;5;124m/visits\u001b[39m\u001b[38;5;124m'\u001b[39m, params\u001b[38;5;241m=\u001b[39m{\u001b[38;5;124m'\u001b[39m\u001b[38;5;124mbegin\u001b[39m\u001b[38;5;124m'\u001b[39m: DATE_BEGIN, \u001b[38;5;124m'\u001b[39m\u001b[38;5;124mend\u001b[39m\u001b[38;5;124m'\u001b[39m: DATE_END})\n",
      "\u001b[0;31mFileExistsError\u001b[0m: [Errno 17] File exists: 'charts'"
     ]
    }
   ],
   "source": [
    "import os\n",
    "import shutil\n",
    "import pandas as pd\n",
    "import requests as req\n",
    "import matplotlib.pyplot as plt\n",
    "import seaborn as sns\n",
    "import plotly.express as px\n",
    "from dotenv import load_dotenv\n",
    "\n",
    "\n",
    "load_dotenv()\n",
    "# shutil.rmtree(\"charts\")\n",
    "# os.remove(\"ads.json\")\n",
    "# os.remove(\"conversion.json\")\n",
    "\n",
    "DATE_BEGIN = os.getenv('DATE_BEGIN')\n",
    "DATE_END = os.getenv('DATE_END')\n",
    "API_URL = os.getenv('API_URL')\n",
    "\n",
    "resp = req.get(f'{API_URL}/registrations', params={'begin': DATE_BEGIN, 'end': DATE_END})\n",
    "resp_visits = req.get(f'{API_URL}/visits', params={'begin': DATE_BEGIN, 'end': DATE_END})"
   ]
  },
  {
   "cell_type": "code",
<<<<<<< HEAD
   "execution_count": 158,
=======
   "execution_count": 38,
>>>>>>> 9008d37c176dc55525b9ffdf345c9eafb5b17ac1
   "id": "8544ad62-37bd-49cb-90b4-2fbb0c0b68a3",
   "metadata": {},
   "outputs": [],
   "source": [
    "## Чтение и выборка зарегистрированных и посещаемых пользователей"
   ]
  },
  {
   "cell_type": "code",
<<<<<<< HEAD
   "execution_count": 159,
=======
   "execution_count": 39,
>>>>>>> 9008d37c176dc55525b9ffdf345c9eafb5b17ac1
   "id": "4e2409c5-305c-4216-a792-96a8a8ac7d9e",
   "metadata": {},
   "outputs": [],
   "source": [
    "visitors = pd.DataFrame(resp_visits.json())\n",
    "regs = pd.DataFrame(resp.json())\n",
    "visitors['datetime'] = pd.to_datetime(visitors['datetime']).dt.date\n",
    "regs['datetime'] = pd.to_datetime(regs['datetime']).dt.date"
   ]
  },
  {
   "cell_type": "code",
<<<<<<< HEAD
   "execution_count": 160,
=======
   "execution_count": 40,
>>>>>>> 9008d37c176dc55525b9ffdf345c9eafb5b17ac1
   "id": "b7a16062-52c3-43e1-8766-ab9ceeb0cfa6",
   "metadata": {},
   "outputs": [
    {
     "data": {
      "text/html": [
       "<div>\n",
       "<style scoped>\n",
       "    .dataframe tbody tr th:only-of-type {\n",
       "        vertical-align: middle;\n",
       "    }\n",
       "\n",
       "    .dataframe tbody tr th {\n",
       "        vertical-align: top;\n",
       "    }\n",
       "\n",
       "    .dataframe thead th {\n",
       "        text-align: right;\n",
       "    }\n",
       "</style>\n",
       "<table border=\"1\" class=\"dataframe\">\n",
       "  <thead>\n",
       "    <tr style=\"text-align: right;\">\n",
       "      <th></th>\n",
       "      <th>datetime</th>\n",
       "      <th>user_id</th>\n",
       "      <th>email</th>\n",
       "      <th>platform</th>\n",
       "      <th>registration_type</th>\n",
       "    </tr>\n",
       "  </thead>\n",
       "  <tbody>\n",
       "    <tr>\n",
       "      <th>0</th>\n",
       "      <td>2023-03-01</td>\n",
       "      <td>2e0f6bb8-b029-4f45-a786-2b53990d37f1</td>\n",
       "      <td>ebyrd@example.org</td>\n",
       "      <td>web</td>\n",
       "      <td>google</td>\n",
       "    </tr>\n",
       "    <tr>\n",
       "      <th>1</th>\n",
       "      <td>2023-03-01</td>\n",
       "      <td>f007f97c-9d8b-48b5-af08-119bb8f6d9b6</td>\n",
       "      <td>knightgerald@example.org</td>\n",
       "      <td>web</td>\n",
       "      <td>email</td>\n",
       "    </tr>\n",
       "    <tr>\n",
       "      <th>2</th>\n",
       "      <td>2023-03-01</td>\n",
       "      <td>24ff46ae-32b3-4a74-8f27-7cf0b8f32f15</td>\n",
       "      <td>cherylthompson@example.com</td>\n",
       "      <td>web</td>\n",
       "      <td>apple</td>\n",
       "    </tr>\n",
       "    <tr>\n",
       "      <th>3</th>\n",
       "      <td>2023-03-01</td>\n",
       "      <td>3e9914e1-5d73-4c23-b25d-b59a3aeb2b60</td>\n",
       "      <td>halldavid@example.org</td>\n",
       "      <td>web</td>\n",
       "      <td>email</td>\n",
       "    </tr>\n",
       "    <tr>\n",
       "      <th>4</th>\n",
       "      <td>2023-03-01</td>\n",
       "      <td>27f875fc-f8ce-4aeb-8722-0ecb283d0760</td>\n",
       "      <td>denise86@example.net</td>\n",
       "      <td>web</td>\n",
       "      <td>google</td>\n",
       "    </tr>\n",
       "  </tbody>\n",
       "</table>\n",
       "</div>"
      ],
      "text/plain": [
       "     datetime                               user_id  \\\n",
       "0  2023-03-01  2e0f6bb8-b029-4f45-a786-2b53990d37f1   \n",
       "1  2023-03-01  f007f97c-9d8b-48b5-af08-119bb8f6d9b6   \n",
       "2  2023-03-01  24ff46ae-32b3-4a74-8f27-7cf0b8f32f15   \n",
       "3  2023-03-01  3e9914e1-5d73-4c23-b25d-b59a3aeb2b60   \n",
       "4  2023-03-01  27f875fc-f8ce-4aeb-8722-0ecb283d0760   \n",
       "\n",
       "                        email platform registration_type  \n",
       "0           ebyrd@example.org      web            google  \n",
       "1    knightgerald@example.org      web             email  \n",
       "2  cherylthompson@example.com      web             apple  \n",
       "3       halldavid@example.org      web             email  \n",
       "4        denise86@example.net      web            google  "
      ]
     },
<<<<<<< HEAD
     "execution_count": 160,
=======
     "execution_count": 40,
>>>>>>> 9008d37c176dc55525b9ffdf345c9eafb5b17ac1
     "metadata": {},
     "output_type": "execute_result"
    }
   ],
   "source": [
    "regs.head()"
   ]
  },
  {
   "cell_type": "code",
<<<<<<< HEAD
   "execution_count": 161,
=======
   "execution_count": 41,
>>>>>>> 9008d37c176dc55525b9ffdf345c9eafb5b17ac1
   "id": "d341f6e8-a518-4c01-8571-c2469ee83d18",
   "metadata": {},
   "outputs": [
    {
     "data": {
      "text/html": [
       "<div>\n",
       "<style scoped>\n",
       "    .dataframe tbody tr th:only-of-type {\n",
       "        vertical-align: middle;\n",
       "    }\n",
       "\n",
       "    .dataframe tbody tr th {\n",
       "        vertical-align: top;\n",
       "    }\n",
       "\n",
       "    .dataframe thead th {\n",
       "        text-align: right;\n",
       "    }\n",
       "</style>\n",
       "<table border=\"1\" class=\"dataframe\">\n",
       "  <thead>\n",
       "    <tr style=\"text-align: right;\">\n",
       "      <th></th>\n",
       "      <th>visit_id</th>\n",
       "      <th>platform</th>\n",
       "      <th>user_agent</th>\n",
       "      <th>datetime</th>\n",
       "    </tr>\n",
       "  </thead>\n",
       "  <tbody>\n",
       "    <tr>\n",
       "      <th>0</th>\n",
       "      <td>1de9ea66-70d3-4a1f-8735-df5ef7697fb9</td>\n",
       "      <td>web</td>\n",
       "      <td>Mozilla/5.0 (Windows NT 10.0; Win64; x64) Appl...</td>\n",
       "      <td>2023-03-01</td>\n",
       "    </tr>\n",
       "    <tr>\n",
       "      <th>1</th>\n",
       "      <td>f149f542-e935-4870-9734-6b4501eaf614</td>\n",
       "      <td>web</td>\n",
       "      <td>Mozilla/5.0 (Windows NT 10.0; WOW64; Trident/7...</td>\n",
       "      <td>2023-03-01</td>\n",
       "    </tr>\n",
       "    <tr>\n",
       "      <th>2</th>\n",
       "      <td>08f0ebd4-950c-4dd9-8e97-b5bdf073eed1</td>\n",
       "      <td>web</td>\n",
       "      <td>Mozilla/5.0 (Macintosh; Intel Mac OS X 10_11_2...</td>\n",
       "      <td>2023-03-01</td>\n",
       "    </tr>\n",
       "    <tr>\n",
       "      <th>3</th>\n",
       "      <td>19322fed-157c-49c6-b16e-2d5cabeb9592</td>\n",
       "      <td>web</td>\n",
       "      <td>Mozilla/5.0 (Macintosh; Intel Mac OS X 10_15_7...</td>\n",
       "      <td>2023-03-01</td>\n",
       "    </tr>\n",
       "    <tr>\n",
       "      <th>4</th>\n",
       "      <td>04762a22-3c9f-40c9-9ac9-6628c4381836</td>\n",
       "      <td>web</td>\n",
       "      <td>Mozilla/5.0 (Windows NT 10.0; Win64; x64) Appl...</td>\n",
       "      <td>2023-03-01</td>\n",
       "    </tr>\n",
       "    <tr>\n",
       "      <th>5</th>\n",
       "      <td>040e1e30-c9ed-4248-bc97-99a707e36d60</td>\n",
       "      <td>web</td>\n",
       "      <td>Mozilla/5.0 (Windows NT 10.0; Win64; x64) Appl...</td>\n",
       "      <td>2023-03-01</td>\n",
       "    </tr>\n",
       "    <tr>\n",
       "      <th>6</th>\n",
       "      <td>7bf78a4d-9f8f-4ffb-a5f8-0a0a58994953</td>\n",
       "      <td>web</td>\n",
       "      <td>Mozilla/5.0 (Windows NT 10.0; Win64; x64) Appl...</td>\n",
       "      <td>2023-03-01</td>\n",
       "    </tr>\n",
       "    <tr>\n",
       "      <th>7</th>\n",
       "      <td>175e9941-2607-4d5f-b6ab-14759da618fd</td>\n",
       "      <td>web</td>\n",
       "      <td>Mozilla/5.0 (Windows NT 10.0; Win64; x64) Appl...</td>\n",
       "      <td>2023-03-01</td>\n",
       "    </tr>\n",
       "    <tr>\n",
       "      <th>8</th>\n",
       "      <td>d868c2cf-1d4a-4b12-b6a2-0bb02edf0743</td>\n",
       "      <td>web</td>\n",
       "      <td>Mozilla/5.0 (Windows NT 6.1; WOW64) AppleWebKi...</td>\n",
       "      <td>2023-03-01</td>\n",
       "    </tr>\n",
       "    <tr>\n",
       "      <th>9</th>\n",
       "      <td>e1668271-7c9b-4fae-80ca-17b703be0e66</td>\n",
       "      <td>web</td>\n",
       "      <td>Mozilla/5.0 (Windows NT 10.0; Win64; x64; rv:1...</td>\n",
       "      <td>2023-03-01</td>\n",
       "    </tr>\n",
       "  </tbody>\n",
       "</table>\n",
       "</div>"
      ],
      "text/plain": [
       "                               visit_id platform  \\\n",
       "0  1de9ea66-70d3-4a1f-8735-df5ef7697fb9      web   \n",
       "1  f149f542-e935-4870-9734-6b4501eaf614      web   \n",
       "2  08f0ebd4-950c-4dd9-8e97-b5bdf073eed1      web   \n",
       "3  19322fed-157c-49c6-b16e-2d5cabeb9592      web   \n",
       "4  04762a22-3c9f-40c9-9ac9-6628c4381836      web   \n",
       "5  040e1e30-c9ed-4248-bc97-99a707e36d60      web   \n",
       "6  7bf78a4d-9f8f-4ffb-a5f8-0a0a58994953      web   \n",
       "7  175e9941-2607-4d5f-b6ab-14759da618fd      web   \n",
       "8  d868c2cf-1d4a-4b12-b6a2-0bb02edf0743      web   \n",
       "9  e1668271-7c9b-4fae-80ca-17b703be0e66      web   \n",
       "\n",
       "                                          user_agent    datetime  \n",
       "0  Mozilla/5.0 (Windows NT 10.0; Win64; x64) Appl...  2023-03-01  \n",
       "1  Mozilla/5.0 (Windows NT 10.0; WOW64; Trident/7...  2023-03-01  \n",
       "2  Mozilla/5.0 (Macintosh; Intel Mac OS X 10_11_2...  2023-03-01  \n",
       "3  Mozilla/5.0 (Macintosh; Intel Mac OS X 10_15_7...  2023-03-01  \n",
       "4  Mozilla/5.0 (Windows NT 10.0; Win64; x64) Appl...  2023-03-01  \n",
       "5  Mozilla/5.0 (Windows NT 10.0; Win64; x64) Appl...  2023-03-01  \n",
       "6  Mozilla/5.0 (Windows NT 10.0; Win64; x64) Appl...  2023-03-01  \n",
       "7  Mozilla/5.0 (Windows NT 10.0; Win64; x64) Appl...  2023-03-01  \n",
       "8  Mozilla/5.0 (Windows NT 6.1; WOW64) AppleWebKi...  2023-03-01  \n",
       "9  Mozilla/5.0 (Windows NT 10.0; Win64; x64; rv:1...  2023-03-01  "
      ]
     },
<<<<<<< HEAD
     "execution_count": 161,
=======
     "execution_count": 41,
>>>>>>> 9008d37c176dc55525b9ffdf345c9eafb5b17ac1
     "metadata": {},
     "output_type": "execute_result"
    }
   ],
   "source": [
    "visitors.head(10)"
   ]
  },
  {
   "cell_type": "code",
<<<<<<< HEAD
   "execution_count": 162,
=======
   "execution_count": 42,
>>>>>>> 9008d37c176dc55525b9ffdf345c9eafb5b17ac1
   "id": "dfa19d14-630a-406a-a08f-af2306d7bba9",
   "metadata": {},
   "outputs": [],
   "source": [
    "## Анализ зарегистрированных пользователей"
   ]
  },
  {
   "cell_type": "code",
<<<<<<< HEAD
   "execution_count": 163,
=======
   "execution_count": 121,
>>>>>>> 9008d37c176dc55525b9ffdf345c9eafb5b17ac1
   "id": "06ec9097-1ca2-4d22-9c6c-624874554d32",
   "metadata": {},
   "outputs": [
    {
     "data": {
      "text/html": [
       "<div>\n",
       "<style scoped>\n",
       "    .dataframe tbody tr th:only-of-type {\n",
       "        vertical-align: middle;\n",
       "    }\n",
       "\n",
       "    .dataframe tbody tr th {\n",
       "        vertical-align: top;\n",
       "    }\n",
       "\n",
       "    .dataframe thead th {\n",
       "        text-align: right;\n",
       "    }\n",
       "</style>\n",
       "<table border=\"1\" class=\"dataframe\">\n",
       "  <thead>\n",
       "    <tr style=\"text-align: right;\">\n",
       "      <th></th>\n",
       "      <th>visit_id</th>\n",
       "      <th>platform</th>\n",
       "      <th>user_agent</th>\n",
       "      <th>datetime</th>\n",
       "    </tr>\n",
       "  </thead>\n",
       "  <tbody>\n",
       "    <tr>\n",
       "      <th>count</th>\n",
       "      <td>26478</td>\n",
       "      <td>26478</td>\n",
       "      <td>26478</td>\n",
       "      <td>26478</td>\n",
       "    </tr>\n",
       "    <tr>\n",
       "      <th>unique</th>\n",
       "      <td>26478</td>\n",
       "      <td>3</td>\n",
       "      <td>28</td>\n",
       "      <td>32</td>\n",
       "    </tr>\n",
       "    <tr>\n",
       "      <th>top</th>\n",
<<<<<<< HEAD
       "      <td>f88401d7-1409-4415-baf2-3cbff664f4d0</td>\n",
=======
       "      <td>ffffa6be-7d31-4b9c-b455-68c041c33b10</td>\n",
>>>>>>> 9008d37c176dc55525b9ffdf345c9eafb5b17ac1
       "      <td>web</td>\n",
       "      <td>Mozilla/5.0 (Macintosh; Intel Mac OS X 10_15_7...</td>\n",
       "      <td>2023-03-06</td>\n",
       "    </tr>\n",
       "    <tr>\n",
       "      <th>freq</th>\n",
       "      <td>1</td>\n",
       "      <td>22977</td>\n",
       "      <td>1316</td>\n",
       "      <td>1287</td>\n",
       "    </tr>\n",
       "  </tbody>\n",
       "</table>\n",
       "</div>"
      ],
      "text/plain": [
       "                                    visit_id platform  \\\n",
<<<<<<< HEAD
       "count                                  91997    91997   \n",
       "unique                                 51795        4   \n",
       "top     f88401d7-1409-4415-baf2-3cbff664f4d0      web   \n",
       "freq                                       4    82492   \n",
=======
       "count                                  26478    26478   \n",
       "unique                                 26478        3   \n",
       "top     ffffa6be-7d31-4b9c-b455-68c041c33b10      web   \n",
       "freq                                       1    22977   \n",
>>>>>>> 9008d37c176dc55525b9ffdf345c9eafb5b17ac1
       "\n",
       "                                               user_agent    datetime  \n",
       "count                                               26478       26478  \n",
       "unique                                                 28          32  \n",
       "top     Mozilla/5.0 (Macintosh; Intel Mac OS X 10_15_7...  2023-03-06  \n",
       "freq                                                 1316        1287  "
      ]
     },
<<<<<<< HEAD
     "execution_count": 163,
=======
     "execution_count": 121,
>>>>>>> 9008d37c176dc55525b9ffdf345c9eafb5b17ac1
     "metadata": {},
     "output_type": "execute_result"
    }
   ],
   "source": [
    "visitors.describe()"
   ]
  },
  {
   "cell_type": "code",
<<<<<<< HEAD
   "execution_count": 164,
=======
   "execution_count": 123,
>>>>>>> 9008d37c176dc55525b9ffdf345c9eafb5b17ac1
   "id": "1f4504ab-d1a9-47f9-9eca-9ba13e7ed2e1",
   "metadata": {},
   "outputs": [],
   "source": [
    "## Анализ посещаемых пользователей"
   ]
  },
  {
   "cell_type": "code",
<<<<<<< HEAD
   "execution_count": 165,
=======
   "execution_count": 125,
>>>>>>> 9008d37c176dc55525b9ffdf345c9eafb5b17ac1
   "id": "764c25e7-aa52-48b9-9707-03f8d8eee664",
   "metadata": {},
   "outputs": [
    {
     "data": {
      "text/html": [
       "<div>\n",
       "<style scoped>\n",
       "    .dataframe tbody tr th:only-of-type {\n",
       "        vertical-align: middle;\n",
       "    }\n",
       "\n",
       "    .dataframe tbody tr th {\n",
       "        vertical-align: top;\n",
       "    }\n",
       "\n",
       "    .dataframe thead th {\n",
       "        text-align: right;\n",
       "    }\n",
       "</style>\n",
       "<table border=\"1\" class=\"dataframe\">\n",
       "  <thead>\n",
       "    <tr style=\"text-align: right;\">\n",
       "      <th></th>\n",
       "      <th>datetime</th>\n",
       "      <th>user_id</th>\n",
       "      <th>email</th>\n",
       "      <th>platform</th>\n",
       "      <th>registration_type</th>\n",
       "    </tr>\n",
       "  </thead>\n",
       "  <tbody>\n",
       "    <tr>\n",
       "      <th>count</th>\n",
       "      <td>3945</td>\n",
       "      <td>3945</td>\n",
       "      <td>3945</td>\n",
       "      <td>3945</td>\n",
       "      <td>3945</td>\n",
       "    </tr>\n",
       "    <tr>\n",
       "      <th>unique</th>\n",
       "      <td>32</td>\n",
       "      <td>3945</td>\n",
       "      <td>3913</td>\n",
       "      <td>3</td>\n",
       "      <td>4</td>\n",
       "    </tr>\n",
       "    <tr>\n",
       "      <th>top</th>\n",
       "      <td>2023-03-06</td>\n",
<<<<<<< HEAD
       "      <td>2e0f6bb8-b029-4f45-a786-2b53990d37f1</td>\n",
       "      <td>csmith@example.org</td>\n",
=======
       "      <td>8bb3bb2c-5ca7-47b8-be5c-3c17a35e7ec7</td>\n",
       "      <td>prodriguez@example.net</td>\n",
>>>>>>> 9008d37c176dc55525b9ffdf345c9eafb5b17ac1
       "      <td>android</td>\n",
       "      <td>email</td>\n",
       "    </tr>\n",
       "    <tr>\n",
       "      <th>freq</th>\n",
       "      <td>230</td>\n",
       "      <td>1</td>\n",
       "      <td>3</td>\n",
       "      <td>1925</td>\n",
       "      <td>1651</td>\n",
       "    </tr>\n",
       "  </tbody>\n",
       "</table>\n",
       "</div>"
      ],
      "text/plain": [
<<<<<<< HEAD
       "          datetime                               user_id               email  \\\n",
       "count         8179                                  8179                8179   \n",
       "unique          61                                  8179                8023   \n",
       "top     2023-03-06  2e0f6bb8-b029-4f45-a786-2b53990d37f1  csmith@example.org   \n",
       "freq           230                                     1                   4   \n",
=======
       "          datetime                               user_id  \\\n",
       "count         3945                                  3945   \n",
       "unique          32                                  3945   \n",
       "top     2023-03-06  8bb3bb2c-5ca7-47b8-be5c-3c17a35e7ec7   \n",
       "freq           230                                     1   \n",
>>>>>>> 9008d37c176dc55525b9ffdf345c9eafb5b17ac1
       "\n",
       "                         email platform registration_type  \n",
       "count                     3945     3945              3945  \n",
       "unique                    3913        3                 4  \n",
       "top     prodriguez@example.net  android             email  \n",
       "freq                         3     1925              1651  "
      ]
     },
<<<<<<< HEAD
     "execution_count": 165,
=======
     "execution_count": 125,
>>>>>>> 9008d37c176dc55525b9ffdf345c9eafb5b17ac1
     "metadata": {},
     "output_type": "execute_result"
    }
   ],
   "source": [
    "regs.describe()"
   ]
  },
  {
   "cell_type": "code",
<<<<<<< HEAD
   "execution_count": 166,
=======
   "execution_count": 127,
>>>>>>> 9008d37c176dc55525b9ffdf345c9eafb5b17ac1
   "id": "85c5f67f-b08b-4231-a8d9-49db3f3b79b4",
   "metadata": {},
   "outputs": [],
   "source": [
    "## Фильтрация уникальных пользователей без ботов"
   ]
  },
  {
   "cell_type": "code",
<<<<<<< HEAD
   "execution_count": 167,
=======
   "execution_count": 137,
>>>>>>> 9008d37c176dc55525b9ffdf345c9eafb5b17ac1
   "id": "e469110f-c482-41cb-ad0a-138e1f4901e2",
   "metadata": {},
   "outputs": [],
   "source": [
<<<<<<< HEAD
    "visitors = visitors.drop_duplicates(subset=\"visit_id\", keep=\"last\")\n",
    "# visitors = visitors[~visitors['platform'].isin(['bot'])]\n",
    "visitors = visitors[visitors['user_agent'].apply(lambda x: 'bot' not in x)]"
=======
    "visitors = visitors.sort_values(by=['visit_id', 'datetime']).drop_duplicates(subset='visit_id', keep='last')\n",
    "visitors = visitors[~visitors['platform'].isin(['bot'])]"
>>>>>>> 9008d37c176dc55525b9ffdf345c9eafb5b17ac1
   ]
  },
  {
   "cell_type": "code",
<<<<<<< HEAD
   "execution_count": 168,
=======
   "execution_count": 139,
>>>>>>> 9008d37c176dc55525b9ffdf345c9eafb5b17ac1
   "id": "b9b2ca31-ca70-49fe-b72f-40b6806786d1",
   "metadata": {},
   "outputs": [],
   "source": [
    "## Группировка пользователей"
   ]
  },
  {
   "cell_type": "code",
<<<<<<< HEAD
   "execution_count": 169,
   "id": "0890f39a-406f-4dc8-9af7-d7f3682b3c3b",
=======
   "execution_count": 141,
   "id": "5d81345f-6730-4a55-bd75-f3192d70b77d",
>>>>>>> 9008d37c176dc55525b9ffdf345c9eafb5b17ac1
   "metadata": {},
   "outputs": [],
   "source": [
    "grouped_visitors = visitors.groupby(['platform', 'datetime'])['datetime'].count().reset_index(name='visits')"
   ]
  },
  {
   "cell_type": "code",
   "execution_count": 143,
   "id": "bee91442-0e7c-4cee-b605-87ca524ce46d",
   "metadata": {},
   "outputs": [],
   "source": [
    "regs = regs.sort_values(by=['user_id', 'datetime'])\n",
    "grouped_regs = regs.groupby(['platform', 'datetime'])['datetime'].count().reset_index(name='registrations')"
   ]
  },
  {
   "cell_type": "code",
<<<<<<< HEAD
   "execution_count": 180,
   "id": "5d81345f-6730-4a55-bd75-f3192d70b77d",
   "metadata": {},
   "outputs": [],
   "source": [
    "grouped_visitors = visitors.groupby(['platform', 'datetime'])['datetime'].count().reset_index(name='visits')"
   ]
  },
  {
   "cell_type": "code",
   "execution_count": 181,
   "id": "4289243a-988e-4f7b-abcb-0bff067920ea",
=======
   "execution_count": 145,
   "id": "00b1ea43-60a1-47ef-a9dd-ba5447e8630d",
>>>>>>> 9008d37c176dc55525b9ffdf345c9eafb5b17ac1
   "metadata": {},
   "outputs": [
    {
     "data": {
      "text/html": [
       "<div>\n",
       "<style scoped>\n",
       "    .dataframe tbody tr th:only-of-type {\n",
       "        vertical-align: middle;\n",
       "    }\n",
       "\n",
       "    .dataframe tbody tr th {\n",
       "        vertical-align: top;\n",
       "    }\n",
       "\n",
       "    .dataframe thead th {\n",
       "        text-align: right;\n",
       "    }\n",
       "</style>\n",
       "<table border=\"1\" class=\"dataframe\">\n",
       "  <thead>\n",
       "    <tr style=\"text-align: right;\">\n",
       "      <th></th>\n",
       "      <th>platform</th>\n",
       "      <th>datetime</th>\n",
       "      <th>registrations</th>\n",
       "    </tr>\n",
       "  </thead>\n",
       "  <tbody>\n",
       "    <tr>\n",
       "      <th>0</th>\n",
       "      <td>android</td>\n",
       "      <td>2023-03-01</td>\n",
       "      <td>61</td>\n",
       "    </tr>\n",
       "    <tr>\n",
       "      <th>1</th>\n",
       "      <td>android</td>\n",
       "      <td>2023-03-02</td>\n",
       "      <td>59</td>\n",
       "    </tr>\n",
       "    <tr>\n",
       "      <th>2</th>\n",
       "      <td>android</td>\n",
       "      <td>2023-03-03</td>\n",
       "      <td>22</td>\n",
       "    </tr>\n",
       "    <tr>\n",
       "      <th>3</th>\n",
       "      <td>android</td>\n",
       "      <td>2023-03-04</td>\n",
       "      <td>77</td>\n",
       "    </tr>\n",
       "    <tr>\n",
       "      <th>4</th>\n",
       "      <td>android</td>\n",
       "      <td>2023-03-05</td>\n",
       "      <td>54</td>\n",
       "    </tr>\n",
       "    <tr>\n",
       "      <th>5</th>\n",
       "      <td>android</td>\n",
       "      <td>2023-03-06</td>\n",
       "      <td>109</td>\n",
       "    </tr>\n",
       "    <tr>\n",
       "      <th>6</th>\n",
       "      <td>android</td>\n",
       "      <td>2023-03-07</td>\n",
       "      <td>50</td>\n",
       "    </tr>\n",
       "    <tr>\n",
       "      <th>7</th>\n",
       "      <td>android</td>\n",
       "      <td>2023-03-08</td>\n",
       "      <td>74</td>\n",
       "    </tr>\n",
       "    <tr>\n",
       "      <th>8</th>\n",
       "      <td>android</td>\n",
       "      <td>2023-03-09</td>\n",
       "      <td>106</td>\n",
       "    </tr>\n",
       "    <tr>\n",
       "      <th>9</th>\n",
       "      <td>android</td>\n",
       "      <td>2023-03-10</td>\n",
       "      <td>59</td>\n",
       "    </tr>\n",
       "    <tr>\n",
       "      <th>10</th>\n",
       "      <td>android</td>\n",
       "      <td>2023-03-11</td>\n",
       "      <td>37</td>\n",
       "    </tr>\n",
       "    <tr>\n",
       "      <th>11</th>\n",
       "      <td>android</td>\n",
       "      <td>2023-03-12</td>\n",
       "      <td>87</td>\n",
       "    </tr>\n",
       "    <tr>\n",
       "      <th>12</th>\n",
       "      <td>android</td>\n",
       "      <td>2023-03-13</td>\n",
       "      <td>109</td>\n",
       "    </tr>\n",
       "    <tr>\n",
       "      <th>13</th>\n",
       "      <td>android</td>\n",
       "      <td>2023-03-14</td>\n",
       "      <td>53</td>\n",
       "    </tr>\n",
       "    <tr>\n",
       "      <th>14</th>\n",
       "      <td>android</td>\n",
       "      <td>2023-03-15</td>\n",
       "      <td>60</td>\n",
       "    </tr>\n",
       "  </tbody>\n",
       "</table>\n",
       "</div>"
      ],
      "text/plain": [
       "   platform    datetime  registrations\n",
       "0   android  2023-03-01             61\n",
       "1   android  2023-03-02             59\n",
       "2   android  2023-03-03             22\n",
       "3   android  2023-03-04             77\n",
       "4   android  2023-03-05             54\n",
       "5   android  2023-03-06            109\n",
       "6   android  2023-03-07             50\n",
       "7   android  2023-03-08             74\n",
       "8   android  2023-03-09            106\n",
       "9   android  2023-03-10             59\n",
       "10  android  2023-03-11             37\n",
       "11  android  2023-03-12             87\n",
       "12  android  2023-03-13            109\n",
       "13  android  2023-03-14             53\n",
       "14  android  2023-03-15             60"
      ]
     },
<<<<<<< HEAD
     "execution_count": 181,
=======
     "execution_count": 145,
>>>>>>> 9008d37c176dc55525b9ffdf345c9eafb5b17ac1
     "metadata": {},
     "output_type": "execute_result"
    }
   ],
   "source": [
    "grouped_regs.head(15)"
   ]
  },
  {
   "cell_type": "code",
<<<<<<< HEAD
   "execution_count": 182,
=======
   "execution_count": 147,
>>>>>>> 9008d37c176dc55525b9ffdf345c9eafb5b17ac1
   "id": "d3b39383-80d8-46d1-98d1-5385cbf9756e",
   "metadata": {},
   "outputs": [
    {
     "data": {
      "text/html": [
       "<div>\n",
       "<style scoped>\n",
       "    .dataframe tbody tr th:only-of-type {\n",
       "        vertical-align: middle;\n",
       "    }\n",
       "\n",
       "    .dataframe tbody tr th {\n",
       "        vertical-align: top;\n",
       "    }\n",
       "\n",
       "    .dataframe thead th {\n",
       "        text-align: right;\n",
       "    }\n",
       "</style>\n",
       "<table border=\"1\" class=\"dataframe\">\n",
       "  <thead>\n",
       "    <tr style=\"text-align: right;\">\n",
       "      <th></th>\n",
       "      <th>platform</th>\n",
       "      <th>datetime</th>\n",
       "      <th>visits</th>\n",
       "    </tr>\n",
       "  </thead>\n",
       "  <tbody>\n",
       "    <tr>\n",
       "      <th>0</th>\n",
       "      <td>android</td>\n",
       "      <td>2023-03-01</td>\n",
       "      <td>75</td>\n",
       "    </tr>\n",
       "    <tr>\n",
       "      <th>1</th>\n",
       "      <td>android</td>\n",
       "      <td>2023-03-02</td>\n",
       "      <td>67</td>\n",
       "    </tr>\n",
       "    <tr>\n",
       "      <th>2</th>\n",
       "      <td>android</td>\n",
       "      <td>2023-03-03</td>\n",
       "      <td>26</td>\n",
       "    </tr>\n",
       "    <tr>\n",
       "      <th>3</th>\n",
       "      <td>android</td>\n",
       "      <td>2023-03-04</td>\n",
       "      <td>94</td>\n",
       "    </tr>\n",
       "    <tr>\n",
       "      <th>4</th>\n",
       "      <td>android</td>\n",
       "      <td>2023-03-05</td>\n",
       "      <td>66</td>\n",
       "    </tr>\n",
       "    <tr>\n",
       "      <th>...</th>\n",
       "      <td>...</td>\n",
       "      <td>...</td>\n",
       "      <td>...</td>\n",
       "    </tr>\n",
       "    <tr>\n",
       "      <th>91</th>\n",
       "      <td>web</td>\n",
       "      <td>2023-03-28</td>\n",
       "      <td>532</td>\n",
       "    </tr>\n",
       "    <tr>\n",
       "      <th>92</th>\n",
       "      <td>web</td>\n",
       "      <td>2023-03-29</td>\n",
       "      <td>671</td>\n",
       "    </tr>\n",
       "    <tr>\n",
       "      <th>93</th>\n",
       "      <td>web</td>\n",
       "      <td>2023-03-30</td>\n",
       "      <td>728</td>\n",
       "    </tr>\n",
       "    <tr>\n",
       "      <th>94</th>\n",
       "      <td>web</td>\n",
       "      <td>2023-03-31</td>\n",
       "      <td>775</td>\n",
       "    </tr>\n",
       "    <tr>\n",
       "      <th>95</th>\n",
       "      <td>web</td>\n",
       "      <td>2023-04-01</td>\n",
       "      <td>772</td>\n",
       "    </tr>\n",
       "  </tbody>\n",
       "</table>\n",
       "<p>96 rows × 3 columns</p>\n",
       "</div>"
      ],
      "text/plain": [
       "   platform    datetime  visits\n",
       "0   android  2023-03-01      75\n",
       "1   android  2023-03-02      67\n",
       "2   android  2023-03-03      26\n",
       "3   android  2023-03-04      94\n",
       "4   android  2023-03-05      66\n",
       "..      ...         ...     ...\n",
       "91      web  2023-03-28     532\n",
       "92      web  2023-03-29     671\n",
       "93      web  2023-03-30     728\n",
       "94      web  2023-03-31     775\n",
       "95      web  2023-04-01     772\n",
       "\n",
       "[96 rows x 3 columns]"
      ]
     },
<<<<<<< HEAD
     "execution_count": 182,
=======
     "execution_count": 147,
>>>>>>> 9008d37c176dc55525b9ffdf345c9eafb5b17ac1
     "metadata": {},
     "output_type": "execute_result"
    }
   ],
   "source": [
    "grouped_visitors.head(100)"
   ]
  },
  {
   "cell_type": "code",
<<<<<<< HEAD
   "execution_count": 183,
=======
   "execution_count": 149,
>>>>>>> 9008d37c176dc55525b9ffdf345c9eafb5b17ac1
   "id": "77b0fa91-82bf-45b5-9b5b-3c951baf37f8",
   "metadata": {},
   "outputs": [],
   "source": [
    "## Соединение таблиц и расчет конверсии"
   ]
  },
  {
   "cell_type": "code",
<<<<<<< HEAD
   "execution_count": 184,
=======
   "execution_count": 151,
>>>>>>> 9008d37c176dc55525b9ffdf345c9eafb5b17ac1
   "id": "2517cd59-e38f-4b61-aef3-4844a4bf66c0",
   "metadata": {},
   "outputs": [],
   "source": [
    "conversion = pd.merge(\n",
    "    grouped_visitors, grouped_regs\n",
    ")\n",
    "conversion = conversion.rename(columns={'datetime': 'date_group'})\n",
    "conversion['conversion'] = (conversion['registrations'] / conversion['visits']) * 100\n",
    "conversion.sort_values(by='date_group', inplace=True)\n",
    "conversion.to_json('./conversion.json')"
   ]
  },
  {
   "cell_type": "code",
<<<<<<< HEAD
   "execution_count": 185,
=======
   "execution_count": 153,
>>>>>>> 9008d37c176dc55525b9ffdf345c9eafb5b17ac1
   "id": "b47a9b0c-3a69-42f7-9445-0332f1c8f4bc",
   "metadata": {},
   "outputs": [
    {
     "data": {
      "text/html": [
       "<div>\n",
       "<style scoped>\n",
       "    .dataframe tbody tr th:only-of-type {\n",
       "        vertical-align: middle;\n",
       "    }\n",
       "\n",
       "    .dataframe tbody tr th {\n",
       "        vertical-align: top;\n",
       "    }\n",
       "\n",
       "    .dataframe thead th {\n",
       "        text-align: right;\n",
       "    }\n",
       "</style>\n",
       "<table border=\"1\" class=\"dataframe\">\n",
       "  <thead>\n",
       "    <tr style=\"text-align: right;\">\n",
       "      <th></th>\n",
       "      <th>platform</th>\n",
       "      <th>date_group</th>\n",
       "      <th>visits</th>\n",
       "      <th>registrations</th>\n",
       "      <th>conversion</th>\n",
       "    </tr>\n",
       "  </thead>\n",
       "  <tbody>\n",
       "    <tr>\n",
       "      <th>0</th>\n",
       "      <td>android</td>\n",
       "      <td>2023-03-01</td>\n",
       "      <td>75</td>\n",
       "      <td>61</td>\n",
       "      <td>81.333333</td>\n",
       "    </tr>\n",
       "    <tr>\n",
       "      <th>64</th>\n",
       "      <td>web</td>\n",
       "      <td>2023-03-01</td>\n",
       "      <td>787</td>\n",
       "      <td>8</td>\n",
       "      <td>1.016518</td>\n",
       "    </tr>\n",
       "    <tr>\n",
       "      <th>32</th>\n",
       "      <td>ios</td>\n",
       "      <td>2023-03-01</td>\n",
       "      <td>22</td>\n",
       "      <td>18</td>\n",
       "      <td>81.818182</td>\n",
       "    </tr>\n",
       "    <tr>\n",
       "      <th>1</th>\n",
       "      <td>android</td>\n",
       "      <td>2023-03-02</td>\n",
       "      <td>67</td>\n",
       "      <td>59</td>\n",
       "      <td>88.059701</td>\n",
       "    </tr>\n",
       "    <tr>\n",
       "      <th>65</th>\n",
       "      <td>web</td>\n",
       "      <td>2023-03-02</td>\n",
       "      <td>952</td>\n",
       "      <td>23</td>\n",
       "      <td>2.415966</td>\n",
       "    </tr>\n",
       "    <tr>\n",
       "      <th>33</th>\n",
       "      <td>ios</td>\n",
       "      <td>2023-03-02</td>\n",
       "      <td>31</td>\n",
       "      <td>24</td>\n",
       "      <td>77.419355</td>\n",
       "    </tr>\n",
       "    <tr>\n",
       "      <th>2</th>\n",
       "      <td>android</td>\n",
       "      <td>2023-03-03</td>\n",
       "      <td>26</td>\n",
       "      <td>22</td>\n",
       "      <td>84.615385</td>\n",
       "    </tr>\n",
       "    <tr>\n",
       "      <th>66</th>\n",
       "      <td>web</td>\n",
       "      <td>2023-03-03</td>\n",
       "      <td>1081</td>\n",
       "      <td>51</td>\n",
       "      <td>4.717854</td>\n",
       "    </tr>\n",
       "    <tr>\n",
       "      <th>34</th>\n",
       "      <td>ios</td>\n",
       "      <td>2023-03-03</td>\n",
       "      <td>40</td>\n",
       "      <td>34</td>\n",
       "      <td>85.000000</td>\n",
       "    </tr>\n",
       "    <tr>\n",
       "      <th>3</th>\n",
       "      <td>android</td>\n",
       "      <td>2023-03-04</td>\n",
       "      <td>94</td>\n",
       "      <td>77</td>\n",
       "      <td>81.914894</td>\n",
       "    </tr>\n",
       "    <tr>\n",
       "      <th>67</th>\n",
       "      <td>web</td>\n",
       "      <td>2023-03-04</td>\n",
       "      <td>1070</td>\n",
       "      <td>39</td>\n",
       "      <td>3.644860</td>\n",
       "    </tr>\n",
       "    <tr>\n",
       "      <th>35</th>\n",
       "      <td>ios</td>\n",
       "      <td>2023-03-04</td>\n",
       "      <td>68</td>\n",
       "      <td>43</td>\n",
       "      <td>63.235294</td>\n",
       "    </tr>\n",
       "    <tr>\n",
       "      <th>68</th>\n",
       "      <td>web</td>\n",
       "      <td>2023-03-05</td>\n",
       "      <td>1063</td>\n",
       "      <td>48</td>\n",
       "      <td>4.515522</td>\n",
       "    </tr>\n",
       "    <tr>\n",
       "      <th>36</th>\n",
       "      <td>ios</td>\n",
       "      <td>2023-03-05</td>\n",
       "      <td>16</td>\n",
       "      <td>13</td>\n",
       "      <td>81.250000</td>\n",
       "    </tr>\n",
       "    <tr>\n",
       "      <th>4</th>\n",
       "      <td>android</td>\n",
       "      <td>2023-03-05</td>\n",
       "      <td>66</td>\n",
       "      <td>54</td>\n",
       "      <td>81.818182</td>\n",
       "    </tr>\n",
       "  </tbody>\n",
       "</table>\n",
       "</div>"
      ],
      "text/plain": [
       "   platform  date_group  visits  registrations  conversion\n",
       "0   android  2023-03-01      75             61   81.333333\n",
       "64      web  2023-03-01     787              8    1.016518\n",
       "32      ios  2023-03-01      22             18   81.818182\n",
       "1   android  2023-03-02      67             59   88.059701\n",
       "65      web  2023-03-02     952             23    2.415966\n",
       "33      ios  2023-03-02      31             24   77.419355\n",
       "2   android  2023-03-03      26             22   84.615385\n",
       "66      web  2023-03-03    1081             51    4.717854\n",
       "34      ios  2023-03-03      40             34   85.000000\n",
       "3   android  2023-03-04      94             77   81.914894\n",
       "67      web  2023-03-04    1070             39    3.644860\n",
       "35      ios  2023-03-04      68             43   63.235294\n",
       "68      web  2023-03-05    1063             48    4.515522\n",
       "36      ios  2023-03-05      16             13   81.250000\n",
       "4   android  2023-03-05      66             54   81.818182"
      ]
     },
<<<<<<< HEAD
     "execution_count": 185,
=======
     "execution_count": 153,
>>>>>>> 9008d37c176dc55525b9ffdf345c9eafb5b17ac1
     "metadata": {},
     "output_type": "execute_result"
    }
   ],
   "source": [
    "conversion.head(15)"
   ]
  },
  {
   "cell_type": "code",
<<<<<<< HEAD
   "execution_count": 186,
=======
   "execution_count": 155,
>>>>>>> 9008d37c176dc55525b9ffdf345c9eafb5b17ac1
   "id": "7c85bc0e-4e49-4b31-b083-34694717250c",
   "metadata": {},
   "outputs": [],
   "source": [
    "## Группируем и аггрегируем столбцы по дате"
   ]
  },
  {
   "cell_type": "code",
<<<<<<< HEAD
   "execution_count": 187,
=======
   "execution_count": 157,
>>>>>>> 9008d37c176dc55525b9ffdf345c9eafb5b17ac1
   "id": "07602682-07a5-49bb-b148-091f36c650d4",
   "metadata": {},
   "outputs": [
    {
     "data": {
      "text/html": [
       "<div>\n",
       "<style scoped>\n",
       "    .dataframe tbody tr th:only-of-type {\n",
       "        vertical-align: middle;\n",
       "    }\n",
       "\n",
       "    .dataframe tbody tr th {\n",
       "        vertical-align: top;\n",
       "    }\n",
       "\n",
       "    .dataframe thead th {\n",
       "        text-align: right;\n",
       "    }\n",
       "</style>\n",
       "<table border=\"1\" class=\"dataframe\">\n",
       "  <thead>\n",
       "    <tr style=\"text-align: right;\">\n",
       "      <th></th>\n",
       "      <th>date_group</th>\n",
       "      <th>platform</th>\n",
       "      <th>visits</th>\n",
       "      <th>registrations</th>\n",
       "      <th>conversion</th>\n",
       "    </tr>\n",
       "  </thead>\n",
       "  <tbody>\n",
       "    <tr>\n",
       "      <th>0</th>\n",
       "      <td>2023-03-01</td>\n",
       "      <td>androidwebios</td>\n",
       "      <td>884</td>\n",
       "      <td>87</td>\n",
       "      <td>164.168034</td>\n",
       "    </tr>\n",
       "    <tr>\n",
       "      <th>1</th>\n",
       "      <td>2023-03-02</td>\n",
       "      <td>androidwebios</td>\n",
       "      <td>1050</td>\n",
       "      <td>106</td>\n",
       "      <td>167.895023</td>\n",
       "    </tr>\n",
       "    <tr>\n",
       "      <th>2</th>\n",
       "      <td>2023-03-03</td>\n",
       "      <td>androidwebios</td>\n",
       "      <td>1147</td>\n",
       "      <td>107</td>\n",
       "      <td>174.333238</td>\n",
       "    </tr>\n",
       "    <tr>\n",
       "      <th>3</th>\n",
       "      <td>2023-03-04</td>\n",
       "      <td>androidwebios</td>\n",
       "      <td>1232</td>\n",
       "      <td>159</td>\n",
       "      <td>148.795048</td>\n",
       "    </tr>\n",
       "    <tr>\n",
       "      <th>4</th>\n",
       "      <td>2023-03-05</td>\n",
       "      <td>webiosandroid</td>\n",
       "      <td>1145</td>\n",
       "      <td>115</td>\n",
       "      <td>167.583704</td>\n",
       "    </tr>\n",
       "  </tbody>\n",
       "</table>\n",
       "</div>"
      ],
      "text/plain": [
       "   date_group       platform  visits  registrations  conversion\n",
       "0  2023-03-01  androidwebios     884             87  164.168034\n",
       "1  2023-03-02  androidwebios    1050            106  167.895023\n",
       "2  2023-03-03  androidwebios    1147            107  174.333238\n",
       "3  2023-03-04  androidwebios    1232            159  148.795048\n",
       "4  2023-03-05  webiosandroid    1145            115  167.583704"
      ]
     },
<<<<<<< HEAD
     "execution_count": 187,
=======
     "execution_count": 157,
>>>>>>> 9008d37c176dc55525b9ffdf345c9eafb5b17ac1
     "metadata": {},
     "output_type": "execute_result"
    }
   ],
   "source": [
    "grouped_conversion = conversion.groupby('date_group', as_index=False).sum()\n",
    "grouped_conversion.head()"
   ]
  },
  {
   "cell_type": "code",
<<<<<<< HEAD
   "execution_count": 188,
=======
   "execution_count": 159,
>>>>>>> 9008d37c176dc55525b9ffdf345c9eafb5b17ac1
   "id": "a532350f-d4cf-4e2e-8303-921f6802fa47",
   "metadata": {},
   "outputs": [],
   "source": [
    "## Загружаем данные по рекламным компаниями"
   ]
  },
  {
   "cell_type": "code",
<<<<<<< HEAD
   "execution_count": 189,
=======
   "execution_count": 161,
>>>>>>> 9008d37c176dc55525b9ffdf345c9eafb5b17ac1
   "id": "9bfed8c9-258f-42fa-a98d-8f1987295ab7",
   "metadata": {},
   "outputs": [],
   "source": [
    "ads = pd.read_csv('./ads.csv')\n",
    "ads['date'] = pd.to_datetime(ads['date']).dt.date"
   ]
  },
  {
   "cell_type": "code",
<<<<<<< HEAD
   "execution_count": 190,
=======
   "execution_count": 163,
>>>>>>> 9008d37c176dc55525b9ffdf345c9eafb5b17ac1
   "id": "5d75f9e5-f383-4330-ab2b-40f6b3e8360c",
   "metadata": {},
   "outputs": [],
   "source": [
    "## Группируем рекламу по дате и объединяем с конверсией"
   ]
  },
  {
   "cell_type": "code",
<<<<<<< HEAD
   "execution_count": 191,
=======
   "execution_count": 165,
>>>>>>> 9008d37c176dc55525b9ffdf345c9eafb5b17ac1
   "id": "b10bbe7d-2582-4775-ba7b-fd81fbf78879",
   "metadata": {},
   "outputs": [
    {
     "data": {
      "text/html": [
       "<div>\n",
       "<style scoped>\n",
       "    .dataframe tbody tr th:only-of-type {\n",
       "        vertical-align: middle;\n",
       "    }\n",
       "\n",
       "    .dataframe tbody tr th {\n",
       "        vertical-align: top;\n",
       "    }\n",
       "\n",
       "    .dataframe thead th {\n",
       "        text-align: right;\n",
       "    }\n",
       "</style>\n",
       "<table border=\"1\" class=\"dataframe\">\n",
       "  <thead>\n",
       "    <tr style=\"text-align: right;\">\n",
       "      <th></th>\n",
       "      <th>date_group</th>\n",
       "      <th>visits</th>\n",
       "      <th>registrations</th>\n",
       "      <th>cost</th>\n",
       "      <th>utm_campaign</th>\n",
       "    </tr>\n",
       "  </thead>\n",
       "  <tbody>\n",
       "    <tr>\n",
       "      <th>0</th>\n",
       "      <td>2023-03-01</td>\n",
       "      <td>884</td>\n",
       "      <td>87</td>\n",
       "      <td>212</td>\n",
       "      <td>advanced_algorithms_series</td>\n",
       "    </tr>\n",
       "    <tr>\n",
       "      <th>1</th>\n",
       "      <td>2023-03-02</td>\n",
       "      <td>1050</td>\n",
       "      <td>106</td>\n",
       "      <td>252</td>\n",
       "      <td>advanced_algorithms_series</td>\n",
       "    </tr>\n",
       "    <tr>\n",
       "      <th>2</th>\n",
       "      <td>2023-03-03</td>\n",
       "      <td>1147</td>\n",
       "      <td>107</td>\n",
       "      <td>202</td>\n",
       "      <td>advanced_algorithms_series</td>\n",
       "    </tr>\n",
       "    <tr>\n",
       "      <th>3</th>\n",
       "      <td>2023-03-04</td>\n",
       "      <td>1232</td>\n",
       "      <td>159</td>\n",
       "      <td>223</td>\n",
       "      <td>advanced_algorithms_series</td>\n",
       "    </tr>\n",
       "    <tr>\n",
       "      <th>4</th>\n",
       "      <td>2023-03-05</td>\n",
       "      <td>1145</td>\n",
       "      <td>115</td>\n",
       "      <td>265</td>\n",
       "      <td>advanced_algorithms_series</td>\n",
       "    </tr>\n",
       "  </tbody>\n",
       "</table>\n",
       "</div>"
      ],
      "text/plain": [
       "   date_group  visits  registrations  cost                utm_campaign\n",
       "0  2023-03-01     884             87   212  advanced_algorithms_series\n",
       "1  2023-03-02    1050            106   252  advanced_algorithms_series\n",
       "2  2023-03-03    1147            107   202  advanced_algorithms_series\n",
       "3  2023-03-04    1232            159   223  advanced_algorithms_series\n",
       "4  2023-03-05    1145            115   265  advanced_algorithms_series"
      ]
     },
<<<<<<< HEAD
     "execution_count": 191,
=======
     "execution_count": 165,
>>>>>>> 9008d37c176dc55525b9ffdf345c9eafb5b17ac1
     "metadata": {},
     "output_type": "execute_result"
    }
   ],
   "source": [
    "ads = ads.fillna({'utm_campaign': 'none', 'cost': 0})\n",
    "conversion_ads = pd.merge(\n",
    "    grouped_conversion, ads, left_on='date_group', right_on='date'\n",
    ")\n",
    "conversion_ads.sort_values(by='date_group', inplace=True)\n",
    "conversion_ads.head()\n",
    "grouped_ads_conversion = conversion_ads.groupby('date_group')\n",
    "grouped_ads_conversion.head()\n",
    "conversion_ads = conversion_ads[['date_group', 'visits', 'registrations', 'cost', 'utm_campaign']]\n",
    "conversion_ads.to_json('./ads.json')\n",
    "conversion_ads.head()"
   ]
  },
  {
   "cell_type": "code",
<<<<<<< HEAD
   "execution_count": 192,
=======
   "execution_count": 167,
>>>>>>> 9008d37c176dc55525b9ffdf345c9eafb5b17ac1
   "id": "b4cc02f6-4b0f-410d-a9e0-574d5b709b94",
   "metadata": {},
   "outputs": [],
   "source": [
    "## Визуализируем данные на графиках с помощью matplotlib.pyplot, seaborn, plotly"
   ]
  },
  {
   "cell_type": "code",
<<<<<<< HEAD
   "execution_count": 193,
=======
   "execution_count": 169,
>>>>>>> 9008d37c176dc55525b9ffdf345c9eafb5b17ac1
   "id": "98745b9c-bf25-4a29-9f29-c07c2a94a6c2",
   "metadata": {
    "scrolled": true
   },
   "outputs": [
    {
     "data": {
<<<<<<< HEAD
      "image/png": "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",
=======
      "image/png": "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",
>>>>>>> 9008d37c176dc55525b9ffdf345c9eafb5b17ac1
      "text/plain": [
       "<Figure size 640x480 with 1 Axes>"
      ]
     },
     "metadata": {},
     "output_type": "display_data"
    }
   ],
   "source": [
    "# sns.barplot(x=\"date_group\", y=\"visits\", data=conversion_ads, color='skyblue')\n",
    "os.mkdir(\"charts\")\n",
    "fig, ax = plt.subplots()\n",
    "fig.suptitle(\"Total Visits\")\n",
    "# fig.set_size_inches((10, 10))\n",
    "bars = ax.bar(conversion_ads['date_group'],\n",
    "       conversion_ads['visits'],\n",
    "       width=1,\n",
    "       color='skyblue',\n",
    "       edgecolor=\"white\"\n",
    "      )\n",
    "plt.xlabel(\"date_group\")\n",
    "plt.ylabel('visits')\n",
    "plt.xticks(rotation = 25)\n",
    "ax.grid()\n",
    "ax.bar_label(bars)\n",
    "plt.savefig('./charts/visitors_by_platform.png')\n",
    "plt.show()"
   ]
  },
  {
   "cell_type": "code",
<<<<<<< HEAD
   "execution_count": 194,
=======
   "execution_count": 171,
>>>>>>> 9008d37c176dc55525b9ffdf345c9eafb5b17ac1
   "id": "2406b736-75e8-4b21-ae63-6e8df9736b6c",
   "metadata": {},
   "outputs": [
    {
     "data": {
      "text/plain": [
       "<Axes: xlabel='date_group', ylabel='visits'>"
      ]
     },
<<<<<<< HEAD
     "execution_count": 194,
=======
     "execution_count": 171,
>>>>>>> 9008d37c176dc55525b9ffdf345c9eafb5b17ac1
     "metadata": {},
     "output_type": "execute_result"
    },
    {
     "data": {
<<<<<<< HEAD
      "image/png": "iVBORw0KGgoAAAANSUhEUgAAAmkAAAGxCAYAAAA59CENAAAAOXRFWHRTb2Z0d2FyZQBNYXRwbG90bGliIHZlcnNpb24zLjkuMiwgaHR0cHM6Ly9tYXRwbG90bGliLm9yZy8hTgPZAAAACXBIWXMAAA9hAAAPYQGoP6dpAABSOklEQVR4nO3deVxVZf4H8M/hbuyX/V5QFExkEXHBJdAER4VxScyZsYnUnMwstyhtcfQ3YQuWTcpkaVb+1HTMZiY1axqTSilzX7BcUjMXKogywh0Ent8fzjm/e+7CkggH+Lxfr/OCe57nnPs8z1nu9z7nOedKQggBIiIiItIUt6YuABERERE5YpBGREREpEEM0oiIiIg0iEEaERERkQYxSCMiIiLSIAZpRERERBrEII2IiIhIgxikEREREWmQvqkL0FxUV1fj+++/h4+PDyRJauriEBERUR0IIXDhwgWEhYXBza159U0xSKuj77//HuHh4U1dDCIiIvoVCgsL0bZt26YuRr0wSKsjHx8fANc3sq+vbxOXhoiIiOri/PnzCA8PVz7HmxMGaXUkX+L09fVlkEZERNTMNMehSs3r4iwRERFRK8EgjYiIiEiDGKQRERERaRDHpBEREdVTVVUVrl271tTFIAAGgwE6na6pi3FTMEgjIiKqIyEEiouL8csvvzR1UciGn58frFZrs7w5oCYM0oiIiOpIDtBCQkLg6enZ4oKC5kYIgcuXL6OkpAQAEBoa2sQlalgM0oiIiOqgqqpKCdACAwObujj0Xx4eHgCAkpIShISEtKhLn7xxgIiIqA7kMWienp5NXBKyJ2+TljZOkEEaERFRPfASp/a01G3CII2IiKgZiIiIQG5u7g2v5/Lly/jd734HX19fSJLEmyA0jEEaERFRC7RixQr4+fk5zF+5ciU+++wzbN++HUVFRTCbzY1fOKoT3jhARETUipw8eRKxsbGIj4//1euoqqqCJElwc2Nfz83E1iUiItKA1NRUTJ06FVOnToWfnx8CAwMxZ84cCCGc5l+wYAG6dOkCLy8vhIeHY/Lkybh48SIAYOvWrfjTn/6EsrIySJIESZKQnZ2N1NRUvPjii/j0008hSRJSU1MBAKWlpRg3bhz8/f3h6emJIUOG4MSJE8p7yb1y77//PuLi4mAymXDmzBlERETgmWeewbhx4+Dt7Y327dvj3XffxY8//oiMjAx4e3ujS5cu2Lt3701vv5aIQRoREZFGrFy5Enq9Hrt27cJLL72EhQsX4o033nCa183NDS+99BIOHTqElStX4pNPPsFjjz0GAEhOTkZubi58fX1RVFSEoqIizJw5E+vWrcPEiRORlJSEoqIirFu3DgAwfvx47N27Fxs3bsSOHTsghMDQoUNVd0tevnwZ8+bNwxtvvIHDhw8jJCQEALBw4UL07dsXBw4cwLBhwzB27FiMGzcOY8aMwf79+9GxY0eMGzfOZbBJrvFyJxERkUaEh4dj4cKFkCQJ0dHR+PLLL7Fw4UJMnDjRIW9WVpbyf2RkJJ5++mk8+OCDWLx4MYxGI8xmMyRJgtVqVS3n6ekJo9GozD9x4gQ2btyIzz//HMnJyQCAv//97wgPD8eGDRvwhz/8AcD1x1ssXrwYXbt2Va1v6NChmDRpEgDgL3/5C5YsWYJevXopyz3++ONISkrCDz/84FAWqhl70prYK7tP4ZXdp5r9exAR0Y279dZbVY+TSEpKwokTJ1BVVeWQd8uWLRg8eDDatGkDHx8fjBs3DufOncOlS5fq9Z5Hjx6FXq9Hnz59lHmBgYGIjo7G0aNHlXlGoxEJCQkOy9vOs1gsAIAuXbo4zJN/FYDqjkEaERFRM3PmzBkMHToU8fHxeOedd7Bv3z688sorAOr/QFdXlyGFEKqA0cPDw+nzyAwGg/K/nO5sXnV1db3KRQzSiIiINGPnzp0Or6Oiohx+6mjv3r2orKzEiy++iFtvvRWdOnXC999/r8pjNBqd9sDZi4uLQ2VlJXbt2qXMO3fuHI4fP47Y2NgbqA3dKAZpGsdLlURErUdhYSEeeeQRHDt2DG+99RYWLVqEhx56yCHfLbfcgsrKSixatAjffPMNVq1ahVdffVWVJyIiAhcvXsTHH3+Mn376CZcvX3b6nlFRUcjIyMDEiROxbds2HDx4EGPGjEGbNm2QkZFxU+pJdcMgjYiISCPGjRuHK1euoHfv3pgyZQqmTZuG+++/3yFft27dsGDBAjz//POIj4/H3//+d8ybN0+VJzk5GQ888ADuvPNOBAcHY/78+S7fd/ny5UhMTMTw4cORlJQEIQQ++OAD1WVLanyS4D2xdXL+/HmYzWaUlZXB19e3wdYr95JN6R15Q+k3sg4iIqrd1atXcerUKURGRsLd3b3B15+amopu3bo1yE8/tTY1bZub9fndGNiTRrXiJVciIqLGxyCNiIiISIP4MFsiIiIN2Lp1a1MXgTSGPWlEREREGsQgjYiIiEiDGKQRERERaRCDNCIiIiINYpBGREREpEEM0oiIiIg0iEEaERER1duKFSvg5+d3w+vJzs5Gt27daswzfvx4jBw58obfq7lhkEZERERNZubMmfj444+buhiaxIfZEhER3YCo6JhGfb8Tx75q1Pf7ta5du1anH2j39vaGt7d3I5So+WFPGhERUQu3adMm9OvXD35+fggMDMTw4cNx8uRJAMDp06chSRLWrVuHAQMGwNPTE127dsWOHTtU61ixYgXatWsHT09P3HHHHTh37pwqXb5s+b//+7/o0KEDTCYThBA4e/YsMjIy4O3tDV9fX4wePRo//PCDw3KyqqoqPPLII0pZH3vsMQghbl7jaBiDNCIiohbu0qVLeOSRR7Bnzx58/PHHcHNzwx133IHq6molz+zZszFz5kwUFBSgU6dOuOuuu1BZWQkA2LVrF+69915MnjwZBQUFGDBgAJ555hmH9/n666/xj3/8A++88w4KCgoAACNHjsTPP/+M/Px85OXl4eTJk7jzzjtdlvXFF1/E//7v/2LZsmXYtm0bfv75Z6xfv75hG6SZ4OVOIiKiFu53v/ud6vWyZcsQEhKCI0eOKJcaZ86ciWHDhgEA5s6di86dO+Prr79GTEwM/va3vyE9PR1PPPEEAKBTp07Yvn07Nm3apFpvRUUFVq1aheDgYABAXl4evvjiC5w6dQrh4eEAgFWrVqFz587Ys2cPevXq5VDW3NxczJo1Synzq6++ig8//LABW6P5aNKetE8//RS33347wsLCIEkSNmzYoEoXQiA7OxthYWHw8PBAamoqDh8+rMpTXl6OadOmISgoCF5eXhgxYgS+/fZbVZ7S0lKMHTsWZrMZZrMZY8eOxS+//HKTa0dERKQNJ0+eRGZmJjp06ABfX19ERkYCAM6ePavkSUhIUP4PDQ0FAJSUlAAAjh49iqSkJNU67V8DQPv27ZUATV4uPDxcCdAAIC4uDn5+fjh69KjD8mVlZSgqKlKtW6/Xo2fPnvWqb0vRpEHapUuX0LVrV7z88stO0+fPn48FCxbg5Zdfxp49e2C1WjF48GBcuHBByZOVlYX169dj7dq12LZtGy5evIjhw4ejqqpKyZOZmYmCggJs2rQJmzZtQkFBAcaOHXvT60dERKQFt99+O86dO4fXX38du3btwq5duwBc7/mS2Q7ylyQJAJTLoXUdE+bl5aV6LYRQ1lWX+aTWpJc7hwwZgiFDhjhNE0IgNzcXs2fPxqhRowAAK1euhMViwZo1azBp0iSUlZVh2bJlWLVqFQYNGgQAWL16NcLDw/HRRx8hPT0dR48exaZNm7Bz50706dMHAPD6668jKSkJx44dQ3R0dONUloiIqAmcO3cOR48exdKlS3HbbbcBALZt21avdcTFxWHnzp2qefavXS139uxZFBYWKr1pR44cQVlZGWJjYx3ym81mhIaGYufOnejfvz8AoLKyEvv27UOPHj3qVeaWQLM3Dpw6dQrFxcVIS0tT5plMJqSkpGD79u0AgH379uHatWuqPGFhYYiPj1fy7NixA2azWQnQAODWW2+F2WxW8hAREbVU/v7+CAwMxGuvvYavv/4an3zyCR555JF6rWP69OnYtGkT5s+fj+PHj+Pll192GI/mzKBBg5CQkIC7774b+/fvx+7duzFu3DikpKS4vIT50EMP4bnnnsP69evx1VdfYfLkya12iJJmg7Ti4mIAgMViUc23WCxKWnFxMYxGI/z9/WvMExIS4rD+kJAQJY8z5eXlOH/+vGoiIiJqbtzc3LB27Vrs27cP8fHxePjhh/HCCy/Uax233nor3njjDSxatAjdunXD5s2bMWfOnFqXk8eb+/v7o3///hg0aBA6dOiAt99+2+UyM2bMwLhx4zB+/HgkJSXBx8cHd9xxR73K21Jo/u5O+2vWdbmObZ/n11wPnzdvHubOnVvP0hIRUWvTHB4uO2jQIBw5ckQ1z3acmf2YMz8/P4d59957L+69917VvBkzZij/Z2dnIzs72+G927Vrh3fffddl2eyX0+v1yM3NRW5urstlWgvN9qRZrVYAcOjtKikpUXrXrFYrKioqUFpaWmMe24fmyX788UeHXjpbs2bNQllZmTIVFhbeUH2IiIiI6kOzQVpkZCSsVivy8vKUeRUVFcjPz0dycjIAIDExEQaDQZWnqKgIhw4dUvIkJSWhrKwMu3fvVvLs2rULZWVlSh5nTCYTfH19VRMRERFRY2nSy50XL17E119/rbw+deoUCgoKEBAQgHbt2iErKws5OTmIiopCVFQUcnJy4OnpiczMTADX7wKZMGECZsyYgcDAQAQEBGDmzJno0qWLcrdnbGwsfvvb32LixIlYunQpAOD+++/H8OHDeWcnERERaVaTBml79+7FgAEDlNfy3Sb33HMPVqxYgcceewxXrlzB5MmTUVpaij59+mDz5s3w8fFRllm4cCH0ej1Gjx6NK1euYODAgVixYgV0Op2S5+9//zumT5+u3AU6YsQIl89mIyIiItKCJg3SUlNTa3xAniRJLgciytzd3bFo0SIsWrTIZZ6AgACsXr36RopKRERE1Kg0OyaNiIiIqDVjkEZERESkQQzSiIiIiDSIQRoRERGRBjFII7yy+xRe2X3qpi1/o+snIqIbk5qaiqysrKYuBtWT5n8WioiIiG7MunXrYDAYmroYVE8M0oiIiG7A2FnPNOr7rZpX+w+b2wsICLgJJaGbjZc7iYiIWjjby52lpaUYN24c/P394enpiSFDhuDEiRNK3jNnzuD222+Hv78/vLy80LlzZ3zwwQdNVPLWjT1pRERErcj48eNx4sQJbNy4Eb6+vnj88ccxdOhQHDlyBAaDAVOmTEFFRQU+/fRTeHl54ciRI/D29m7qYrdKDNKIiIhaCTk4+/zzz5GcnAzg+k8nhoeHY8OGDfjDH/6As2fP4ne/+x26dOkCAOjQoUNTFrlV4+XOm4x3NhIRkVYcPXoUer0effr0UeYFBgYiOjoaR48eBQBMnz4dzzzzDPr27Ysnn3wSX3zxRVMVt9VjkEZERNRKuPq9bCEEJEkCANx333345ptvMHbsWHz55Zfo2bNnjb+PTTcPgzQiIqJWIi4uDpWVldi1a5cy79y5czh+/DhiY2OVeeHh4XjggQewbt06zJgxA6+//npTFLfVY5BGTY6XhImIGkdUVBQyMjIwceJEbNu2DQcPHsSYMWPQpk0bZGRkAACysrLw4Ycf4tSpU9i/fz8++eQTVQBHjYdBGhERUSuyfPlyJCYmYvjw4UhKSoIQAh988IHysNuqqipMmTIFsbGx+O1vf4vo6GgsXry4iUvdOvHuTiIiohvwax4u29i2bt2q/O/v748333zTZV6OP9MO9qQRERERaRCDNCIiIiINYpBGREREpEEM0oiIiIg0iEEaERERkQYxSCMiIiLSIAZpRERERBrEII2IiIhIgxikEREREWkQgzQiIiKqs4iICOTm5jZ1MVoFBmlEREREGsTf7iQiIroBr+w+1ajvN6V3ZKO+HzUd9qQRERG1YO+99x78/PxQXV0NACgoKIAkSXj00UeVPJMmTcJdd90FANi+fTv69+8PDw8PhIeHY/r06bh06ZJqnRcuXEBmZia8vb0RFhbGH2W/SRikERERtWD9+/fHhQsXcODAAQBAfn4+goKCkJ+fr+TZunUrUlJS8OWXXyI9PR2jRo3CF198gbfffhvbtm3D1KlTVet84YUXkJCQgP3792PWrFl4+OGHkZeX16j1ag0YpBEREbVgZrMZ3bp1w9atWwFcD8gefvhhHDx4EBcuXEBxcTGOHz+O1NRUvPDCC8jMzERWVhaioqKQnJyMl156CW+++SauXr2qrLNv37544okn0KlTJ0ybNg2///3vsXDhwiaqYcvFII2IiKiFS01NxdatWyGEwGeffYaMjAzEx8dj27Zt2LJlCywWC2JiYrBv3z6sWLEC3t7eypSeno7q6mqcOvX/Y++SkpJU609KSsLRo0cbu1otHm8cICIiauFSU1OxbNkyHDx4EG5uboiLi0NKSgry8/NRWlqKlJQUAEB1dTUmTZqE6dOnO6yjXbt2Nb6HJEk3peytGYM0IiKiFk4el5abm4uUlBRIkoSUlBTMmzcPpaWleOihhwAAPXr0wOHDh9GxY8ca17dz506H1zExMTet/K0VL3cSERG1cPK4tNWrVyM1NRXA9cBt//79yng0AHj88cexY8cOTJkyBQUFBThx4gQ2btyIadOmqdb3+eefY/78+Th+/DheeeUV/POf/1QCPWo4DNKIiIhagQEDBqCqqkoJyPz9/REXF4fg4GDExsYCABISEpCfn48TJ07gtttuQ/fu3fE///M/CA0NVa1rxowZ2LdvH7p3746nn34aL774ItLT0xu7Si0eL3cSERHdgObycNm//vWv+Otf/6qaV1BQ4JCvV69e2Lx5s8v1nD59uoFLRq6wJ42IiIhIgxikEREREWkQgzQiIiIiDWKQRkRERKRBDNKIiIiINIh3d5LmvbL7/3+KpLncRUVELZcQoqmLQHZa6jZhTxoREVEdGAwGAMDly5ebuCRkT94m8jZqKdiTRkREVAc6nQ5+fn4oKSkBAHh6evL3KpuYEAKXL19GSUkJ/Pz8oNPpmrpIDYpBGhERUR1ZrVYAUAI10gY/Pz9l27QkDNKIiIjqSJIkhIaGIiQkBNeuXWvq4hCuX+JsaT1oMgZpRERE9aTT6VpsYEDawRsHiIiIiDSIQRoRERGRBjFIIyIiItIgBmlEREREGsQgjYiIiEiDGKQRERE1M6/sPqX6yTxqmRikEREREWmQpoO0yspKzJkzB5GRkfDw8ECHDh3w1FNPobq6WskjhEB2djbCwsLg4eGB1NRUHD58WLWe8vJyTJs2DUFBQfDy8sKIESPw7bffNnZ1iIiIiOpM00Ha888/j1dffRUvv/wyjh49ivnz5+OFF17AokWLlDzz58/HggUL8PLLL2PPnj2wWq0YPHgwLly4oOTJysrC+vXrsXbtWmzbtg0XL17E8OHDUVVV1RTVIiIiIqqVpn9xYMeOHcjIyMCwYcMAABEREXjrrbewd+9eANd70XJzczF79myMGjUKALBy5UpYLBasWbMGkyZNQllZGZYtW4ZVq1Zh0KBBAIDVq1cjPDwcH330EdLT05umckREREQ10HRPWr9+/fDxxx/j+PHjAICDBw9i27ZtGDp0KADg1KlTKC4uRlpamrKMyWRCSkoKtm/fDgDYt28frl27psoTFhaG+Ph4JY8z5eXlOH/+vGoiIiIiaiya7kl7/PHHUVZWhpiYGOh0OlRVVeHZZ5/FXXfdBQAoLi4GAFgsFtVyFosFZ86cUfIYjUb4+/s75JGXd2bevHmYO3duQ1aHiIiIqM403ZP29ttvY/Xq1VizZg3279+PlStX4q9//StWrlypyidJkuq1EMJhnr3a8syaNQtlZWXKVFhY+OsrQkRERFRPmu5Je/TRR/HEE0/gj3/8IwCgS5cuOHPmDObNm4d77rkHVqsVwPXestDQUGW5kpISpXfNarWioqICpaWlqt60kpISJCcnu3xvk8kEk8l0M6pFREREVCtN96RdvnwZbm7qIup0OuURHJGRkbBarcjLy1PSKyoqkJ+frwRgiYmJMBgMqjxFRUU4dOhQjUEaERFRU5AfVMuH1ZKme9Juv/12PPvss2jXrh06d+6MAwcOYMGCBbj33nsBXL/MmZWVhZycHERFRSEqKgo5OTnw9PREZmYmAMBsNmPChAmYMWMGAgMDERAQgJkzZ6JLly7K3Z43Qj6IpvSOvOF1EREREck0HaQtWrQI//M//4PJkyejpKQEYWFhmDRpEv7yl78oeR577DFcuXIFkydPRmlpKfr06YPNmzfDx8dHybNw4ULo9XqMHj0aV65cwcCBA7FixQrodLqmqBYRERFRrTQdpPn4+CA3Nxe5ubku80iShOzsbGRnZ7vM4+7ujkWLFqkegktERESkZZoek0ZERETUWjFIIyIiItIgBmlEREREGsQgjYiIiEiDGKQRERERaRCDNCIiIiINYpBGREREpEEM0oiIiIg0SNMPsyUiakz8mTdqDLa/ycl9jWrCnjQiIiIiDWKQRkRERKRBDNKIiJqRV3afUl0uI3KG+0nLwCCNiIiISIMYpBERERFpEIM0IiIiIg1ikEZERESkQQzSqEXgIFlqDNzPiKgxMUgjolaDQRZR3fBY0QYGaUREREQaxCCNiIiIGhR74hoGgzQiIiIiDWKQRkRE1IDYi0QNRd/UBSAioutsP9in9I5swpIQkRawJ42IiIhIgxikERE1EF7mIqKGxCCNiIiI6oVfSBoHgzQiIiIiDWKQRkRERKRBDNKIiIhs8FIeaQWDNCIiIiIN4nPSiIiIqFHxmYB1w540IiIiIg1iTxoRERG1OHJv3diYwCYuya/HnjQiIiIiDWKQRkRERKRBDNKIqMXgoxOoMbSE/awl1KE1YJBGREREpEEM0oiIiIg0iEEaEVELwstYRC0HgzQiIiIiDWKQRkTUirCnjaj5YJBGREREpEEM0oiIiIg0iEEaERERkQYxSCMiIiLSIAZpRERERBrEII2IiIhIgxikERERkebwcTEM0oiIiIg0iUEaERERkQYxSCMiIiLSIAZpRERUZxwnRNR4GKQRERERaVCDBGm//PJLQ6yGiIiIiP6r3kHa888/j7ffflt5PXr0aAQGBqJNmzY4ePBggxYOAL777juMGTMGgYGB8PT0RLdu3bBv3z4lXQiB7OxshIWFwcPDA6mpqTh8+LBqHeXl5Zg2bRqCgoLg5eWFESNG4Ntvv23wshIRERE1lHoHaUuXLkV4eDgAIC8vD3l5efjPf/6DIUOG4NFHH23QwpWWlqJv374wGAz4z3/+gyNHjuDFF1+En5+fkmf+/PlYsGABXn75ZezZswdWqxWDBw/GhQsXlDxZWVlYv3491q5di23btuHixYsYPnw4qqqqGrS8REQ14XguIqoPfX0XKCoqUoK0999/H6NHj0ZaWhoiIiLQp0+fBi3c888/j/DwcCxfvlyZFxERofwvhEBubi5mz56NUaNGAQBWrlwJi8WCNWvWYNKkSSgrK8OyZcuwatUqDBo0CACwevVqhIeH46OPPkJ6enqDlpmIiIioIdS7J83f3x+FhYUAgE2bNimBjxCiwXumNm7ciJ49e+IPf/gDQkJC0L17d7z++utK+qlTp1BcXIy0tDRlnslkQkpKCrZv3w4A2LdvH65du6bKExYWhvj4eCWPM+Xl5Th//rxqIiKimrG3kKjh1DtIGzVqFDIzMzF48GCcO3cOQ4YMAQAUFBSgY8eODVq4b775BkuWLEFUVBQ+/PBDPPDAA5g+fTrefPNNAEBxcTEAwGKxqJazWCxKWnFxMYxGI/z9/V3mcWbevHkwm83KJPceEhERETWGel/uXLhwISIiIlBYWIj58+fD29sbwPXLoJMnT27QwlVXV6Nnz57IyckBAHTv3h2HDx/GkiVLMG7cOCWfJEmq5YQQDvPs1ZZn1qxZeOSRR5TX58+fZ6BGREREjabeQdqOHTuQlZUFvV696NSpU2u8fPhrhIaGIi4uTjUvNjYW77zzDgDAarUCuN5bFhoaquQpKSlRetesVisqKipQWlqq6k0rKSlBcnKyy/c2mUwwmUwNVhciIiJqOPJl9Sm9I5u4JDdPvS93DhgwAD///LPD/LKyMgwYMKBBCiXr27cvjh07ppp3/PhxtG/fHgAQGRkJq9WKvLw8Jb2iogL5+flKAJaYmAiDwaDKU1RUhEOHDtUYpBERERE1pXr3pLm6THju3Dl4eXk1SKFkDz/8MJKTk5GTk4PRo0dj9+7deO211/Daa68BuH6ZMysrCzk5OYiKikJUVBRycnLg6emJzMxMAIDZbMaECRMwY8YMBAYGIiAgADNnzkSXLl2Umx6IiOi61tA7QdRc1DlIkx9xIUkSxo8fr7oUWFVVhS+++KLBe6Z69eqF9evXY9asWXjqqacQGRmJ3Nxc3H333Uqexx57DFeuXMHkyZNRWlqKPn36YPPmzfDx8VHyLFy4EHq9HqNHj8aVK1cwcOBArFixAjqdrkHLS0RERNRQ6hykmc1mANd70nx8fODh4aGkGY1G3HrrrZg4cWKDF3D48OEYPny4y3RJkpCdnY3s7GyXedzd3bFo0SIsWrSowctHREREdDPUOUiTHygbERGBmTNnNvilTSIiIttnrN2sS668pEvNRb3HpD355JM3oxxEREQNgkEYtRR1CtJ69OiBjz/+GP7+/ujevXuNzxfbv39/gxWOiIiIqLWqU5CWkZGh3CgwcuTIm1keIiJqwdjLRVR3dQrSbC9x8nInERE1JQZ61FrU+2G2hYWF+Pbbb5XXu3fvRlZWlvLsMiIiIiK6cfUO0jIzM7FlyxYA13+OadCgQdi9ezf+/Oc/46mnnmrwAhIRERG1RvUO0g4dOoTevXsDAP7xj3+gS5cu2L59O9asWYMVK1Y0dPmIiIiIWqV6B2nXrl1TbiL46KOPMGLECABATEwMioqKGrZ0RERERK1UvYO0zp0749VXX8Vnn32GvLw8/Pa3vwUAfP/99wgMDGzwAhIRERG1RvUO0p5//nksXboUqampuOuuu9C1a1cAwMaNG5XLoERERER0Y+r9iwOpqan46aefcP78efj7+yvz77//fnh6ejZo4YgaCm/ZJyKi5qbeQRoA6HQ6VYAGXP9NTyIiIiJqGPxZKCIiIiIN4s9CEREREWlQvX8W6vTp07j77rsxcODAGnvUiIgakjyuEODYQiJqHep9d+e5c+cwfPhwtG3bFjNnzkRBQcFNKBZR8/LK7lOqIKKxlyciopan3kHaxo0bUVxcjCeffBJ79+5FYmIi4uLikJOTg9OnT9+EIhIRERG1PvUO0gDAz88P999/P7Zu3YozZ87gT3/6E1atWoWOHTs2dPmIiIiIWqVfFaTJrl27hr1792LXrl04ffo0LBZLQ5WLiIiIqFX7VUHali1bMHHiRFgsFtxzzz3w8fHBe++9h8LCwoYuHxEREVGrVO+H2bZt2xbnzp1Deno6li5dittvvx3u7u43o2xEjUbrv0jAOxuJiFqfegdpf/nLX/CHP/zB4RcHiIhqovVAmIhIa+odpN1///03oxxEREREZOOGbhwgIiIiopuDQRoRAeADdYmItIZBGhEREZEGMUgjqgP2MhERUWNjkEZEdcJAlYiocTFIIyIiItIgBmlEREREGsQgjYiIiEiDGKQRUYPgmDUioobFII2IiIhIgxikEREREWlQvX+7k4jqrzF+XLy5/4C57aXS5loHIqKGxJ40IiIiIg1ikEZERESkQQzSiIiIiDSIQRoRERGRBjFIIyIiItIgBmlEREREGsQgjYiIiEiDGKQRERERaRCDNCIiIiINYpBG1ErwB9CJiJoXBmlEREREGsQgjYiIiEiDGKQRERERaRCDNCIiIiINYpBGREREpEEM0oiIiIg0iEEaERERkQYxSCMiIiLSoGYVpM2bNw+SJCErK0uZJ4RAdnY2wsLC4OHhgdTUVBw+fFi1XHl5OaZNm4agoCB4eXlhxIgR+Pbbbxu59ERERER112yCtD179uC1115DQkKCav78+fOxYMECvPzyy9izZw+sVisGDx6MCxcuKHmysrKwfv16rF27Ftu2bcPFixcxfPhwVFVVNXY1iIiIiOqkWQRpFy9exN13343XX38d/v7+ynwhBHJzczF79myMGjUK8fHxWLlyJS5fvow1a9YAAMrKyrBs2TK8+OKLGDRoELp3747Vq1fjyy+/xEcffdRUVSIiIiKqUbMI0qZMmYJhw4Zh0KBBqvmnTp1CcXEx0tLSlHkmkwkpKSnYvn07AGDfvn24du2aKk9YWBji4+OVPM6Ul5fj/PnzqomIiIioseibugC1Wbt2Lfbv3489e/Y4pBUXFwMALBaLar7FYsGZM2eUPEajUdUDJ+eRl3dm3rx5mDt37o0Wn4iIiOhX0XRPWmFhIR566CGsXr0a7u7uLvNJkqR6LYRwmGevtjyzZs1CWVmZMhUWFtav8EREREQ3QNNB2r59+1BSUoLExETo9Xro9Xrk5+fjpZdegl6vV3rQ7HvESkpKlDSr1YqKigqUlpa6zOOMyWSCr6+vaiIiIiJqLJoO0gYOHIgvv/wSBQUFytSzZ0/cfffdKCgoQIcOHWC1WpGXl6csU1FRgfz8fCQnJwMAEhMTYTAYVHmKiopw6NAhJQ8RERGR1mh6TJqPjw/i4+NV87y8vBAYGKjMz8rKQk5ODqKiohAVFYWcnBx4enoiMzMTAGA2mzFhwgTMmDEDgYGBCAgIwMyZM9GlSxeHGxGIiIiItELTQVpdPPbYY7hy5QomT56M0tJS9OnTB5s3b4aPj4+SZ+HChdDr9Rg9ejSuXLmCgQMHYsWKFdDpdE1YciIiIiLXml2QtnXrVtVrSZKQnZ2N7Oxsl8u4u7tj0aJFWLRo0c0tHBEREVED0fSYNCIiIqLWikEaERERkQYxSCMiIiLSIAZpRERERBrEII2IiIhIgxikEREREWkQgzQiIiIiDWKQRkRERKRBDNKIiIiINIhBGhEREZEGMUgjIiIi0iAGaUREREQaxCCNiIiISIMYpBERERFpEIM0IiIiIg1ikEZERESkQQzSiIiIiDSIQRoRERGRBjFIIyIiItIgBmlEREREGsQgjYiIiEiDGKQRERERaRCDNCIiIiINYpBGREREpEEM0oiIiIg0iEEaERERkQYxSCMiIiLSIAZpRERERBrEII2IiIhIgxikEREREWkQgzQiIiIiDWKQRkRERKRBDNKIiIiINIhBGhEREZEGMUgjIiIi0iAGaUREREQaxCCNiIiISIMYpBERERFpEIM0IiIiIg1ikEZERESkQQzSiIiIiDSIQRoRERGRBjFIIyIiItIgBmlEREREGsQgjYiIiEiDGKQRERERaRCDNCIiIiINYpBGREREpEEM0oiIiIg0iEEaERERkQYxSCMiIiLSIAZpRERERBrEII2IiIhIgxikEREREWmQpoO0efPmoVevXvDx8UFISAhGjhyJY8eOqfIIIZCdnY2wsDB4eHggNTUVhw8fVuUpLy/HtGnTEBQUBC8vL4wYMQLffvttY1aFiIiIqF40HaTl5+djypQp2LlzJ/Ly8lBZWYm0tDRcunRJyTN//nwsWLAAL7/8Mvbs2QOr1YrBgwfjwoULSp6srCysX78ea9euxbZt23Dx4kUMHz4cVVVVTVEtIiIiolrpm7oANdm0aZPq9fLlyxESEoJ9+/ahf//+EEIgNzcXs2fPxqhRowAAK1euhMViwZo1azBp0iSUlZVh2bJlWLVqFQYNGgQAWL16NcLDw/HRRx8hPT290etFREREVBtN96TZKysrAwAEBAQAAE6dOoXi4mKkpaUpeUwmE1JSUrB9+3YAwL59+3Dt2jVVnrCwMMTHxyt5nCkvL8f58+dVExEREVFjaTZBmhACjzzyCPr164f4+HgAQHFxMQDAYrGo8losFiWtuLgYRqMR/v7+LvM4M2/ePJjNZmUKDw9vyOoQERER1ajZBGlTp07FF198gbfeesshTZIk1WshhMM8e7XlmTVrFsrKypSpsLDw1xWciIiI6FdoFkHatGnTsHHjRmzZsgVt27ZV5lutVgBw6BErKSlRetesVisqKipQWlrqMo8zJpMJvr6+qomIiIiosWg6SBNCYOrUqVi3bh0++eQTREZGqtIjIyNhtVqRl5enzKuoqEB+fj6Sk5MBAImJiTAYDKo8RUVFOHTokJKHiIiISGs0fXfnlClTsGbNGrz77rvw8fFReszMZjM8PDwgSRKysrKQk5ODqKgoREVFIScnB56ensjMzFTyTpgwATNmzEBgYCACAgIwc+ZMdOnSRbnbk4iIiEhrNB2kLVmyBACQmpqqmr98+XKMHz8eAPDYY4/hypUrmDx5MkpLS9GnTx9s3rwZPj4+Sv6FCxdCr9dj9OjRuHLlCgYOHIgVK1ZAp9M1VlWIiIiI6kXTQZoQotY8kiQhOzsb2dnZLvO4u7tj0aJFWLRoUQOWjoiIiOjm0fSYNCIiIqLWikEaERERkQYxSCMiIiLSIAZpRERERBrEII2IiIhIgxikEREREWkQgzQiIiIiDWKQRkRERKRBDNKIiIiINIhBGhEREZEGMUhrYaKiYxAVHdPUxSAiIqIbxCCNmh0GokRE1BowSCMiIiLSIAZpRERERBrEII3qjZcbiYiIbj4GaUREREQaxCCNNIc9dUTNB49XopuHQRoRERGRBjFIIyIiItIgBmlEREStHC9baxODNHLAg5WIqPHwnEuuMEgjIiIi0iB9UxeAiIhuDtvemRPHvmrCklBrJ++L3A/rhz1pRETNFC+TEbVsDNKIiFoxBno3vw3YxvRrMUgjIiKiGjHQbBoM0oiINIofjEStG28cICK6SThYmqhxtNSbZNiTpjH85kxEpC08L1NTYZBGRERNhgEQkWsM0qjB8aRLRER04xikEVGr1dRfKJr6/ZsDthG1ZrxxgOgm4IBxaim0vi+31AHjRACDNGqFeFLXBq1/+BMRNTUGafXUvUci3HQ6frA0grGzngEA3HrH3Y3+3s09gGAg2jCa+35A1FK01mORY9KIqFniWCUiaunYk6ZRTdmLRNQQWtI3X1fHY0uqI1FT4rHkHIO0BnazdzTuyLVrDW10o3Xk5VCihtMazjnUNBiktTL8cCYial4YBNZPS7oSxSCNqAnwpFu75tRGLelDgYi0g0FaCyV/aAD84CAiBpItGa+QtFy8u5PoV+CdhUREdLOxJ42IfpXmdDmSqC7Y28g20BoGadTo+OHePHA7ETU/DLJaFgZp1GR4MqG6aIj9hPta6+BsO3O8VvPC8dRqDNLoV2sJH3xarQN7sail0eqxpiVso9q1tiCOQVoT4cFIWtFS90XbHpRbR41pwpK03DZuTFr4cOZ2dI1fLG8OBmnUYmnhpK4F/GChxsD9jKjhMUi7SXjCorrgfkIA9wO6+eSeLrlXmfta88AgjVzS+gcHe8qotWgN+7rWzzd1UVsdWkIda9Ma6tiYGKQ1MvtvM02JBxPRdTwWbl6AoaVzHt04HiuNi0Har8QdtXYtoY1aQh1autbQy1QbtgFRy8QgjegG8PJG66gjEVFTYJDWTPGDsXXQwnbWQhmIGgL3ZWpuWlWQtnjxYrzwwgsoKipC586dkZubi9tuu62pi0XUorG3kahhtITL2jze66fVBGlvv/02srKysHjxYvTt2xdLly7FkCFDcOTIEbRr166pi0f0q7SEkzYRETnn1tQFaCwLFizAhAkTcN999yE2Nha5ubkIDw/HkiVLmrpoRERERA5aRZBWUVGBffv2IS0tTTU/LS0N27dvb6JSEREREbnWKi53/vTTT6iqqoLFYlHNt1gsKC4udrpMeXk5ysvLlddlZWUAgOrqagBARflVAMCVixcAAOfPn7+eXlXVJOlyHvt0+3XI6VqsQ0PXkW3guo5abgNXdeS+7rqObAPXddRyG7iqI/d113X8dW1gAAAIIdDsiFbgu+++EwDE9u3bVfOfeeYZER0d7XSZJ598UgDgxIkTJ06cOLWAqbCwsDFCjgbVKnrSgoKCoNPpHHrNSkpKHHrXZLNmzcIjjzyivK6ursbPP/+MwMBASJKE8+fPIzw8HIWFhfD19XVYXuvpWigD68g2YB3ZBmwD1vFmt4EQAhcuXEBYWJjT9WlZqwjSjEYjEhMTkZeXhzvuuEOZn5eXh4yMDKfLmEwmmEwm1Tw/Pz+HfL6+vi53pOaQroUysI5sg4ZI10IZmjpdC2Vo6nQtlIF11F4bmM3mGtelVa0iSAOARx55BGPHjkXPnj2RlJSE1157DWfPnsUDDzzQ1EUjIiIictBqgrQ777wT586dw1NPPYWioiLEx8fjgw8+QPv27Zu6aEREREQOWk2QBgCTJ0/G5MmTG2RdJpMJTz75pMMl0eaSroUysI5sg4ZI10IZmjpdC2Vo6nQtlIF1bB5t0JxIQjTHe1KJiIiIWrZW8TBbIiIiouaGQRoRERGRBjFIIyIiItKiJn6Ybo1ycnJEz549hbe3twgODhYZGRniq6++UuV59tlnRVhYmJAkSQAQgYGB4r333lPS58yZI0JCQlRPHQ4JCRE7duxQ3qNbt24OTyaOiIgQR48eVdLd3NxU6e7u7mL06NHi3nvvFV5eXg7Ly+ljxowR7u7uLtOfeOIJ0a5dO4d0vV4vunfvLtq2bavUzXbS6XQiOTlZ3HLLLS6frjx48GBx2223OV1ermP//v1dpru7u4vu3bs7Lb+c7u/v7/L95eW9vb2dpuv1+hqfDq3X68WoUaNEnz59nKbrdDqRmppaYx179eolBg0aJHQ6ndN0q9Uq4uLiHLavPBkMBqfb1zbdVf3k9NDQUJfr0Ol0wsPDo8Y2SE1NFUlJSS73g9TU1BrbsVevXiI1NdVlHf38/ER0dLTLNtTr9cLPz6/G9JraSK/XC5PJ5DLdzc3N5T4m17FLly4iISHB5XaMioqqcV/08/MTnTt3dtkGddkXa2sDHx8fl+sHIMxmc43ptR3Po0ePFpmZmS7XIR/vrtLl491Vem3H640e73WZajre5X35tttuq/F4Tk1Ndbk9DQaD8PPzq/V4d7Wd5ePdVTqAGo93AMJisdTYBqmpqWLQoEEuj5levXrVuLzVahX9+vVz2QZ12ZdraiP5eK+pDUwmU43pwcHBLusnSZJyvHt4eAiDweDw/t26dXO5LyYkJCixg7u7u0M5YmNjRU5OTo3bLycnR/To0UMYDAbh5uYm3NzcRGRkpFi8eLEQQojFixeL2NhYYTAYhCRJQpIk0aNHD3H8+HEl9qiurhZPPvmkCA0NFe7u7iIlJUUcOnSo3nGQpoO09PR0sXz5cnHo0CFRUFAghg0bJtq1aycuXryo5OnUqZNwd3cXCxcuFP/6179EaGio0Ol0oqioSAghRN++fUVYWJgwmUxi1qxZIiEhQUiSJEwmkzh//rxIT08XgwcPFpIkiWHDhomuXbsKo9EoAAh/f38lXafTid69e4vY2FhhNBqFJEnKjm6xWISbm5vo2LGjkCRJ6HQ6IUmS8Pf3F97e3soJJTo6WrVj+fv7C7PZrBxMHTt2FFarVbXDREREqHay5ORk5X/5ILJNd3ZgSJIkPD09Xe6Ubm5uNaYDqPFDVJIk1QHt6+vrNI/8v9lsdli3q5OufX3sy2EwGFQHsSRJIjg4WJXH/kPDvnx6vV71PqGhoTWeYJydNGzn2a/fZDKp2len0wkfHx+HbSD/HxkZqfpiIZ8IbE9wCQkJqnR5H5TboEOHDqr12weCYWFhTtvZVcAo76Ou9gOj0agqp5ubm/Dz81Ot3347236I6HQ6h33d/kMiMjJSNU8+zuTX8geH/AFpny6XXd5WrvYteXn7dHl98nz7dPk4cLUvy+/rKl0+77jaj+R9SJKkGoNK+7avbzoAh/3Tfnnb97c/Huzbxr6dwsPDXR5f8vZ1c3NzaA9n+42r7eSq7M7azj6/JEkO7237HvZfOuzPZ86Od9vldTqdKoiRP8Rt92Pb499ZeYKDg1Xltq+D7XFiu8/a18fZudq2jWvaV41Go/I+Op1OlVeSJBEeHq4qt/2xbbVaha+vrwgMDFTqLx9DBoNBREZGisDAQNG9e3fVMRsYGCj8/PyEt7e3MBgMYsCAAaJnz57KsRcaGirS09PF3LlzhSRJIiIiQiQkJCjBlsViEenp6SI3N1ds3bpVfPTRR6ovsbGxsSI9PV30799fhIeHi9dff1385je/EQEBAcLNzU1s2LBBvPvuuyI6OlokJiaKf/7zn2LSpElKneT45LnnnhM+Pj7inXfeEV9++aW48847RWhoqDh//ny94iBNB2n2SkpKBACRn58vhLgeqVqtVvHcc88peQoLCwUAMWPGDKd55HUAEK+88orLdHmnuHTpktN024PMYrEo6bNnz1bSbT80n3nmGYf3ry3ddud+5plnRExMjHjiiSfEE088oUqXP1SmT58uYmJiRFJSksMJV65DRESEw/q9vb2V9E6dOrk8eT788MNCr9c7XYdtGadPn/6r0729vUXbtm1dpgshhMlkcggy5DYYO3asqKysdAgm5JPF2LFjxdWrV5XX8ja0DeQOHDigbEc3NzfVyWXs2LFi9+7dqnaxPSFmZmaKsrIylyfMYcOGifbt24unn37aaTtnZmbWuB8AEOvXrxdCCIf9QP5gHTt2rMjIyBDt27d32QZCCOUbvbxeT09PYbVaxZw5c1THgG35LRaLki6fyG3bwLat3n33Xaf7+qxZs5zW3Vn6H//4R4c8QUFByofL2LFjHdratg5yum3w6Czddjvb1lH+sLT/0JPLGBkZ6XJfNRgMToMp23RnH4JyOdLS0kRgYKBo06aNw3aWv4j4+fk5HC/y8Z6QkOAQQNge7wkJCSIgIMDhfeX6durUSUiSpKzDPvCKj48XgYGBonfv3i7r6OPj47TnR07X6/XCbDaLvn37uqyDTqdz+KIlH+8RERHiz3/+s9KO8j4r/42IiBBPPPGEsv2c9fDcd9994rbbblPSbbd1u3btxL333uvyeM7MzBSjRo2q8Xj39PQUKSkpLrdzv379xJw5c5Q2kOfLdYqIiBBz5sxRymh/vEdERIhOnTopx4SzNpgzZ47SZraBk8ViEXFxcapy2wagkiSJ2NhY1fFufzzL80aPHl3r8S5/Nsnpvr6+4urVq2LYsGECuN4jbvslwMfHR4SFhYnf/OY3AoBo27at0Ov1YsOGDUobXb16VYwcOVIAED169BB6vV5UV1eLxMREYTAYXKbbktOtVqvo2rWrEEKIzp07i6eeekp1Po6KihJz5swRx44dEwBUPWP+/v7Cy8tLvP76605jk6tXrwqz2SxeffXVesU9zWpMWllZGQAgICAAAHDq1CkUFxcjLS1NyXP16lUAwPHjx53mkdeh1+uxa9cul+nu7u6QJAnFxcVO08PDwyGEgNlsxg8//KCk9+rVCwBgtVqVsgohMHToUADA9u3bVXWyT5fX7yw9LS0N27dvR0hIiJLu6+uLrl27AgCSkpKQlpaGH374QUk3GAzo3bu3Uodu3bo5tGufPn1QXFyMAQMGqNYt0+l0qK6uxtixY+Hh4YHz58875BFCYOnSpdDpdPjwww9Vae7u7hBC4K9//StKS0vxwQcfOK1jnz59cOnSJRiNRlW6JEkQQmDIkCHYsmULqqurUV1drcojt0G3bt2g0+mg16sfASjXu1u3bjCZTOjYsaPSPnIb2AoMDAQA+Pv7K9tZXt52G/n7+yt1kMvx2muvwdPTU7U+uTy/+c1vAABXrlyBM5s3b8bEiRPxzTffqObLbQgAjz32GDZs2KDaVsHBwejduzcA4JZbbsG///1v9OvXT0l3c3NTnhnUtWtXbNmyBaWlpQCub1+5bsXFxejZs6eqbeSfVfH29sYPP/ygpMsPgrZtA2HzRJ8zZ86o6mC7ne1JkqSkJyYmKu8XFxen5DEYDOjUqRN++uknpS7ycSbXUT5mly1bpiq7XJeIiAgUFxfjpZdeAgBlX7bdzj/88IOyf8jHs1xHnU6nqsN3332nqofZbIYQAgcOHEBlZSW8vb1V6b7//R1BOV2uq8zb21tpw2+//RZ33XUXysvLVcv37t0bP/74IwAgPT1dOefJ9ZSP98rKSqSkpDi0tXy8X7t2DbGxscp8+X3l412v18PLywuVlZWqdPn/Y8eOwWKx4OzZs6r1y/tqTk4Orly5gp9//llJs93OpaWlqKyshNVqRdu2bZU8bm5u6Nq1K4qLi1FWVgZJkpR9VCYf71VVVZg7d66SLh9n3bt3V9Kffvpp5TearVar6ngGgEmTJim/6Wh73pbrOXr0aIc2lNMrKiqwe/duh+0sl8Pb2xuVlZVISkpyWIfcnl988QUefPBBVRsA/398nTlzBh9++KGq/U0mk3K8l5eX4+TJk8qxIu/r7u7uAKDsB/J+Ip/bfHx88MMPP6CiokJV5qCgIAD/v69eu3YNABw+G+yP97vvvttp+sWLF5V50dHRyv/BwcFITU3Fm2++iX379gEAYmJiUF1dDTc3NwQHB8NkMiElJUXZ3wMCAlBZWYnXX38dJpMJkiQhODhY+UwJCwtDZWUlvvnmGxw8eBC33HILEhMT8d577yntVllZidOnTyvlWL58OY4dOwYA6Ny5szK/X79+2LhxI7777jv88ssvAK4fk+np6cox6e7ujqqqKqxduxaXLl2Ch4cHtm3b5jQ2ketiHwPUql4hXROqrq4Wt99+u+jXr58y7/PPPxcAxHfffafKY7FYRFpamkOe6upqkZ6eLkwmk+jWrZtIS0tTpT/66KPKtxc3NzfRvn17h+VvueUW1beE9PR0VbptL5P8PvhvhG5/WcBgMCjp3333nUPvkHztXU531jXdvXt3MWjQIAFcH49nn+7j4yNGjBihfGuyTzcajU6/CdtO8rdt+0ux+O83GfnSWk3jVQCIDz/80KHb3raOcu+VszrI72WfZjAYhMlkEqGhoQKAw2Ucuc3T0tKUMtr3CLi7uyttJJfJdh2229nZZSKTyeRwedG+jeSegGXLljlcxrNtw2nTptU6Psr+0rTBYBApKSlKHex7EU0mk/D393faQynXD4DShq7Gishj35yl2+7rzibbfX3gwIFO0+3b0P4SkZ+fn7j99tudrt9kMgkvLy9lX3Z1SUxue1eX6OTt7Gxfk9uxpm1jO2VkZNSYvnTpUofLilFRUcr/GzZsEP369VOld+/eXelVkF/bpvv4+CjpH330kcPYKKPRqLpU7mx8lbyPf/rppw49cTqdTtmP5s2bV+P4Kj8/P9XwDHm7yPuBp6enMBqNDseUbRvr9XpVm8g9YXJP4ty5c1U9THJd5F6pZ555RlRXVztcdrNdZv/+/ap6mkwmpfcoOztb9OjRQ7W8/b4aHBysOrZsj3cfHx8RGhoqgoKCVOm2y7dp00bVo2nbQw1ATJkyRVVeeT+Ut3N6eroyBEeun7u7u2rbGAwGh6EM8ufFrbfe6tDrbrsvJicni759+zq0ge3xHhMToxpPaZtuMBiEp6eniIuLU/V4xsfHq17bXsINCgoSkZGRwmKxiJCQEDFgwACh0+mUNuncubOIjY0V/fr1EwEBAaJLly7Cy8tLacf33ntPtS169uyp+mzevn27EEKI48ePi5CQENGhQweh1+vF7NmzlZ608vJyMW7cOKVNJUkSb775phBCiIqKCmVolU6nE2azWdxzzz0CgENcYWvixIlKbFJXzSZImzx5smjfvr0oLCxU5skN8f3336vy3HXXXSI9Pd0hz3333SeMRqNITU0V9957r0hPT1el/+lPfxKhoaHilltuEUajUQQFBYlt27YpO6w8dsnLy0sEBQUJvV6vXA75/vvvHU4uZrNZOfh37tzpEGR5e3srJ1FnY4GMRqOyvKuxQmazWSQmJro8Uer1eocTpf1J99Zbb3WZLr8H4Hw8km0dXI1Xkg+82uroapJPPq5uwPDz83M5pk5extVgW51OJwwGg8s28vT0FHq93uWHs5ubmzCbzcr7uwqw5HRnAY67u7vSBq4CJPtxd/bLBwUFuayDl5eXcHNzc7lunU4n9Hq9yzaUl3O1neQ2qGmwtO1+4mo7uRofI08BAQE11rGm7Sif3J19kanrdnY2CNl28vDwqDFdLqezbWif7ipPbe1c200cOp2u1vGnNR2vtkGdq3OS/aVH+zaqbTvXNB7N39+/xi8x8nu7qqOfn5/D+Cn79jObzS7HHcptIK/f1eD6mr5Yent7q9rA/j1sx1S6aoOabmiSB7u7aiO5DWprw5r25dqOZ/s6OksPCAhweROGPL7b1c04CQkJIjAw0OXNOBs3blS1hTwuWw7ud+zYISorK0VMTIyyvF6vF3fccYcSpL3wwguibdu2yphCo9EoTCaTyMvLE0IIsWPHDhETE6O0lcFgEP369RNDhgxxiE1k9913nxKb1FWzCNKmTp0q2rZtK7755hvV/JMnTwrg+jch2zwjRowQ48aNU+UZNWqUMBqNIjk5WVy5ckXJI6ffeeedok2bNqJ79+5i4MCByrf9f/7znwKAGD58uHL9vl+/fmL48OGquzLvvPNOYbFYlDEqycnJ4ve//71DelxcnPIN57e//a2SPnToUBEUFCRiYmJEly5dBKD+wN6wYYMysNp+3Fh8fLwArl9vd3annPxt28vLS5hMJocTYI8ePQQAMWDAgBpvEHA22Y5/Gzp0qLK8szu85HTbDwr7wMFoNAp3d3elTrbThg0blJ4U23FUtnXo1KmTamCv/Dc6Olppq6CgIOUDRi6vvLx8EpO/dXl4eKi2s7u7uwgICFDS3d3dVds5MTFRBAUF1XrXp3wCsa2D7fJ6vd5lL4U8SFaum30byCdaeT+R6yh/05XbQC6fnC5/25fLIO8n9vtEamqqQxvatoHchjExMU73dfkbb0xMjNKrY9sGS5cuVbazbQ+Es8n+hgY5/6233qq0o226/D5yuvxBYr+d7fcD+wBNbgNfX1+lnWzr2FIn+ThqzlNt+1RNX2qB2u+ubA5TbW1Q21TfNqjty0t9J1c37civ7QM3+xt63NzcVGNm5Xm24wF1Op0YMmSIsFqt4pNPPhEnTpwQY8eOdQiyfvnlF1FSUiIGDhwogoODxeTJk1WxiS3b2KSuND0mTQiBqVOnYt26dfjkk08QGRmpSo+MjITFYsGUKVOUPG3atEF+fj6Sk5MBXB+D4uHhgXfffRddu3ZFXl4e3NzclDwRERHw9PTEBx98gKCgIPj6+uJf//oX9uzZA+D6NXBPT0/k5+fDarUiODgY7733Hj777DNlnJPJZMIHH3ygjGewWCw4fPgwevTooZRVTg8ODlbGgfTv319J/+yzz9CmTRtYLBbccccdAKAad/Xss8/i9OnTsFgs+OMf/wjg+tgNAPj6668BAAUFBTAajejVq5dqjERBQQEkSYIkSQAADw8PeHl5KelHjx6Fp6cn9u7dCyEEJElSxifIYzUMBoOyjMlkgoeHh0MZP/vsM+W1PL7C9n0+++wzCCFgNBqVbWm7vDymKDg4GKNGjYK9Z599Fps2bYKbm5vDWKOjR48qbREXF4fy8nK4u7sr4y1Onjyp/G3Tpg2uXr0Ko9GojC2Qlweuj72QJAleXl64evWqMv5FFh4erqSXl5ertvORI0fQpk0b6HQ6ZezH9OnTlXSTyQS9Xo/w8HDcf//9qjrIy1utVlRVVSnjWOTtLDtw4AB8fX0dxtXZ1qFHjx4YM2YMvL29lToWFhaq2kDeJ+T0n376Ce7u7jh+/DiCg4NRUVEBk8mE8vJypQxGoxH79u1zaMNvv/1WVcaQkBBYLBZlX7cflxQeHg6LxYKRI0cCgDLuBQDeeOMNbNq0CUajURln4+Pjo6TLYxatVismT56sqqNch8OHD8NqtaKyslK1nS9fvqykt2nTBpWVlXBzc8PVq1eVOrq5ucHNzQ3t27dXbWdhM/5GbgMvLy9l/KHt8ezp6amMCYqKigLw/2OE5HT5GGrXrp3SZrZ0Oh2MRqMynkpON5lMShsYDAZYrVbodDrVfiJJEjw9PWEwGGA0GpU6ycu7u7vDy8tLte+5ubkhNDRUWa9cPvm4dHNzU51X5PUD/3+c247FlNNNJpMypi8+Pl5Jl9sjKCjIYWyeyWSCyWRSym0wGKDT6VTnIPmv7eeCnC6PUTOZTOjUqZOS7uPjo4zlkrVv3x4+Pj5wc3ODj48PBg4cqKQZjUZER0cjLCwMAQEBkCQJw4YNU5UzOjoaRqNROf/bjs0yGo3Q6XSwWq3KeCfb84FtWSMiIlTp8vlakiTEx8fDz89PVUe5DSRJQnR0tFIHeRvI53C5jPK28vHxUdYhn9dt29Db21s1ptfT0xOdOnVS9im5XPZt2LNnT2U72m7ne+65B126dFGl27bB3//+dyQkJMBoNCI0NBR6vR7//Oc/lfTc3FysW7cOwcHBCAsLg06nw6ZNm5T09evX44svvkB+fr6ynx44cEDZV9evX4+DBw+ioKAA/v7+kCQJBw4cwPvvv4/g4GAMHDgQcXFxOHjwIB544AFER0fjs88+Q1VVFXbv3o1PP/0UAwYMQMeOHeHh4eEwHtpsNiM4OBiXLl3Cjz/+iIyMDERGRsJqtSIvL0/JV1FRoYpN6qyenVqN6sEHHxRms1ls3bpVFBUVKdPly5eVPPKluqefflps2bJFjBw5UoSEhIgffvhBCCHEhAkTlOvJ8+bNE++8844YMmSICAkJEaWlpeLBBx9UvgmHhISI3Nxc0bt3b6HX60V4eLiYOHGi8i3abDaLZ599VqSkpAg/Pz/lmrscgXt4eAij0Sg6dOgg/Pz8RGJioqqnyNPTU3kGkE6nE4mJiaoxKZ6enuL2229XfUsIDAxUvR44cKDyWl62PregO0t3dos2oL50V1O6/frq0l1uO9n3ptnW0f4bkf06g4ODhb+/vyqf/aVB+x4t+zv1goKCVPNsH8lhNBqdjuuR8xuNRhEQEOD0zie5LWJjYx0uv0RFRaku49r2Vkn/fUyAnG5/mdG+TYKDg0VYWJhqO/To0UO1HewvETm7FGV/J6ur9rLfDvJy9o9lkO8aczZ5eHiI3/zmN6r1BAQEONzZZr+P2M5v166d00cP1HSpyna+/Tdr+/wmk0k1RtV+Pfb7mf2jFAD15VVnl1pt20weF2RbPtsyyenOjl+9Xu90OzlLt1+vXA7bfdS+vrZjmuz3nZrG+TmbbMdfAVCNB5XPxc7OYXq9XnmGl7P3ktPtj1fb8pnNZtGxY0eHusmXq5xdTvbw8FDGkJlMJhEQEKDazvZldXa8d+7cWfk/KCjI4Zxje3UjISHB4bK7/P7y0ASr1ao6b8pDGuQ2sD/ebce52b6Xs+3s7FKz7Xgw+VixfX+TySQGDx7ssF/aPtZm9OjRymeNPN/Hx0d4enoqd9XKY09t715OSUkR06dPVy5tBgQEKD303t7eIi0tTSxcuFBpI6vVKh588EFlf+3WrZtYtWqVyMzMVI5DObb497//LTw8PMRzzz0nioqKxJ///GfRtWtX8eCDDyqPBXrnnXfErl27RG5urjCZTGLx4sVi1qxZYu7cueKtt94SH3zwgXIloW/fvkps8txzzwmz2SzWrVsnvvzyS3HXXXe1vEdwuDrIly9fXuc8NZ0sTp06VaeTSlNOtT34sDVMtic4Tpxa89QSLqnW9Aw2gMc7p5qnmr4M3HLLLaobY+ynNm3a1JiekZEhunbt6jL9zjvvFNXV1eLee+9VfdkwmUwiMzNTlJeXK7GJ/DBbOaDu37+/+PLLL+sdB0n/DWSIiIiISEM0PSaNiIiIqLVikEZERESkQQzSiIiIiDSIQRoRERGRBjFIIyIiItIgBmlEREREGsQgjYiIiEiDGKQRERERaRCDNCJqcqmpqcjKymrqYhARaQqDNCJqVrZu3QpJkvDLL780dVGIiG4qBmlERL9CVVUVqqurm7oYRNSCMUgjokZ16dIljBs3Dt7e3ggNDcWLL76oSl+9ejV69uwJHx8fWK1WZGZmoqSkBABw+vRpDBgwAADg7+8PSZIwfvx4AIAQAvPnz0eHDh3g4eGBrl274l//+ledy7Vx40ZERUXBw8MDAwYMwMqVK1U9ditWrICfnx/ef/99xMXFwWQy4cyZMygtLcW4cePg7+8PT09PDBkyBCdOnFDWm52djW7duqneKzc3FxEREcrr8ePHY+TIkZg7dy5CQkLg6+uLSZMmoaKios7lJ6KWh0EaETWqRx99FFu2bMH69euxefNmbN26Ffv27VPSKyoq8PTTT+PgwYPYsGEDTp06pQRi4eHheOeddwAAx44dQ1FREf72t78BAObMmYPly5djyZIlOHz4MB5++GGMGTMG+fn5tZbp9OnT+P3vf4+RI0eioKAAkyZNwuzZsx3yXb58GfPmzcMbb7yBw4cPIyQkBOPHj8fevXuxceNG7NixA0IIDB06FNeuXatXu3z88cc4evQotmzZgrfeegvr16/H3Llz67UOImphBBFRI7lw4YIwGo1i7dq1yrxz584JDw8P8dBDDzldZvfu3QKAuHDhghBCiC1btggAorS0VMlz8eJF4e7uLrZv365adsKECeKuu+6qtVyPP/64iI+PV82bPXu26n2WL18uAIiCggIlz/HjxwUA8fnnnyvzfvrpJ+Hh4SH+8Y9/CCGEePLJJ0XXrl1V6164cKFo37698vqee+4RAQEB4tKlS8q8JUuWCG9vb1FVVVVr+YmoZdI3aYRIRK3KyZMnUVFRgaSkJGVeQEAAoqOjldcHDhxAdnY2CgoK8PPPPyvjvs6ePYu4uDin6z1y5AiuXr2KwYMHq+ZXVFSge/futZbr2LFj6NWrl2pe7969HfIZjUYkJCQor48ePQq9Xo8+ffoo8wIDAxEdHY2jR4/W+r62unbtCk9PT+V1UlISLl68iMLCQrRv375e6yKiloFBGhE1GiFEjemXLl1CWloa0tLSsHr1agQHB+Ps2bNIT0+vcXyWHMj9+9//Rps2bVRpJpOpTuWSJKnWsnp4eKjyuaqP7frc3Nwc8tXnUqh9uYio9eCYNCJqNB07doTBYMDOnTuVeaWlpTh+/DgA4KuvvsJPP/2E5557DrfddhtiYmKUmwZkRqMRwPW7K2XyQP6zZ8+iY8eOqik8PLzWcsXExGDPnj2qeXv37q11ubi4OFRWVmLXrl3KvHPnzuH48eOIjY0FAAQHB6O4uFgVqBUUFDis6+DBg7hy5YryeufOnfD29kbbtm1rLQcRtUwM0oio0Xh7e2PChAl49NFH8fHHH+PQoUMYP3483Nyun4ratWsHo9GIRYsW4ZtvvsHGjRvx9NNPq9bRvn17SJKE999/Hz/++CMuXrwIHx8fzJw5Ew8//DBWrlyJkydP4sCBA3jllVewcuXKWss1adIkfPXVV3j88cdx/Phx/OMf/8CKFSsA1NyTFRUVhYyMDEycOBHbtm3DwYMHMWbMGLRp0wYZGRkArj+o98cff8T8+fNx8uRJvPLKK/jPf/7jsK6KigpMmDABR44cwX/+8x88+eSTmDp1qtI2RNQKNeF4OCJqhS5cuCDGjBkjPD09hcViEfPnzxcpKSnKjQNr1qwRERERwmQyiaSkJLFx40YBQBw4cEBZx1NPPSWsVquQJEncc889Qgghqqurxd/+9jcRHR0tDAaDCA4OFunp6SI/P79O5Xr33XdFx44dhclkEqmpqWLJkiUCgLhy5YoQ4vqNA2az2WG5n3/+WYwdO1aYzWbh4eEh0tPTxfHjx1V5lixZIsLDw4WXl5cYN26cePbZZx1uHMjIyBB/+ctfRGBgoPD29hb33XefuHr1ap3blYhaHkmIWgaJEBG1Qs8++yxeffVVFBYW3vT3Gj9+PH755Rds2LDhpr8XETUfvHGAiAjA4sWL0atXLwQGBuLzzz/HCy+8gKlTpzZ1sYioFeNgByJq8R544AF4e3s7nR544AEAwIkTJ5CRkYG4uDg8/fTTmDFjBrKzs5u24ETUqvFyJxG1eCUlJTh//rzTNF9fX4SEhDRyiYiIascgjYiIiEiDeLmTiIiISIMYpBERERFpEIM0IiIiIg1ikEZERESkQQzSiIiIiDSIQRoRERGRBjFIIyIiItIgBmlEREREGvR/atR0mLPi+z0AAAAASUVORK5CYII=",
=======
      "image/png": "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",
>>>>>>> 9008d37c176dc55525b9ffdf345c9eafb5b17ac1
      "text/plain": [
       "<Figure size 640x480 with 1 Axes>"
      ]
     },
     "metadata": {},
     "output_type": "display_data"
    }
   ],
   "source": [
    "sns.barplot(x=\"date_group\", y=\"visits\", hue='platform', data=conversion, palette='dark:skyblue')"
   ]
  },
  {
   "cell_type": "code",
   "execution_count": null,
   "id": "e7b36960-128d-4b6b-b188-0354f5dab71b",
   "metadata": {},
   "outputs": [],
   "source": []
  },
  {
   "cell_type": "code",
   "execution_count": null,
   "id": "8a1fe470-b307-4e58-9a7f-6a32a3f036e4",
   "metadata": {},
   "outputs": [],
   "source": []
  },
  {
   "cell_type": "code",
   "execution_count": null,
   "id": "ec51039f-c371-498e-aab0-9635796f97c4",
   "metadata": {},
   "outputs": [],
   "source": []
  }
 ],
 "metadata": {
  "kernelspec": {
   "display_name": "Python [conda env:dashboard]",
   "language": "python",
   "name": "conda-env-dashboard-py"
  },
  "language_info": {
   "codemirror_mode": {
    "name": "ipython",
    "version": 3
   },
   "file_extension": ".py",
   "mimetype": "text/x-python",
   "name": "python",
   "nbconvert_exporter": "python",
   "pygments_lexer": "ipython3",
   "version": "3.12.7"
  }
 },
 "nbformat": 4,
 "nbformat_minor": 5
}
