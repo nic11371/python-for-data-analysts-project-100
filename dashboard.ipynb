{
 "cells": [
  {
   "cell_type": "code",
   "execution_count": null,
   "id": "87018ea9-2f9b-47bf-832b-eaa2ad61f720",
   "metadata": {},
   "outputs": [],
   "source": [
    "# Проект Дашборд конверсий"
   ]
  },
  {
   "cell_type": "code",
   "execution_count": null,
   "id": "8bb583d8-85f0-4422-bbf7-06a785fb5797",
   "metadata": {},
   "outputs": [],
   "source": [
    "## Загрузка библиотек"
   ]
  },
  {
   "cell_type": "code",
   "execution_count": 2,
   "id": "5b6fefc3-8df1-413b-ae16-2091ee25a821",
   "metadata": {},
   "outputs": [],
   "source": [
    "import pandas as pd\n",
    "import requests as req"
   ]
  },
  {
   "cell_type": "code",
   "execution_count": 3,
   "id": "8544ad62-37bd-49cb-90b4-2fbb0c0b68a3",
   "metadata": {},
   "outputs": [],
   "source": [
    "## Чтение и выборка зарегистрированных и посещаемых пользователей"
   ]
  },
  {
   "cell_type": "code",
   "execution_count": 4,
   "id": "4e2409c5-305c-4216-a792-96a8a8ac7d9e",
   "metadata": {},
   "outputs": [],
   "source": [
    "START = '2023-03-01'\n",
    "END = '2023-09-01'\n",
    "visitors_req = req.get('https://data-charts-api.hexlet.app/visits?begin=2023-03-01&end=2023-09-01')\n",
    "visitors = pd.DataFrame(visitors_req.json())\n",
    "regs_req = req.get('https://data-charts-api.hexlet.app/registrations?begin=2023-03-01&end=2023-09-01')\n",
    "regs = pd.DataFrame(regs_req.json())"
   ]
  },
  {
   "cell_type": "code",
   "execution_count": null,
   "id": "dfa19d14-630a-406a-a08f-af2306d7bba9",
   "metadata": {},
   "outputs": [],
   "source": [
    "## Анализ зарегистрированных пользователей"
   ]
  },
  {
   "cell_type": "code",
   "execution_count": 6,
   "id": "06ec9097-1ca2-4d22-9c6c-624874554d32",
   "metadata": {},
   "outputs": [
    {
     "data": {
      "text/html": [
       "<div>\n",
       "<style scoped>\n",
       "    .dataframe tbody tr th:only-of-type {\n",
       "        vertical-align: middle;\n",
       "    }\n",
       "\n",
       "    .dataframe tbody tr th {\n",
       "        vertical-align: top;\n",
       "    }\n",
       "\n",
       "    .dataframe thead th {\n",
       "        text-align: right;\n",
       "    }\n",
       "</style>\n",
       "<table border=\"1\" class=\"dataframe\">\n",
       "  <thead>\n",
       "    <tr style=\"text-align: right;\">\n",
       "      <th></th>\n",
       "      <th>visit_id</th>\n",
       "      <th>platform</th>\n",
       "      <th>user_agent</th>\n",
       "      <th>datetime</th>\n",
       "    </tr>\n",
       "  </thead>\n",
       "  <tbody>\n",
       "    <tr>\n",
       "      <th>count</th>\n",
       "      <td>263459</td>\n",
       "      <td>263459</td>\n",
       "      <td>263459</td>\n",
       "      <td>263459</td>\n",
       "    </tr>\n",
       "    <tr>\n",
       "      <th>unique</th>\n",
       "      <td>146085</td>\n",
       "      <td>4</td>\n",
       "      <td>32</td>\n",
       "      <td>261204</td>\n",
       "    </tr>\n",
       "    <tr>\n",
       "      <th>top</th>\n",
       "      <td>2cee521c-1747-4457-9e07-b186d6fdee05</td>\n",
       "      <td>web</td>\n",
       "      <td>Mozilla/5.0 (X11; Ubuntu; Linux x86_64; rv:109...</td>\n",
       "      <td>2023-06-01T19:26:40</td>\n",
       "    </tr>\n",
       "    <tr>\n",
       "      <th>freq</th>\n",
       "      <td>4</td>\n",
       "      <td>236301</td>\n",
       "      <td>13623</td>\n",
       "      <td>3</td>\n",
       "    </tr>\n",
       "  </tbody>\n",
       "</table>\n",
       "</div>"
      ],
      "text/plain": [
       "                                    visit_id platform  \\\n",
       "count                                 263459   263459   \n",
       "unique                                146085        4   \n",
       "top     2cee521c-1747-4457-9e07-b186d6fdee05      web   \n",
       "freq                                       4   236301   \n",
       "\n",
       "                                               user_agent             datetime  \n",
       "count                                              263459               263459  \n",
       "unique                                                 32               261204  \n",
       "top     Mozilla/5.0 (X11; Ubuntu; Linux x86_64; rv:109...  2023-06-01T19:26:40  \n",
       "freq                                                13623                    3  "
      ]
     },
     "execution_count": 6,
     "metadata": {},
     "output_type": "execute_result"
    }
   ],
   "source": [
    "visitors.describe()"
   ]
  },
  {
   "cell_type": "code",
   "execution_count": null,
   "id": "1f4504ab-d1a9-47f9-9eca-9ba13e7ed2e1",
   "metadata": {},
   "outputs": [],
   "source": [
    "## Анализ посещаемых пользователей"
   ]
  },
  {
   "cell_type": "code",
   "execution_count": 5,
   "id": "764c25e7-aa52-48b9-9707-03f8d8eee664",
   "metadata": {},
   "outputs": [
    {
     "data": {
      "text/html": [
       "<div>\n",
       "<style scoped>\n",
       "    .dataframe tbody tr th:only-of-type {\n",
       "        vertical-align: middle;\n",
       "    }\n",
       "\n",
       "    .dataframe tbody tr th {\n",
       "        vertical-align: top;\n",
       "    }\n",
       "\n",
       "    .dataframe thead th {\n",
       "        text-align: right;\n",
       "    }\n",
       "</style>\n",
       "<table border=\"1\" class=\"dataframe\">\n",
       "  <thead>\n",
       "    <tr style=\"text-align: right;\">\n",
       "      <th></th>\n",
       "      <th>datetime</th>\n",
       "      <th>user_id</th>\n",
       "      <th>email</th>\n",
       "      <th>platform</th>\n",
       "      <th>registration_type</th>\n",
       "    </tr>\n",
       "  </thead>\n",
       "  <tbody>\n",
       "    <tr>\n",
       "      <th>count</th>\n",
       "      <td>21836</td>\n",
       "      <td>21836</td>\n",
       "      <td>21836</td>\n",
       "      <td>21836</td>\n",
       "      <td>21836</td>\n",
       "    </tr>\n",
       "    <tr>\n",
       "      <th>unique</th>\n",
       "      <td>21821</td>\n",
       "      <td>21836</td>\n",
       "      <td>20868</td>\n",
       "      <td>3</td>\n",
       "      <td>4</td>\n",
       "    </tr>\n",
       "    <tr>\n",
       "      <th>top</th>\n",
       "      <td>2023-04-30T10:23:02</td>\n",
       "      <td>fe03e08a-8e86-4b5f-9a50-c18a02b0d234</td>\n",
       "      <td>ujones@example.com</td>\n",
       "      <td>android</td>\n",
       "      <td>email</td>\n",
       "    </tr>\n",
       "    <tr>\n",
       "      <th>freq</th>\n",
       "      <td>2</td>\n",
       "      <td>1</td>\n",
       "      <td>6</td>\n",
       "      <td>10582</td>\n",
       "      <td>8996</td>\n",
       "    </tr>\n",
       "  </tbody>\n",
       "</table>\n",
       "</div>"
      ],
      "text/plain": [
       "                   datetime                               user_id  \\\n",
       "count                 21836                                 21836   \n",
       "unique                21821                                 21836   \n",
       "top     2023-04-30T10:23:02  fe03e08a-8e86-4b5f-9a50-c18a02b0d234   \n",
       "freq                      2                                     1   \n",
       "\n",
       "                     email platform registration_type  \n",
       "count                21836    21836             21836  \n",
       "unique               20868        3                 4  \n",
       "top     ujones@example.com  android             email  \n",
       "freq                     6    10582              8996  "
      ]
     },
     "execution_count": 5,
     "metadata": {},
     "output_type": "execute_result"
    }
   ],
   "source": [
    "regs.describe()"
   ]
  },
  {
   "cell_type": "code",
   "execution_count": null,
   "id": "85c5f67f-b08b-4231-a8d9-49db3f3b79b4",
   "metadata": {},
   "outputs": [],
   "source": []
  }
 ],
 "metadata": {
  "kernelspec": {
   "display_name": "Python 3 (ipykernel)",
   "language": "python",
   "name": "python3"
  },
  "language_info": {
   "codemirror_mode": {
    "name": "ipython",
    "version": 3
   },
   "file_extension": ".py",
   "mimetype": "text/x-python",
   "name": "python",
   "nbconvert_exporter": "python",
   "pygments_lexer": "ipython3",
   "version": "3.12.9"
  }
 },
 "nbformat": 4,
 "nbformat_minor": 5
}
